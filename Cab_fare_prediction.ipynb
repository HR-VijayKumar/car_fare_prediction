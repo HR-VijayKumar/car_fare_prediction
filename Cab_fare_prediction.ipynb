{
 "cells": [
  {
   "cell_type": "markdown",
   "id": "a3cd02bc-f198-4061-b93d-4faa071efa86",
   "metadata": {},
   "source": [
    "## Import required libraries"
   ]
  },
  {
   "cell_type": "code",
   "execution_count": 2,
   "id": "512e508d-aa82-4b5b-823f-29f5e1552b02",
   "metadata": {},
   "outputs": [],
   "source": [
    "import os as os\n",
    "import pandas as pd\n",
    "import numpy as np\n",
    "import matplotlib.pyplot as plt\n",
    "import seaborn as sns\n",
    "from collections import Counter\n",
    "from sklearn.tree import DecisionTreeRegressor\n",
    "from sklearn.ensemble import RandomForestRegressor\n",
    "from sklearn.ensemble import GradientBoostingRegressor\n",
    "from sklearn.linear_model import LinearRegression\n",
    "from sklearn.model_selection import train_test_split\n",
    "from sklearn.metrics import mean_squared_error\n",
    "from sklearn.metrics import r2_score\n",
    "from pprint import pprint\n",
    "from sklearn.model_selection import GridSearchCV"
   ]
  },
  {
   "cell_type": "markdown",
   "id": "20e1a7e4-80a9-4408-bf13-66905dac9ea0",
   "metadata": {},
   "source": [
    "## Loading the data"
   ]
  },
  {
   "cell_type": "code",
   "execution_count": 4,
   "id": "1fdd7ffa-f485-45d2-99d4-5b3d12701ad0",
   "metadata": {},
   "outputs": [],
   "source": [
    "train = pd.read_csv(r\"Z:\\Edu-versity\\train_cab_fare.csv\")\n",
    "test = pd.read_csv(r\"Z:\\Edu-versity\\test_cab_fare.csv\")"
   ]
  },
  {
   "cell_type": "code",
   "execution_count": 5,
   "id": "b8d816f7-7e8c-4a12-b2e8-2729a9a8ea4e",
   "metadata": {},
   "outputs": [
    {
     "data": {
      "text/html": [
       "<div>\n",
       "<style scoped>\n",
       "    .dataframe tbody tr th:only-of-type {\n",
       "        vertical-align: middle;\n",
       "    }\n",
       "\n",
       "    .dataframe tbody tr th {\n",
       "        vertical-align: top;\n",
       "    }\n",
       "\n",
       "    .dataframe thead th {\n",
       "        text-align: right;\n",
       "    }\n",
       "</style>\n",
       "<table border=\"1\" class=\"dataframe\">\n",
       "  <thead>\n",
       "    <tr style=\"text-align: right;\">\n",
       "      <th></th>\n",
       "      <th>fare_amount</th>\n",
       "      <th>pickup_datetime</th>\n",
       "      <th>pickup_longitude</th>\n",
       "      <th>pickup_latitude</th>\n",
       "      <th>dropoff_longitude</th>\n",
       "      <th>dropoff_latitude</th>\n",
       "      <th>passenger_count</th>\n",
       "    </tr>\n",
       "  </thead>\n",
       "  <tbody>\n",
       "    <tr>\n",
       "      <th>0</th>\n",
       "      <td>4.5</td>\n",
       "      <td>2009-06-15 17:26:21 UTC</td>\n",
       "      <td>-73.844311</td>\n",
       "      <td>40.721319</td>\n",
       "      <td>-73.841610</td>\n",
       "      <td>40.712278</td>\n",
       "      <td>1.0</td>\n",
       "    </tr>\n",
       "    <tr>\n",
       "      <th>1</th>\n",
       "      <td>16.9</td>\n",
       "      <td>2010-01-05 16:52:16 UTC</td>\n",
       "      <td>-74.016048</td>\n",
       "      <td>40.711303</td>\n",
       "      <td>-73.979268</td>\n",
       "      <td>40.782004</td>\n",
       "      <td>1.0</td>\n",
       "    </tr>\n",
       "    <tr>\n",
       "      <th>2</th>\n",
       "      <td>5.7</td>\n",
       "      <td>2011-08-18 00:35:00 UTC</td>\n",
       "      <td>-73.982738</td>\n",
       "      <td>40.761270</td>\n",
       "      <td>-73.991242</td>\n",
       "      <td>40.750562</td>\n",
       "      <td>2.0</td>\n",
       "    </tr>\n",
       "    <tr>\n",
       "      <th>3</th>\n",
       "      <td>7.7</td>\n",
       "      <td>2012-04-21 04:30:42 UTC</td>\n",
       "      <td>-73.987130</td>\n",
       "      <td>40.733143</td>\n",
       "      <td>-73.991567</td>\n",
       "      <td>40.758092</td>\n",
       "      <td>1.0</td>\n",
       "    </tr>\n",
       "    <tr>\n",
       "      <th>4</th>\n",
       "      <td>5.3</td>\n",
       "      <td>2010-03-09 07:51:00 UTC</td>\n",
       "      <td>-73.968095</td>\n",
       "      <td>40.768008</td>\n",
       "      <td>-73.956655</td>\n",
       "      <td>40.783762</td>\n",
       "      <td>1.0</td>\n",
       "    </tr>\n",
       "  </tbody>\n",
       "</table>\n",
       "</div>"
      ],
      "text/plain": [
       "  fare_amount          pickup_datetime  pickup_longitude  pickup_latitude  \\\n",
       "0         4.5  2009-06-15 17:26:21 UTC        -73.844311        40.721319   \n",
       "1        16.9  2010-01-05 16:52:16 UTC        -74.016048        40.711303   \n",
       "2         5.7  2011-08-18 00:35:00 UTC        -73.982738        40.761270   \n",
       "3         7.7  2012-04-21 04:30:42 UTC        -73.987130        40.733143   \n",
       "4         5.3  2010-03-09 07:51:00 UTC        -73.968095        40.768008   \n",
       "\n",
       "   dropoff_longitude  dropoff_latitude  passenger_count  \n",
       "0         -73.841610         40.712278              1.0  \n",
       "1         -73.979268         40.782004              1.0  \n",
       "2         -73.991242         40.750562              2.0  \n",
       "3         -73.991567         40.758092              1.0  \n",
       "4         -73.956655         40.783762              1.0  "
      ]
     },
     "execution_count": 5,
     "metadata": {},
     "output_type": "execute_result"
    }
   ],
   "source": [
    "# First 5 rows\n",
    "train.head()"
   ]
  },
  {
   "cell_type": "code",
   "execution_count": 6,
   "id": "09206efa-68bb-4a79-b007-8cfe7cb18877",
   "metadata": {},
   "outputs": [
    {
     "data": {
      "text/html": [
       "<div>\n",
       "<style scoped>\n",
       "    .dataframe tbody tr th:only-of-type {\n",
       "        vertical-align: middle;\n",
       "    }\n",
       "\n",
       "    .dataframe tbody tr th {\n",
       "        vertical-align: top;\n",
       "    }\n",
       "\n",
       "    .dataframe thead th {\n",
       "        text-align: right;\n",
       "    }\n",
       "</style>\n",
       "<table border=\"1\" class=\"dataframe\">\n",
       "  <thead>\n",
       "    <tr style=\"text-align: right;\">\n",
       "      <th></th>\n",
       "      <th>pickup_datetime</th>\n",
       "      <th>pickup_longitude</th>\n",
       "      <th>pickup_latitude</th>\n",
       "      <th>dropoff_longitude</th>\n",
       "      <th>dropoff_latitude</th>\n",
       "      <th>passenger_count</th>\n",
       "    </tr>\n",
       "  </thead>\n",
       "  <tbody>\n",
       "    <tr>\n",
       "      <th>0</th>\n",
       "      <td>2015-01-27 13:08:24 UTC</td>\n",
       "      <td>-73.973320</td>\n",
       "      <td>40.763805</td>\n",
       "      <td>-73.981430</td>\n",
       "      <td>40.743835</td>\n",
       "      <td>1</td>\n",
       "    </tr>\n",
       "    <tr>\n",
       "      <th>1</th>\n",
       "      <td>2015-01-27 13:08:24 UTC</td>\n",
       "      <td>-73.986862</td>\n",
       "      <td>40.719383</td>\n",
       "      <td>-73.998886</td>\n",
       "      <td>40.739201</td>\n",
       "      <td>1</td>\n",
       "    </tr>\n",
       "    <tr>\n",
       "      <th>2</th>\n",
       "      <td>2011-10-08 11:53:44 UTC</td>\n",
       "      <td>-73.982524</td>\n",
       "      <td>40.751260</td>\n",
       "      <td>-73.979654</td>\n",
       "      <td>40.746139</td>\n",
       "      <td>1</td>\n",
       "    </tr>\n",
       "    <tr>\n",
       "      <th>3</th>\n",
       "      <td>2012-12-01 21:12:12 UTC</td>\n",
       "      <td>-73.981160</td>\n",
       "      <td>40.767807</td>\n",
       "      <td>-73.990448</td>\n",
       "      <td>40.751635</td>\n",
       "      <td>1</td>\n",
       "    </tr>\n",
       "    <tr>\n",
       "      <th>4</th>\n",
       "      <td>2012-12-01 21:12:12 UTC</td>\n",
       "      <td>-73.966046</td>\n",
       "      <td>40.789775</td>\n",
       "      <td>-73.988565</td>\n",
       "      <td>40.744427</td>\n",
       "      <td>1</td>\n",
       "    </tr>\n",
       "  </tbody>\n",
       "</table>\n",
       "</div>"
      ],
      "text/plain": [
       "           pickup_datetime  pickup_longitude  pickup_latitude  \\\n",
       "0  2015-01-27 13:08:24 UTC        -73.973320        40.763805   \n",
       "1  2015-01-27 13:08:24 UTC        -73.986862        40.719383   \n",
       "2  2011-10-08 11:53:44 UTC        -73.982524        40.751260   \n",
       "3  2012-12-01 21:12:12 UTC        -73.981160        40.767807   \n",
       "4  2012-12-01 21:12:12 UTC        -73.966046        40.789775   \n",
       "\n",
       "   dropoff_longitude  dropoff_latitude  passenger_count  \n",
       "0         -73.981430         40.743835                1  \n",
       "1         -73.998886         40.739201                1  \n",
       "2         -73.979654         40.746139                1  \n",
       "3         -73.990448         40.751635                1  \n",
       "4         -73.988565         40.744427                1  "
      ]
     },
     "execution_count": 6,
     "metadata": {},
     "output_type": "execute_result"
    }
   ],
   "source": [
    "# Last 5 rows\n",
    "test.head()"
   ]
  },
  {
   "cell_type": "markdown",
   "id": "058f791b-3dc0-4789-9006-f8ec4e8d067a",
   "metadata": {},
   "source": [
    "## Number of rows and columns"
   ]
  },
  {
   "cell_type": "code",
   "execution_count": 8,
   "id": "da8bab6c-46ef-4c92-a1b2-427b358a5531",
   "metadata": {},
   "outputs": [
    {
     "name": "stdout",
     "output_type": "stream",
     "text": [
      "the number of rows in training data  16067\n",
      "the number of columns in training data  7\n"
     ]
    }
   ],
   "source": [
    "print(\"the number of rows in training data \",train.shape[0])\n",
    "print(\"the number of columns in training data \",train.shape[1])"
   ]
  },
  {
   "cell_type": "code",
   "execution_count": 9,
   "id": "3a1a6b8a-c229-4179-bbd7-a1d9b337e032",
   "metadata": {},
   "outputs": [
    {
     "name": "stdout",
     "output_type": "stream",
     "text": [
      "the number of rows in training data  9914\n",
      "the number of columns in training data  6\n"
     ]
    }
   ],
   "source": [
    "print(\"the number of rows in training data \",test.shape[0])\n",
    "print(\"the number of columns in training data \",test.shape[1])"
   ]
  },
  {
   "cell_type": "markdown",
   "id": "45402aad-9645-4f62-a75f-e19e38fd04c8",
   "metadata": {},
   "source": [
    "## Data types of train and test"
   ]
  },
  {
   "cell_type": "code",
   "execution_count": 11,
   "id": "290a77a5-51eb-4c86-8252-f6f98ba2b3d0",
   "metadata": {},
   "outputs": [
    {
     "data": {
      "text/plain": [
       "fare_amount           object\n",
       "pickup_datetime       object\n",
       "pickup_longitude     float64\n",
       "pickup_latitude      float64\n",
       "dropoff_longitude    float64\n",
       "dropoff_latitude     float64\n",
       "passenger_count      float64\n",
       "dtype: object"
      ]
     },
     "execution_count": 11,
     "metadata": {},
     "output_type": "execute_result"
    }
   ],
   "source": [
    "train.dtypes"
   ]
  },
  {
   "cell_type": "code",
   "execution_count": 12,
   "id": "8c012dac-177c-425c-a67a-68706ca131e5",
   "metadata": {},
   "outputs": [
    {
     "data": {
      "text/plain": [
       "pickup_datetime       object\n",
       "pickup_longitude     float64\n",
       "pickup_latitude      float64\n",
       "dropoff_longitude    float64\n",
       "dropoff_latitude     float64\n",
       "passenger_count        int64\n",
       "dtype: object"
      ]
     },
     "execution_count": 12,
     "metadata": {},
     "output_type": "execute_result"
    }
   ],
   "source": [
    "test.dtypes"
   ]
  },
  {
   "cell_type": "markdown",
   "id": "02fdb87d-8ecc-4c13-a481-d28d4f6780e5",
   "metadata": {},
   "source": [
    "## Statistical analysis of test and train (numerical column)"
   ]
  },
  {
   "cell_type": "code",
   "execution_count": 14,
   "id": "ca9c9aac-6e6b-4962-8c5e-c386d570ed16",
   "metadata": {},
   "outputs": [
    {
     "data": {
      "text/html": [
       "<div>\n",
       "<style scoped>\n",
       "    .dataframe tbody tr th:only-of-type {\n",
       "        vertical-align: middle;\n",
       "    }\n",
       "\n",
       "    .dataframe tbody tr th {\n",
       "        vertical-align: top;\n",
       "    }\n",
       "\n",
       "    .dataframe thead th {\n",
       "        text-align: right;\n",
       "    }\n",
       "</style>\n",
       "<table border=\"1\" class=\"dataframe\">\n",
       "  <thead>\n",
       "    <tr style=\"text-align: right;\">\n",
       "      <th></th>\n",
       "      <th>pickup_longitude</th>\n",
       "      <th>pickup_latitude</th>\n",
       "      <th>dropoff_longitude</th>\n",
       "      <th>dropoff_latitude</th>\n",
       "      <th>passenger_count</th>\n",
       "    </tr>\n",
       "  </thead>\n",
       "  <tbody>\n",
       "    <tr>\n",
       "      <th>count</th>\n",
       "      <td>16067.000000</td>\n",
       "      <td>16067.000000</td>\n",
       "      <td>16067.000000</td>\n",
       "      <td>16067.000000</td>\n",
       "      <td>16012.000000</td>\n",
       "    </tr>\n",
       "    <tr>\n",
       "      <th>mean</th>\n",
       "      <td>-72.462787</td>\n",
       "      <td>39.914725</td>\n",
       "      <td>-72.462328</td>\n",
       "      <td>39.897906</td>\n",
       "      <td>2.625070</td>\n",
       "    </tr>\n",
       "    <tr>\n",
       "      <th>std</th>\n",
       "      <td>10.578384</td>\n",
       "      <td>6.826587</td>\n",
       "      <td>10.575062</td>\n",
       "      <td>6.187087</td>\n",
       "      <td>60.844122</td>\n",
       "    </tr>\n",
       "    <tr>\n",
       "      <th>min</th>\n",
       "      <td>-74.438233</td>\n",
       "      <td>-74.006893</td>\n",
       "      <td>-74.429332</td>\n",
       "      <td>-74.006377</td>\n",
       "      <td>0.000000</td>\n",
       "    </tr>\n",
       "    <tr>\n",
       "      <th>25%</th>\n",
       "      <td>-73.992156</td>\n",
       "      <td>40.734927</td>\n",
       "      <td>-73.991182</td>\n",
       "      <td>40.734651</td>\n",
       "      <td>1.000000</td>\n",
       "    </tr>\n",
       "    <tr>\n",
       "      <th>50%</th>\n",
       "      <td>-73.981698</td>\n",
       "      <td>40.752603</td>\n",
       "      <td>-73.980172</td>\n",
       "      <td>40.753567</td>\n",
       "      <td>1.000000</td>\n",
       "    </tr>\n",
       "    <tr>\n",
       "      <th>75%</th>\n",
       "      <td>-73.966838</td>\n",
       "      <td>40.767381</td>\n",
       "      <td>-73.963642</td>\n",
       "      <td>40.768014</td>\n",
       "      <td>2.000000</td>\n",
       "    </tr>\n",
       "    <tr>\n",
       "      <th>max</th>\n",
       "      <td>40.766125</td>\n",
       "      <td>401.083332</td>\n",
       "      <td>40.802437</td>\n",
       "      <td>41.366138</td>\n",
       "      <td>5345.000000</td>\n",
       "    </tr>\n",
       "  </tbody>\n",
       "</table>\n",
       "</div>"
      ],
      "text/plain": [
       "       pickup_longitude  pickup_latitude  dropoff_longitude  dropoff_latitude  \\\n",
       "count      16067.000000     16067.000000       16067.000000      16067.000000   \n",
       "mean         -72.462787        39.914725         -72.462328         39.897906   \n",
       "std           10.578384         6.826587          10.575062          6.187087   \n",
       "min          -74.438233       -74.006893         -74.429332        -74.006377   \n",
       "25%          -73.992156        40.734927         -73.991182         40.734651   \n",
       "50%          -73.981698        40.752603         -73.980172         40.753567   \n",
       "75%          -73.966838        40.767381         -73.963642         40.768014   \n",
       "max           40.766125       401.083332          40.802437         41.366138   \n",
       "\n",
       "       passenger_count  \n",
       "count     16012.000000  \n",
       "mean          2.625070  \n",
       "std          60.844122  \n",
       "min           0.000000  \n",
       "25%           1.000000  \n",
       "50%           1.000000  \n",
       "75%           2.000000  \n",
       "max        5345.000000  "
      ]
     },
     "execution_count": 14,
     "metadata": {},
     "output_type": "execute_result"
    }
   ],
   "source": [
    "train.describe()"
   ]
  },
  {
   "cell_type": "code",
   "execution_count": 15,
   "id": "e34ba20a-4d7c-4cfa-812b-2170586558a6",
   "metadata": {},
   "outputs": [
    {
     "data": {
      "text/html": [
       "<div>\n",
       "<style scoped>\n",
       "    .dataframe tbody tr th:only-of-type {\n",
       "        vertical-align: middle;\n",
       "    }\n",
       "\n",
       "    .dataframe tbody tr th {\n",
       "        vertical-align: top;\n",
       "    }\n",
       "\n",
       "    .dataframe thead th {\n",
       "        text-align: right;\n",
       "    }\n",
       "</style>\n",
       "<table border=\"1\" class=\"dataframe\">\n",
       "  <thead>\n",
       "    <tr style=\"text-align: right;\">\n",
       "      <th></th>\n",
       "      <th>pickup_longitude</th>\n",
       "      <th>pickup_latitude</th>\n",
       "      <th>dropoff_longitude</th>\n",
       "      <th>dropoff_latitude</th>\n",
       "      <th>passenger_count</th>\n",
       "    </tr>\n",
       "  </thead>\n",
       "  <tbody>\n",
       "    <tr>\n",
       "      <th>count</th>\n",
       "      <td>9914.000000</td>\n",
       "      <td>9914.000000</td>\n",
       "      <td>9914.000000</td>\n",
       "      <td>9914.000000</td>\n",
       "      <td>9914.000000</td>\n",
       "    </tr>\n",
       "    <tr>\n",
       "      <th>mean</th>\n",
       "      <td>-73.974722</td>\n",
       "      <td>40.751041</td>\n",
       "      <td>-73.973657</td>\n",
       "      <td>40.751743</td>\n",
       "      <td>1.671273</td>\n",
       "    </tr>\n",
       "    <tr>\n",
       "      <th>std</th>\n",
       "      <td>0.042774</td>\n",
       "      <td>0.033541</td>\n",
       "      <td>0.039072</td>\n",
       "      <td>0.035435</td>\n",
       "      <td>1.278747</td>\n",
       "    </tr>\n",
       "    <tr>\n",
       "      <th>min</th>\n",
       "      <td>-74.252193</td>\n",
       "      <td>40.573143</td>\n",
       "      <td>-74.263242</td>\n",
       "      <td>40.568973</td>\n",
       "      <td>1.000000</td>\n",
       "    </tr>\n",
       "    <tr>\n",
       "      <th>25%</th>\n",
       "      <td>-73.992501</td>\n",
       "      <td>40.736125</td>\n",
       "      <td>-73.991247</td>\n",
       "      <td>40.735254</td>\n",
       "      <td>1.000000</td>\n",
       "    </tr>\n",
       "    <tr>\n",
       "      <th>50%</th>\n",
       "      <td>-73.982326</td>\n",
       "      <td>40.753051</td>\n",
       "      <td>-73.980015</td>\n",
       "      <td>40.754065</td>\n",
       "      <td>1.000000</td>\n",
       "    </tr>\n",
       "    <tr>\n",
       "      <th>75%</th>\n",
       "      <td>-73.968013</td>\n",
       "      <td>40.767113</td>\n",
       "      <td>-73.964059</td>\n",
       "      <td>40.768757</td>\n",
       "      <td>2.000000</td>\n",
       "    </tr>\n",
       "    <tr>\n",
       "      <th>max</th>\n",
       "      <td>-72.986532</td>\n",
       "      <td>41.709555</td>\n",
       "      <td>-72.990963</td>\n",
       "      <td>41.696683</td>\n",
       "      <td>6.000000</td>\n",
       "    </tr>\n",
       "  </tbody>\n",
       "</table>\n",
       "</div>"
      ],
      "text/plain": [
       "       pickup_longitude  pickup_latitude  dropoff_longitude  dropoff_latitude  \\\n",
       "count       9914.000000      9914.000000        9914.000000       9914.000000   \n",
       "mean         -73.974722        40.751041         -73.973657         40.751743   \n",
       "std            0.042774         0.033541           0.039072          0.035435   \n",
       "min          -74.252193        40.573143         -74.263242         40.568973   \n",
       "25%          -73.992501        40.736125         -73.991247         40.735254   \n",
       "50%          -73.982326        40.753051         -73.980015         40.754065   \n",
       "75%          -73.968013        40.767113         -73.964059         40.768757   \n",
       "max          -72.986532        41.709555         -72.990963         41.696683   \n",
       "\n",
       "       passenger_count  \n",
       "count      9914.000000  \n",
       "mean          1.671273  \n",
       "std           1.278747  \n",
       "min           1.000000  \n",
       "25%           1.000000  \n",
       "50%           1.000000  \n",
       "75%           2.000000  \n",
       "max           6.000000  "
      ]
     },
     "execution_count": 15,
     "metadata": {},
     "output_type": "execute_result"
    }
   ],
   "source": [
    "test.describe()"
   ]
  },
  {
   "cell_type": "markdown",
   "id": "0a09ecea-611e-4d1c-ae48-51a9cc4c0d6f",
   "metadata": {},
   "source": [
    "## Statistical analysis of test and train (numerical and categorical columns)"
   ]
  },
  {
   "cell_type": "code",
   "execution_count": 17,
   "id": "b2f40c23-bda5-440a-8979-53cc5b76964a",
   "metadata": {},
   "outputs": [
    {
     "data": {
      "text/html": [
       "<div>\n",
       "<style scoped>\n",
       "    .dataframe tbody tr th:only-of-type {\n",
       "        vertical-align: middle;\n",
       "    }\n",
       "\n",
       "    .dataframe tbody tr th {\n",
       "        vertical-align: top;\n",
       "    }\n",
       "\n",
       "    .dataframe thead th {\n",
       "        text-align: right;\n",
       "    }\n",
       "</style>\n",
       "<table border=\"1\" class=\"dataframe\">\n",
       "  <thead>\n",
       "    <tr style=\"text-align: right;\">\n",
       "      <th></th>\n",
       "      <th>fare_amount</th>\n",
       "      <th>pickup_datetime</th>\n",
       "      <th>pickup_longitude</th>\n",
       "      <th>pickup_latitude</th>\n",
       "      <th>dropoff_longitude</th>\n",
       "      <th>dropoff_latitude</th>\n",
       "      <th>passenger_count</th>\n",
       "    </tr>\n",
       "  </thead>\n",
       "  <tbody>\n",
       "    <tr>\n",
       "      <th>count</th>\n",
       "      <td>16043</td>\n",
       "      <td>16067</td>\n",
       "      <td>16067.000000</td>\n",
       "      <td>16067.000000</td>\n",
       "      <td>16067.000000</td>\n",
       "      <td>16067.000000</td>\n",
       "      <td>16012.000000</td>\n",
       "    </tr>\n",
       "    <tr>\n",
       "      <th>unique</th>\n",
       "      <td>468</td>\n",
       "      <td>16021</td>\n",
       "      <td>NaN</td>\n",
       "      <td>NaN</td>\n",
       "      <td>NaN</td>\n",
       "      <td>NaN</td>\n",
       "      <td>NaN</td>\n",
       "    </tr>\n",
       "    <tr>\n",
       "      <th>top</th>\n",
       "      <td>6.5</td>\n",
       "      <td>2011-01-22 21:55:00 UTC</td>\n",
       "      <td>NaN</td>\n",
       "      <td>NaN</td>\n",
       "      <td>NaN</td>\n",
       "      <td>NaN</td>\n",
       "      <td>NaN</td>\n",
       "    </tr>\n",
       "    <tr>\n",
       "      <th>freq</th>\n",
       "      <td>759</td>\n",
       "      <td>2</td>\n",
       "      <td>NaN</td>\n",
       "      <td>NaN</td>\n",
       "      <td>NaN</td>\n",
       "      <td>NaN</td>\n",
       "      <td>NaN</td>\n",
       "    </tr>\n",
       "    <tr>\n",
       "      <th>mean</th>\n",
       "      <td>NaN</td>\n",
       "      <td>NaN</td>\n",
       "      <td>-72.462787</td>\n",
       "      <td>39.914725</td>\n",
       "      <td>-72.462328</td>\n",
       "      <td>39.897906</td>\n",
       "      <td>2.625070</td>\n",
       "    </tr>\n",
       "    <tr>\n",
       "      <th>std</th>\n",
       "      <td>NaN</td>\n",
       "      <td>NaN</td>\n",
       "      <td>10.578384</td>\n",
       "      <td>6.826587</td>\n",
       "      <td>10.575062</td>\n",
       "      <td>6.187087</td>\n",
       "      <td>60.844122</td>\n",
       "    </tr>\n",
       "    <tr>\n",
       "      <th>min</th>\n",
       "      <td>NaN</td>\n",
       "      <td>NaN</td>\n",
       "      <td>-74.438233</td>\n",
       "      <td>-74.006893</td>\n",
       "      <td>-74.429332</td>\n",
       "      <td>-74.006377</td>\n",
       "      <td>0.000000</td>\n",
       "    </tr>\n",
       "    <tr>\n",
       "      <th>25%</th>\n",
       "      <td>NaN</td>\n",
       "      <td>NaN</td>\n",
       "      <td>-73.992156</td>\n",
       "      <td>40.734927</td>\n",
       "      <td>-73.991182</td>\n",
       "      <td>40.734651</td>\n",
       "      <td>1.000000</td>\n",
       "    </tr>\n",
       "    <tr>\n",
       "      <th>50%</th>\n",
       "      <td>NaN</td>\n",
       "      <td>NaN</td>\n",
       "      <td>-73.981698</td>\n",
       "      <td>40.752603</td>\n",
       "      <td>-73.980172</td>\n",
       "      <td>40.753567</td>\n",
       "      <td>1.000000</td>\n",
       "    </tr>\n",
       "    <tr>\n",
       "      <th>75%</th>\n",
       "      <td>NaN</td>\n",
       "      <td>NaN</td>\n",
       "      <td>-73.966838</td>\n",
       "      <td>40.767381</td>\n",
       "      <td>-73.963642</td>\n",
       "      <td>40.768014</td>\n",
       "      <td>2.000000</td>\n",
       "    </tr>\n",
       "    <tr>\n",
       "      <th>max</th>\n",
       "      <td>NaN</td>\n",
       "      <td>NaN</td>\n",
       "      <td>40.766125</td>\n",
       "      <td>401.083332</td>\n",
       "      <td>40.802437</td>\n",
       "      <td>41.366138</td>\n",
       "      <td>5345.000000</td>\n",
       "    </tr>\n",
       "  </tbody>\n",
       "</table>\n",
       "</div>"
      ],
      "text/plain": [
       "       fare_amount          pickup_datetime  pickup_longitude  \\\n",
       "count        16043                    16067      16067.000000   \n",
       "unique         468                    16021               NaN   \n",
       "top            6.5  2011-01-22 21:55:00 UTC               NaN   \n",
       "freq           759                        2               NaN   \n",
       "mean           NaN                      NaN        -72.462787   \n",
       "std            NaN                      NaN         10.578384   \n",
       "min            NaN                      NaN        -74.438233   \n",
       "25%            NaN                      NaN        -73.992156   \n",
       "50%            NaN                      NaN        -73.981698   \n",
       "75%            NaN                      NaN        -73.966838   \n",
       "max            NaN                      NaN         40.766125   \n",
       "\n",
       "        pickup_latitude  dropoff_longitude  dropoff_latitude  passenger_count  \n",
       "count      16067.000000       16067.000000      16067.000000     16012.000000  \n",
       "unique              NaN                NaN               NaN              NaN  \n",
       "top                 NaN                NaN               NaN              NaN  \n",
       "freq                NaN                NaN               NaN              NaN  \n",
       "mean          39.914725         -72.462328         39.897906         2.625070  \n",
       "std            6.826587          10.575062          6.187087        60.844122  \n",
       "min          -74.006893         -74.429332        -74.006377         0.000000  \n",
       "25%           40.734927         -73.991182         40.734651         1.000000  \n",
       "50%           40.752603         -73.980172         40.753567         1.000000  \n",
       "75%           40.767381         -73.963642         40.768014         2.000000  \n",
       "max          401.083332          40.802437         41.366138      5345.000000  "
      ]
     },
     "execution_count": 17,
     "metadata": {},
     "output_type": "execute_result"
    }
   ],
   "source": [
    "train.describe(include = 'all')"
   ]
  },
  {
   "cell_type": "code",
   "execution_count": 18,
   "id": "cac62da6-1d47-44df-9b3b-d07bf90ee347",
   "metadata": {},
   "outputs": [
    {
     "data": {
      "text/html": [
       "<div>\n",
       "<style scoped>\n",
       "    .dataframe tbody tr th:only-of-type {\n",
       "        vertical-align: middle;\n",
       "    }\n",
       "\n",
       "    .dataframe tbody tr th {\n",
       "        vertical-align: top;\n",
       "    }\n",
       "\n",
       "    .dataframe thead th {\n",
       "        text-align: right;\n",
       "    }\n",
       "</style>\n",
       "<table border=\"1\" class=\"dataframe\">\n",
       "  <thead>\n",
       "    <tr style=\"text-align: right;\">\n",
       "      <th></th>\n",
       "      <th>pickup_datetime</th>\n",
       "      <th>pickup_longitude</th>\n",
       "      <th>pickup_latitude</th>\n",
       "      <th>dropoff_longitude</th>\n",
       "      <th>dropoff_latitude</th>\n",
       "      <th>passenger_count</th>\n",
       "    </tr>\n",
       "  </thead>\n",
       "  <tbody>\n",
       "    <tr>\n",
       "      <th>count</th>\n",
       "      <td>9914</td>\n",
       "      <td>9914.000000</td>\n",
       "      <td>9914.000000</td>\n",
       "      <td>9914.000000</td>\n",
       "      <td>9914.000000</td>\n",
       "      <td>9914.000000</td>\n",
       "    </tr>\n",
       "    <tr>\n",
       "      <th>unique</th>\n",
       "      <td>1753</td>\n",
       "      <td>NaN</td>\n",
       "      <td>NaN</td>\n",
       "      <td>NaN</td>\n",
       "      <td>NaN</td>\n",
       "      <td>NaN</td>\n",
       "    </tr>\n",
       "    <tr>\n",
       "      <th>top</th>\n",
       "      <td>2011-12-13 22:00:00 UTC</td>\n",
       "      <td>NaN</td>\n",
       "      <td>NaN</td>\n",
       "      <td>NaN</td>\n",
       "      <td>NaN</td>\n",
       "      <td>NaN</td>\n",
       "    </tr>\n",
       "    <tr>\n",
       "      <th>freq</th>\n",
       "      <td>270</td>\n",
       "      <td>NaN</td>\n",
       "      <td>NaN</td>\n",
       "      <td>NaN</td>\n",
       "      <td>NaN</td>\n",
       "      <td>NaN</td>\n",
       "    </tr>\n",
       "    <tr>\n",
       "      <th>mean</th>\n",
       "      <td>NaN</td>\n",
       "      <td>-73.974722</td>\n",
       "      <td>40.751041</td>\n",
       "      <td>-73.973657</td>\n",
       "      <td>40.751743</td>\n",
       "      <td>1.671273</td>\n",
       "    </tr>\n",
       "    <tr>\n",
       "      <th>std</th>\n",
       "      <td>NaN</td>\n",
       "      <td>0.042774</td>\n",
       "      <td>0.033541</td>\n",
       "      <td>0.039072</td>\n",
       "      <td>0.035435</td>\n",
       "      <td>1.278747</td>\n",
       "    </tr>\n",
       "    <tr>\n",
       "      <th>min</th>\n",
       "      <td>NaN</td>\n",
       "      <td>-74.252193</td>\n",
       "      <td>40.573143</td>\n",
       "      <td>-74.263242</td>\n",
       "      <td>40.568973</td>\n",
       "      <td>1.000000</td>\n",
       "    </tr>\n",
       "    <tr>\n",
       "      <th>25%</th>\n",
       "      <td>NaN</td>\n",
       "      <td>-73.992501</td>\n",
       "      <td>40.736125</td>\n",
       "      <td>-73.991247</td>\n",
       "      <td>40.735254</td>\n",
       "      <td>1.000000</td>\n",
       "    </tr>\n",
       "    <tr>\n",
       "      <th>50%</th>\n",
       "      <td>NaN</td>\n",
       "      <td>-73.982326</td>\n",
       "      <td>40.753051</td>\n",
       "      <td>-73.980015</td>\n",
       "      <td>40.754065</td>\n",
       "      <td>1.000000</td>\n",
       "    </tr>\n",
       "    <tr>\n",
       "      <th>75%</th>\n",
       "      <td>NaN</td>\n",
       "      <td>-73.968013</td>\n",
       "      <td>40.767113</td>\n",
       "      <td>-73.964059</td>\n",
       "      <td>40.768757</td>\n",
       "      <td>2.000000</td>\n",
       "    </tr>\n",
       "    <tr>\n",
       "      <th>max</th>\n",
       "      <td>NaN</td>\n",
       "      <td>-72.986532</td>\n",
       "      <td>41.709555</td>\n",
       "      <td>-72.990963</td>\n",
       "      <td>41.696683</td>\n",
       "      <td>6.000000</td>\n",
       "    </tr>\n",
       "  </tbody>\n",
       "</table>\n",
       "</div>"
      ],
      "text/plain": [
       "                pickup_datetime  pickup_longitude  pickup_latitude  \\\n",
       "count                      9914       9914.000000      9914.000000   \n",
       "unique                     1753               NaN              NaN   \n",
       "top     2011-12-13 22:00:00 UTC               NaN              NaN   \n",
       "freq                        270               NaN              NaN   \n",
       "mean                        NaN        -73.974722        40.751041   \n",
       "std                         NaN          0.042774         0.033541   \n",
       "min                         NaN        -74.252193        40.573143   \n",
       "25%                         NaN        -73.992501        40.736125   \n",
       "50%                         NaN        -73.982326        40.753051   \n",
       "75%                         NaN        -73.968013        40.767113   \n",
       "max                         NaN        -72.986532        41.709555   \n",
       "\n",
       "        dropoff_longitude  dropoff_latitude  passenger_count  \n",
       "count         9914.000000       9914.000000      9914.000000  \n",
       "unique                NaN               NaN              NaN  \n",
       "top                   NaN               NaN              NaN  \n",
       "freq                  NaN               NaN              NaN  \n",
       "mean           -73.973657         40.751743         1.671273  \n",
       "std              0.039072          0.035435         1.278747  \n",
       "min            -74.263242         40.568973         1.000000  \n",
       "25%            -73.991247         40.735254         1.000000  \n",
       "50%            -73.980015         40.754065         1.000000  \n",
       "75%            -73.964059         40.768757         2.000000  \n",
       "max            -72.990963         41.696683         6.000000  "
      ]
     },
     "execution_count": 18,
     "metadata": {},
     "output_type": "execute_result"
    }
   ],
   "source": [
    "test.describe(include = 'all')"
   ]
  },
  {
   "cell_type": "markdown",
   "id": "a2658052-bb5a-41d6-93db-a9500a395fd7",
   "metadata": {},
   "source": [
    "## Information about the train and test"
   ]
  },
  {
   "cell_type": "code",
   "execution_count": 20,
   "id": "119e55eb-70d2-4f45-8388-c89b83827fbf",
   "metadata": {},
   "outputs": [
    {
     "name": "stdout",
     "output_type": "stream",
     "text": [
      "<class 'pandas.core.frame.DataFrame'>\n",
      "RangeIndex: 16067 entries, 0 to 16066\n",
      "Data columns (total 7 columns):\n",
      " #   Column             Non-Null Count  Dtype  \n",
      "---  ------             --------------  -----  \n",
      " 0   fare_amount        16043 non-null  object \n",
      " 1   pickup_datetime    16067 non-null  object \n",
      " 2   pickup_longitude   16067 non-null  float64\n",
      " 3   pickup_latitude    16067 non-null  float64\n",
      " 4   dropoff_longitude  16067 non-null  float64\n",
      " 5   dropoff_latitude   16067 non-null  float64\n",
      " 6   passenger_count    16012 non-null  float64\n",
      "dtypes: float64(5), object(2)\n",
      "memory usage: 878.8+ KB\n"
     ]
    }
   ],
   "source": [
    "train.info()"
   ]
  },
  {
   "cell_type": "code",
   "execution_count": 21,
   "id": "9f9c1971-2f97-4856-b882-1f58804ba887",
   "metadata": {},
   "outputs": [
    {
     "name": "stdout",
     "output_type": "stream",
     "text": [
      "<class 'pandas.core.frame.DataFrame'>\n",
      "RangeIndex: 9914 entries, 0 to 9913\n",
      "Data columns (total 6 columns):\n",
      " #   Column             Non-Null Count  Dtype  \n",
      "---  ------             --------------  -----  \n",
      " 0   pickup_datetime    9914 non-null   object \n",
      " 1   pickup_longitude   9914 non-null   float64\n",
      " 2   pickup_latitude    9914 non-null   float64\n",
      " 3   dropoff_longitude  9914 non-null   float64\n",
      " 4   dropoff_latitude   9914 non-null   float64\n",
      " 5   passenger_count    9914 non-null   int64  \n",
      "dtypes: float64(4), int64(1), object(1)\n",
      "memory usage: 464.8+ KB\n"
     ]
    }
   ],
   "source": [
    "test.info()"
   ]
  },
  {
   "cell_type": "markdown",
   "id": "a9a580b8-cd71-45cf-b4b4-cbf54c60e41b",
   "metadata": {},
   "source": [
    "## Data pre-processing"
   ]
  },
  {
   "cell_type": "markdown",
   "id": "64151328-1bf9-4e37-b26d-0d3d9d2a60bf",
   "metadata": {},
   "source": [
    "### Data exploration and missing value analysis"
   ]
  },
  {
   "cell_type": "code",
   "execution_count": 24,
   "id": "9e10619c-93f2-48b0-bcb1-f00c50da4e93",
   "metadata": {},
   "outputs": [],
   "source": [
    "# Converting the fare_amount from object to numeric\n",
    "\n",
    "train['fare_amount'] = pd.to_numeric(train['fare_amount'], errors = 'coerce') # convert the null values into NaN"
   ]
  },
  {
   "cell_type": "code",
   "execution_count": 25,
   "id": "8167550e-4b8b-4599-869b-e1e1d59fb3a8",
   "metadata": {},
   "outputs": [
    {
     "data": {
      "text/plain": [
       "fare_amount          float64\n",
       "pickup_datetime       object\n",
       "pickup_longitude     float64\n",
       "pickup_latitude      float64\n",
       "dropoff_longitude    float64\n",
       "dropoff_latitude     float64\n",
       "passenger_count      float64\n",
       "dtype: object"
      ]
     },
     "execution_count": 25,
     "metadata": {},
     "output_type": "execute_result"
    }
   ],
   "source": [
    "train.dtypes"
   ]
  },
  {
   "cell_type": "code",
   "execution_count": 26,
   "id": "f5618bb3-c419-453e-a64c-d472332efb32",
   "metadata": {},
   "outputs": [
    {
     "data": {
      "text/html": [
       "<div>\n",
       "<style scoped>\n",
       "    .dataframe tbody tr th:only-of-type {\n",
       "        vertical-align: middle;\n",
       "    }\n",
       "\n",
       "    .dataframe tbody tr th {\n",
       "        vertical-align: top;\n",
       "    }\n",
       "\n",
       "    .dataframe thead th {\n",
       "        text-align: right;\n",
       "    }\n",
       "</style>\n",
       "<table border=\"1\" class=\"dataframe\">\n",
       "  <thead>\n",
       "    <tr style=\"text-align: right;\">\n",
       "      <th></th>\n",
       "      <th>fare_amount</th>\n",
       "      <th>pickup_datetime</th>\n",
       "      <th>pickup_longitude</th>\n",
       "      <th>pickup_latitude</th>\n",
       "      <th>dropoff_longitude</th>\n",
       "      <th>dropoff_latitude</th>\n",
       "      <th>passenger_count</th>\n",
       "    </tr>\n",
       "  </thead>\n",
       "  <tbody>\n",
       "    <tr>\n",
       "      <th>0</th>\n",
       "      <td>4.5</td>\n",
       "      <td>2009-06-15 17:26:21 UTC</td>\n",
       "      <td>-73.844311</td>\n",
       "      <td>40.721319</td>\n",
       "      <td>-73.841610</td>\n",
       "      <td>40.712278</td>\n",
       "      <td>1.0</td>\n",
       "    </tr>\n",
       "    <tr>\n",
       "      <th>1</th>\n",
       "      <td>16.9</td>\n",
       "      <td>2010-01-05 16:52:16 UTC</td>\n",
       "      <td>-74.016048</td>\n",
       "      <td>40.711303</td>\n",
       "      <td>-73.979268</td>\n",
       "      <td>40.782004</td>\n",
       "      <td>1.0</td>\n",
       "    </tr>\n",
       "    <tr>\n",
       "      <th>2</th>\n",
       "      <td>5.7</td>\n",
       "      <td>2011-08-18 00:35:00 UTC</td>\n",
       "      <td>-73.982738</td>\n",
       "      <td>40.761270</td>\n",
       "      <td>-73.991242</td>\n",
       "      <td>40.750562</td>\n",
       "      <td>2.0</td>\n",
       "    </tr>\n",
       "    <tr>\n",
       "      <th>3</th>\n",
       "      <td>7.7</td>\n",
       "      <td>2012-04-21 04:30:42 UTC</td>\n",
       "      <td>-73.987130</td>\n",
       "      <td>40.733143</td>\n",
       "      <td>-73.991567</td>\n",
       "      <td>40.758092</td>\n",
       "      <td>1.0</td>\n",
       "    </tr>\n",
       "    <tr>\n",
       "      <th>4</th>\n",
       "      <td>5.3</td>\n",
       "      <td>2010-03-09 07:51:00 UTC</td>\n",
       "      <td>-73.968095</td>\n",
       "      <td>40.768008</td>\n",
       "      <td>-73.956655</td>\n",
       "      <td>40.783762</td>\n",
       "      <td>1.0</td>\n",
       "    </tr>\n",
       "    <tr>\n",
       "      <th>...</th>\n",
       "      <td>...</td>\n",
       "      <td>...</td>\n",
       "      <td>...</td>\n",
       "      <td>...</td>\n",
       "      <td>...</td>\n",
       "      <td>...</td>\n",
       "      <td>...</td>\n",
       "    </tr>\n",
       "    <tr>\n",
       "      <th>16062</th>\n",
       "      <td>6.5</td>\n",
       "      <td>2014-12-12 07:41:00 UTC</td>\n",
       "      <td>-74.008820</td>\n",
       "      <td>40.718757</td>\n",
       "      <td>-73.998865</td>\n",
       "      <td>40.719987</td>\n",
       "      <td>1.0</td>\n",
       "    </tr>\n",
       "    <tr>\n",
       "      <th>16063</th>\n",
       "      <td>16.1</td>\n",
       "      <td>2009-07-13 07:58:00 UTC</td>\n",
       "      <td>-73.981310</td>\n",
       "      <td>40.781695</td>\n",
       "      <td>-74.014392</td>\n",
       "      <td>40.715527</td>\n",
       "      <td>2.0</td>\n",
       "    </tr>\n",
       "    <tr>\n",
       "      <th>16064</th>\n",
       "      <td>8.5</td>\n",
       "      <td>2009-11-11 11:19:07 UTC</td>\n",
       "      <td>-73.972507</td>\n",
       "      <td>40.753417</td>\n",
       "      <td>-73.979577</td>\n",
       "      <td>40.765495</td>\n",
       "      <td>1.0</td>\n",
       "    </tr>\n",
       "    <tr>\n",
       "      <th>16065</th>\n",
       "      <td>8.1</td>\n",
       "      <td>2010-05-11 23:53:00 UTC</td>\n",
       "      <td>-73.957027</td>\n",
       "      <td>40.765945</td>\n",
       "      <td>-73.981983</td>\n",
       "      <td>40.779560</td>\n",
       "      <td>1.0</td>\n",
       "    </tr>\n",
       "    <tr>\n",
       "      <th>16066</th>\n",
       "      <td>8.5</td>\n",
       "      <td>2011-12-14 06:24:33 UTC</td>\n",
       "      <td>-74.002111</td>\n",
       "      <td>40.729755</td>\n",
       "      <td>-73.983877</td>\n",
       "      <td>40.761975</td>\n",
       "      <td>NaN</td>\n",
       "    </tr>\n",
       "  </tbody>\n",
       "</table>\n",
       "<p>16067 rows × 7 columns</p>\n",
       "</div>"
      ],
      "text/plain": [
       "       fare_amount          pickup_datetime  pickup_longitude  \\\n",
       "0              4.5  2009-06-15 17:26:21 UTC        -73.844311   \n",
       "1             16.9  2010-01-05 16:52:16 UTC        -74.016048   \n",
       "2              5.7  2011-08-18 00:35:00 UTC        -73.982738   \n",
       "3              7.7  2012-04-21 04:30:42 UTC        -73.987130   \n",
       "4              5.3  2010-03-09 07:51:00 UTC        -73.968095   \n",
       "...            ...                      ...               ...   \n",
       "16062          6.5  2014-12-12 07:41:00 UTC        -74.008820   \n",
       "16063         16.1  2009-07-13 07:58:00 UTC        -73.981310   \n",
       "16064          8.5  2009-11-11 11:19:07 UTC        -73.972507   \n",
       "16065          8.1  2010-05-11 23:53:00 UTC        -73.957027   \n",
       "16066          8.5  2011-12-14 06:24:33 UTC        -74.002111   \n",
       "\n",
       "       pickup_latitude  dropoff_longitude  dropoff_latitude  passenger_count  \n",
       "0            40.721319         -73.841610         40.712278              1.0  \n",
       "1            40.711303         -73.979268         40.782004              1.0  \n",
       "2            40.761270         -73.991242         40.750562              2.0  \n",
       "3            40.733143         -73.991567         40.758092              1.0  \n",
       "4            40.768008         -73.956655         40.783762              1.0  \n",
       "...                ...                ...               ...              ...  \n",
       "16062        40.718757         -73.998865         40.719987              1.0  \n",
       "16063        40.781695         -74.014392         40.715527              2.0  \n",
       "16064        40.753417         -73.979577         40.765495              1.0  \n",
       "16065        40.765945         -73.981983         40.779560              1.0  \n",
       "16066        40.729755         -73.983877         40.761975              NaN  \n",
       "\n",
       "[16067 rows x 7 columns]"
      ]
     },
     "execution_count": 26,
     "metadata": {},
     "output_type": "execute_result"
    }
   ],
   "source": [
    "# Droping NA values\n",
    "\n",
    "train.dropna(subset = [\"pickup_datetime\"])"
   ]
  },
  {
   "cell_type": "code",
   "execution_count": 27,
   "id": "f8e99240-fb2f-4601-962d-b67d5d0c2a93",
   "metadata": {},
   "outputs": [],
   "source": [
    "# Converting pickup_datetime from object to datetime\n",
    "\n",
    "train[\"pickup_datetime\"] = pd.to_datetime(train[\"pickup_datetime\"], format='%Y-%m-%d %H:%M:%S UTC', errors='coerce')"
   ]
  },
  {
   "cell_type": "code",
   "execution_count": 28,
   "id": "d243826c-94b6-4b04-94e6-38098d989875",
   "metadata": {},
   "outputs": [
    {
     "data": {
      "text/plain": [
       "fare_amount                 float64\n",
       "pickup_datetime      datetime64[ns]\n",
       "pickup_longitude            float64\n",
       "pickup_latitude             float64\n",
       "dropoff_longitude           float64\n",
       "dropoff_latitude            float64\n",
       "passenger_count             float64\n",
       "dtype: object"
      ]
     },
     "execution_count": 28,
     "metadata": {},
     "output_type": "execute_result"
    }
   ],
   "source": [
    "train.dtypes"
   ]
  },
  {
   "cell_type": "code",
   "execution_count": 29,
   "id": "469a354c-455c-4ba1-a662-4ec6f079dda8",
   "metadata": {},
   "outputs": [],
   "source": [
    "#  we will be seperating the pickup_datetime function into year, month, day etc\n",
    "\n",
    "train['Year'] = train['pickup_datetime'].dt.year\n",
    "train['Month'] = train['pickup_datetime'].dt.month\n",
    "train['Date'] = train['pickup_datetime'].dt.day\n",
    "train['Day'] = train['pickup_datetime'].dt.dayofweek\n",
    "train['Hour'] = train['pickup_datetime'].dt.hour\n",
    "train['Minute'] = train['pickup_datetime'].dt.minute"
   ]
  },
  {
   "cell_type": "code",
   "execution_count": 30,
   "id": "bcac068d-0d36-4d98-88f1-391924a2bb96",
   "metadata": {},
   "outputs": [
    {
     "name": "stdout",
     "output_type": "stream",
     "text": [
      "<class 'pandas.core.frame.DataFrame'>\n",
      "RangeIndex: 16067 entries, 0 to 16066\n",
      "Data columns (total 13 columns):\n",
      " #   Column             Non-Null Count  Dtype         \n",
      "---  ------             --------------  -----         \n",
      " 0   fare_amount        16042 non-null  float64       \n",
      " 1   pickup_datetime    16066 non-null  datetime64[ns]\n",
      " 2   pickup_longitude   16067 non-null  float64       \n",
      " 3   pickup_latitude    16067 non-null  float64       \n",
      " 4   dropoff_longitude  16067 non-null  float64       \n",
      " 5   dropoff_latitude   16067 non-null  float64       \n",
      " 6   passenger_count    16012 non-null  float64       \n",
      " 7   Year               16066 non-null  float64       \n",
      " 8   Month              16066 non-null  float64       \n",
      " 9   Date               16066 non-null  float64       \n",
      " 10  Day                16066 non-null  float64       \n",
      " 11  Hour               16066 non-null  float64       \n",
      " 12  Minute             16066 non-null  float64       \n",
      "dtypes: datetime64[ns](1), float64(12)\n",
      "memory usage: 1.6 MB\n"
     ]
    }
   ],
   "source": [
    "train.info()  # Rechecking the Data Types of train"
   ]
  },
  {
   "cell_type": "code",
   "execution_count": 31,
   "id": "7380cadb-4979-4bf4-9166-43ceb40b13e6",
   "metadata": {},
   "outputs": [],
   "source": [
    "# Converting pickup_datetime from object to datetime\n",
    "\n",
    "test[\"pickup_datetime\"] = pd.to_datetime(test[\"pickup_datetime\"], format='%Y-%m-%d %H:%M:%S UTC', errors='coerce')"
   ]
  },
  {
   "cell_type": "code",
   "execution_count": 32,
   "id": "96e511c6-a9a7-4d46-a873-2ecf13b4f23f",
   "metadata": {},
   "outputs": [],
   "source": [
    "#  we will be seperating the pickup_datetime function into year, month, day etc\n",
    "\n",
    "test['Year'] = test['pickup_datetime'].dt.year\n",
    "test['Month'] = test['pickup_datetime'].dt.month\n",
    "test['Date'] = test['pickup_datetime'].dt.day\n",
    "test['Day'] = test['pickup_datetime'].dt.dayofweek\n",
    "test['Hour'] = test['pickup_datetime'].dt.hour\n",
    "test['Minute'] = test['pickup_datetime'].dt.minute"
   ]
  },
  {
   "cell_type": "code",
   "execution_count": 33,
   "id": "55124768-a5e2-40ae-8477-dbc0f1c285e4",
   "metadata": {},
   "outputs": [
    {
     "name": "stdout",
     "output_type": "stream",
     "text": [
      "<class 'pandas.core.frame.DataFrame'>\n",
      "RangeIndex: 9914 entries, 0 to 9913\n",
      "Data columns (total 12 columns):\n",
      " #   Column             Non-Null Count  Dtype         \n",
      "---  ------             --------------  -----         \n",
      " 0   pickup_datetime    9914 non-null   datetime64[ns]\n",
      " 1   pickup_longitude   9914 non-null   float64       \n",
      " 2   pickup_latitude    9914 non-null   float64       \n",
      " 3   dropoff_longitude  9914 non-null   float64       \n",
      " 4   dropoff_latitude   9914 non-null   float64       \n",
      " 5   passenger_count    9914 non-null   int64         \n",
      " 6   Year               9914 non-null   int32         \n",
      " 7   Month              9914 non-null   int32         \n",
      " 8   Date               9914 non-null   int32         \n",
      " 9   Day                9914 non-null   int32         \n",
      " 10  Hour               9914 non-null   int32         \n",
      " 11  Minute             9914 non-null   int32         \n",
      "dtypes: datetime64[ns](1), float64(4), int32(6), int64(1)\n",
      "memory usage: 697.2 KB\n"
     ]
    }
   ],
   "source": [
    "test.info()  # Rechecking the Data Types of test"
   ]
  },
  {
   "cell_type": "markdown",
   "id": "707322db-1022-4797-b51b-2555c239c4f0",
   "metadata": {},
   "source": [
    "### Missing value analysis"
   ]
  },
  {
   "cell_type": "code",
   "execution_count": 35,
   "id": "c85a48e9-90b3-4c85-be42-7ca4b1e709f1",
   "metadata": {},
   "outputs": [
    {
     "data": {
      "text/plain": [
       "(16066, 13)"
      ]
     },
     "execution_count": 35,
     "metadata": {},
     "output_type": "execute_result"
    }
   ],
   "source": [
    "# Droping the null values from pickup_datetime column\n",
    "\n",
    "train = train.drop(train[train['pickup_datetime'].isnull()].index, axis = 0)\n",
    "train.shape"
   ]
  },
  {
   "cell_type": "code",
   "execution_count": 36,
   "id": "fbd36edc-b87a-4060-9391-2d697d2f2212",
   "metadata": {},
   "outputs": [
    {
     "name": "stdout",
     "output_type": "stream",
     "text": [
      "0\n"
     ]
    }
   ],
   "source": [
    "print(train['pickup_datetime'].isnull().sum())"
   ]
  },
  {
   "cell_type": "code",
   "execution_count": 37,
   "id": "f993367e-a22a-48ca-8745-bf16905ef086",
   "metadata": {},
   "outputs": [
    {
     "data": {
      "text/plain": [
       "count    16011.000000\n",
       "mean         2.625171\n",
       "std         60.846021\n",
       "min          0.000000\n",
       "25%          1.000000\n",
       "50%          1.000000\n",
       "75%          2.000000\n",
       "max       5345.000000\n",
       "Name: passenger_count, dtype: float64"
      ]
     },
     "execution_count": 37,
     "metadata": {},
     "output_type": "execute_result"
    }
   ],
   "source": [
    "# Statistical analysis of passenger_count column\n",
    "\n",
    "train['passenger_count'].describe()"
   ]
  },
  {
   "cell_type": "markdown",
   "id": "390ae27d-df80-4466-8b2d-97072739dcbe",
   "metadata": {},
   "source": [
    "        the passenger count of 5345 is not possible because the number of maximum passengers that can be in car is 6"
   ]
  },
  {
   "cell_type": "code",
   "execution_count": 39,
   "id": "503a1594-811a-44d9-b1d4-cd258aa05b21",
   "metadata": {},
   "outputs": [],
   "source": [
    "train = train.drop(train[train['passenger_count'] > 6].index, axis = 0)"
   ]
  },
  {
   "cell_type": "code",
   "execution_count": 40,
   "id": "b40eb4b9-0664-4566-84f1-051df0029a52",
   "metadata": {},
   "outputs": [],
   "source": [
    "train = train.drop(train[train['passenger_count'] == 0].index, axis = 0)"
   ]
  },
  {
   "cell_type": "code",
   "execution_count": 41,
   "id": "c6d00312-b56e-4f78-a9a4-63427ec5f564",
   "metadata": {},
   "outputs": [
    {
     "data": {
      "text/plain": [
       "count    15934.000000\n",
       "mean         1.649581\n",
       "std          1.265943\n",
       "min          0.120000\n",
       "25%          1.000000\n",
       "50%          1.000000\n",
       "75%          2.000000\n",
       "max          6.000000\n",
       "Name: passenger_count, dtype: float64"
      ]
     },
     "execution_count": 41,
     "metadata": {},
     "output_type": "execute_result"
    }
   ],
   "source": [
    "train['passenger_count'].describe()"
   ]
  },
  {
   "cell_type": "code",
   "execution_count": 42,
   "id": "e372657b-5aca-470d-bd30-91a5dce43715",
   "metadata": {},
   "outputs": [
    {
     "data": {
      "text/plain": [
       "8862     0.12\n",
       "0        1.00\n",
       "9790     1.00\n",
       "9791     1.00\n",
       "9792     1.00\n",
       "         ... \n",
       "8076      NaN\n",
       "8139      NaN\n",
       "8259      NaN\n",
       "8306      NaN\n",
       "16066     NaN\n",
       "Name: passenger_count, Length: 15989, dtype: float64"
      ]
     },
     "execution_count": 42,
     "metadata": {},
     "output_type": "execute_result"
    }
   ],
   "source": [
    "train[\"passenger_count\"].sort_values(ascending = True)"
   ]
  },
  {
   "cell_type": "code",
   "execution_count": 43,
   "id": "c0fa4051-1b36-4fe0-b596-7fdc4fbe7b1e",
   "metadata": {},
   "outputs": [
    {
     "name": "stdout",
     "output_type": "stream",
     "text": [
      "(15934, 13)\n"
     ]
    }
   ],
   "source": [
    "#  removing passenger_count missing values rows\n",
    "\n",
    "train = train.drop(train[train['passenger_count'].isnull()].index, axis = 0)\n",
    "print(train.shape)"
   ]
  },
  {
   "cell_type": "code",
   "execution_count": 44,
   "id": "eb0ce33b-a652-4009-bd7d-8dc07ea65ae9",
   "metadata": {},
   "outputs": [
    {
     "name": "stdout",
     "output_type": "stream",
     "text": [
      "0\n"
     ]
    }
   ],
   "source": [
    "print(train['passenger_count'].isnull().sum())"
   ]
  },
  {
   "cell_type": "markdown",
   "id": "c99ca33b-d5d0-4a7e-b300-0fc6297ab697",
   "metadata": {},
   "source": [
    "    there is one value of 0.12 present in the passenger_count which is not possible hence, we will be removing it also"
   ]
  },
  {
   "cell_type": "code",
   "execution_count": 46,
   "id": "b0b4f2aa-6c64-45eb-b7c1-0a620bfb6211",
   "metadata": {},
   "outputs": [],
   "source": [
    "train = train.drop(train[train['passenger_count'] == 0.12].index, axis = 0)"
   ]
  },
  {
   "cell_type": "code",
   "execution_count": 47,
   "id": "50627bf9-71c8-4620-8bb9-678c3a388cfc",
   "metadata": {},
   "outputs": [
    {
     "data": {
      "text/plain": [
       "(15933, 13)"
      ]
     },
     "execution_count": 47,
     "metadata": {},
     "output_type": "execute_result"
    }
   ],
   "source": [
    "train.shape"
   ]
  },
  {
   "cell_type": "code",
   "execution_count": 48,
   "id": "5eb8bb43-b5e7-4e22-a821-21a0e05512e4",
   "metadata": {},
   "outputs": [],
   "source": [
    "# Find the descending order of fare to get to know whether the outliers are present or not"
   ]
  },
  {
   "cell_type": "code",
   "execution_count": 49,
   "id": "6aba1b50-bf7d-4ebc-afab-1e5b0e65bf9d",
   "metadata": {},
   "outputs": [
    {
     "data": {
      "text/plain": [
       "1015    54343.0\n",
       "1072     4343.0\n",
       "607       453.0\n",
       "980       434.0\n",
       "1335      180.0\n",
       "         ...   \n",
       "1712        NaN\n",
       "2412        NaN\n",
       "2458        NaN\n",
       "8178        NaN\n",
       "8226        NaN\n",
       "Name: fare_amount, Length: 15933, dtype: float64"
      ]
     },
     "execution_count": 49,
     "metadata": {},
     "output_type": "execute_result"
    }
   ],
   "source": [
    "train['fare_amount'].sort_values(ascending = False)"
   ]
  },
  {
   "cell_type": "code",
   "execution_count": 50,
   "id": "76c303ed-8b36-4302-a178-cae4da247883",
   "metadata": {},
   "outputs": [
    {
     "data": {
      "text/plain": [
       "Counter({False: 15930, True: 3})"
      ]
     },
     "execution_count": 50,
     "metadata": {},
     "output_type": "execute_result"
    }
   ],
   "source": [
    "# count the number of rows where fare amount is less than 0\n",
    "\n",
    "Counter(train['fare_amount'] < 0)"
   ]
  },
  {
   "cell_type": "code",
   "execution_count": 51,
   "id": "0f71017f-fe3c-40f4-ac72-457c59720164",
   "metadata": {},
   "outputs": [],
   "source": [
    "# remove the negative values in the fare_amount column\n",
    "\n",
    "train = train.drop(train[train['fare_amount'] < 0].index, axis = 0)"
   ]
  },
  {
   "cell_type": "code",
   "execution_count": 52,
   "id": "1f57ba85-e68d-467f-b9fd-f3ff2c06f153",
   "metadata": {},
   "outputs": [
    {
     "data": {
      "text/plain": [
       "(15930, 13)"
      ]
     },
     "execution_count": 52,
     "metadata": {},
     "output_type": "execute_result"
    }
   ],
   "source": [
    "train.shape"
   ]
  },
  {
   "cell_type": "code",
   "execution_count": 53,
   "id": "7409e6a5-7d30-4198-93c7-29c93c55b7c1",
   "metadata": {},
   "outputs": [],
   "source": [
    "# Check the minimum value of fare amount"
   ]
  },
  {
   "cell_type": "code",
   "execution_count": 54,
   "id": "bd7342dc-e49b-4d2e-85a3-2d6da2493b59",
   "metadata": {},
   "outputs": [
    {
     "data": {
      "text/plain": [
       "0.0"
      ]
     },
     "execution_count": 54,
     "metadata": {},
     "output_type": "execute_result"
    }
   ],
   "source": [
    "train['fare_amount'].min()"
   ]
  },
  {
   "cell_type": "code",
   "execution_count": 55,
   "id": "16a8d957-7c88-4702-9ec6-7c7f5eda226a",
   "metadata": {},
   "outputs": [
    {
     "data": {
      "text/plain": [
       "(15928, 13)"
      ]
     },
     "execution_count": 55,
     "metadata": {},
     "output_type": "execute_result"
    }
   ],
   "source": [
    "# remove the rows where the fare amount is zero\n",
    "\n",
    "train = train.drop(train[train['fare_amount'] < 1].index, axis = 0)\n",
    "train.shape"
   ]
  },
  {
   "cell_type": "markdown",
   "id": "3e6d21b7-d38a-4665-8ef2-4f54c666d9dd",
   "metadata": {},
   "source": [
    "There is a huge difference between 1st, 2nd, 3rd position in descending of the fare amount so we will remove the rows having the fare\n",
    "amount greater than 454"
   ]
  },
  {
   "cell_type": "code",
   "execution_count": 56,
   "id": "3c4068de-f749-4297-8e36-874637876ffa",
   "metadata": {},
   "outputs": [
    {
     "data": {
      "text/plain": [
       "(15926, 13)"
      ]
     },
     "execution_count": 56,
     "metadata": {},
     "output_type": "execute_result"
    }
   ],
   "source": [
    "train = train.drop(train[train['fare_amount'] > 454].index, axis = 0)\n",
    "train.shape"
   ]
  },
  {
   "cell_type": "code",
   "execution_count": 57,
   "id": "4b68585f-18d8-4753-988d-233808d1968c",
   "metadata": {},
   "outputs": [
    {
     "name": "stdout",
     "output_type": "stream",
     "text": [
      "(15902, 13)\n"
     ]
    }
   ],
   "source": [
    "# removing the missing values rows in the fare_amount \n",
    "\n",
    "train = train.drop(train[train['fare_amount'].isnull()].index, axis = 0)\n",
    "print(train.shape)"
   ]
  },
  {
   "cell_type": "code",
   "execution_count": 58,
   "id": "ffb9a31c-deca-492a-809c-32a0476fd06d",
   "metadata": {},
   "outputs": [
    {
     "name": "stdout",
     "output_type": "stream",
     "text": [
      "0\n"
     ]
    }
   ],
   "source": [
    "print(train['fare_amount'].isnull().sum())"
   ]
  },
  {
   "cell_type": "code",
   "execution_count": 59,
   "id": "e39105c0-801e-4ce1-946f-9367805bc51f",
   "metadata": {},
   "outputs": [
    {
     "data": {
      "text/plain": [
       "607      453.00\n",
       "980      434.00\n",
       "1335     180.00\n",
       "1483     165.00\n",
       "6630     128.83\n",
       "          ...  \n",
       "8596       2.50\n",
       "7918       2.50\n",
       "8603       2.50\n",
       "15490      2.50\n",
       "1427       1.14\n",
       "Name: fare_amount, Length: 15902, dtype: float64"
      ]
     },
     "execution_count": 59,
     "metadata": {},
     "output_type": "execute_result"
    }
   ],
   "source": [
    "train['fare_amount'].sort_values(ascending = False)"
   ]
  },
  {
   "cell_type": "code",
   "execution_count": 60,
   "id": "d8a04ff0-941b-4cf6-922a-6ef18ef10af2",
   "metadata": {},
   "outputs": [
    {
     "data": {
      "text/plain": [
       "count    15902.000000\n",
       "mean        11.376356\n",
       "std         10.814908\n",
       "min          1.140000\n",
       "25%          6.000000\n",
       "50%          8.500000\n",
       "75%         12.500000\n",
       "max        453.000000\n",
       "Name: fare_amount, dtype: float64"
      ]
     },
     "execution_count": 60,
     "metadata": {},
     "output_type": "execute_result"
    }
   ],
   "source": [
    "train['fare_amount'].describe()"
   ]
  },
  {
   "cell_type": "code",
   "execution_count": 61,
   "id": "ba33bada-8b1e-49c6-8e82-13b996c7f03c",
   "metadata": {},
   "outputs": [
    {
     "data": {
      "text/html": [
       "<div>\n",
       "<style scoped>\n",
       "    .dataframe tbody tr th:only-of-type {\n",
       "        vertical-align: middle;\n",
       "    }\n",
       "\n",
       "    .dataframe tbody tr th {\n",
       "        vertical-align: top;\n",
       "    }\n",
       "\n",
       "    .dataframe thead th {\n",
       "        text-align: right;\n",
       "    }\n",
       "</style>\n",
       "<table border=\"1\" class=\"dataframe\">\n",
       "  <thead>\n",
       "    <tr style=\"text-align: right;\">\n",
       "      <th></th>\n",
       "      <th>fare_amount</th>\n",
       "      <th>pickup_datetime</th>\n",
       "      <th>pickup_longitude</th>\n",
       "      <th>pickup_latitude</th>\n",
       "      <th>dropoff_longitude</th>\n",
       "      <th>dropoff_latitude</th>\n",
       "      <th>passenger_count</th>\n",
       "      <th>Year</th>\n",
       "      <th>Month</th>\n",
       "      <th>Date</th>\n",
       "      <th>Day</th>\n",
       "      <th>Hour</th>\n",
       "      <th>Minute</th>\n",
       "    </tr>\n",
       "  </thead>\n",
       "  <tbody>\n",
       "  </tbody>\n",
       "</table>\n",
       "</div>"
      ],
      "text/plain": [
       "Empty DataFrame\n",
       "Columns: [fare_amount, pickup_datetime, pickup_longitude, pickup_latitude, dropoff_longitude, dropoff_latitude, passenger_count, Year, Month, Date, Day, Hour, Minute]\n",
       "Index: []"
      ]
     },
     "execution_count": 61,
     "metadata": {},
     "output_type": "execute_result"
    }
   ],
   "source": [
    "# latitude can range from -90 to 90\n",
    "# longitude can range from -180 to 180\n",
    "# we need to drop all the latitude values less than -90\n",
    "train[train[\"pickup_latitude\"] < -90]"
   ]
  },
  {
   "cell_type": "code",
   "execution_count": 62,
   "id": "4a959699-b5ff-41f6-bdae-321623ab851c",
   "metadata": {},
   "outputs": [
    {
     "data": {
      "text/html": [
       "<div>\n",
       "<style scoped>\n",
       "    .dataframe tbody tr th:only-of-type {\n",
       "        vertical-align: middle;\n",
       "    }\n",
       "\n",
       "    .dataframe tbody tr th {\n",
       "        vertical-align: top;\n",
       "    }\n",
       "\n",
       "    .dataframe thead th {\n",
       "        text-align: right;\n",
       "    }\n",
       "</style>\n",
       "<table border=\"1\" class=\"dataframe\">\n",
       "  <thead>\n",
       "    <tr style=\"text-align: right;\">\n",
       "      <th></th>\n",
       "      <th>fare_amount</th>\n",
       "      <th>pickup_datetime</th>\n",
       "      <th>pickup_longitude</th>\n",
       "      <th>pickup_latitude</th>\n",
       "      <th>dropoff_longitude</th>\n",
       "      <th>dropoff_latitude</th>\n",
       "      <th>passenger_count</th>\n",
       "      <th>Year</th>\n",
       "      <th>Month</th>\n",
       "      <th>Date</th>\n",
       "      <th>Day</th>\n",
       "      <th>Hour</th>\n",
       "      <th>Minute</th>\n",
       "    </tr>\n",
       "  </thead>\n",
       "  <tbody>\n",
       "    <tr>\n",
       "      <th>5686</th>\n",
       "      <td>3.3</td>\n",
       "      <td>2011-07-30 11:15:00</td>\n",
       "      <td>-73.947235</td>\n",
       "      <td>401.083332</td>\n",
       "      <td>-73.951392</td>\n",
       "      <td>40.778927</td>\n",
       "      <td>1.0</td>\n",
       "      <td>2011.0</td>\n",
       "      <td>7.0</td>\n",
       "      <td>30.0</td>\n",
       "      <td>5.0</td>\n",
       "      <td>11.0</td>\n",
       "      <td>15.0</td>\n",
       "    </tr>\n",
       "  </tbody>\n",
       "</table>\n",
       "</div>"
      ],
      "text/plain": [
       "      fare_amount     pickup_datetime  pickup_longitude  pickup_latitude  \\\n",
       "5686          3.3 2011-07-30 11:15:00        -73.947235       401.083332   \n",
       "\n",
       "      dropoff_longitude  dropoff_latitude  passenger_count    Year  Month  \\\n",
       "5686         -73.951392         40.778927              1.0  2011.0    7.0   \n",
       "\n",
       "      Date  Day  Hour  Minute  \n",
       "5686  30.0  5.0  11.0    15.0  "
      ]
     },
     "execution_count": 62,
     "metadata": {},
     "output_type": "execute_result"
    }
   ],
   "source": [
    "train[train[\"pickup_latitude\"] > 90]"
   ]
  },
  {
   "cell_type": "code",
   "execution_count": 63,
   "id": "bc3a5b92-151c-49fc-8ac6-85326bfcd340",
   "metadata": {},
   "outputs": [
    {
     "name": "stdout",
     "output_type": "stream",
     "text": [
      "(15901, 13)\n"
     ]
    }
   ],
   "source": [
    "# removing the outliers who are not in range\n",
    "train = train.drop(train[train['pickup_latitude'] < -90 ].index, axis = 0)\n",
    "train = train.drop(train[train['pickup_latitude'] > 90 ].index, axis = 0)\n",
    "print(train.shape)"
   ]
  },
  {
   "cell_type": "code",
   "execution_count": 64,
   "id": "7b678995-d1b9-4294-bf41-cd18af22addf",
   "metadata": {},
   "outputs": [],
   "source": [
    "# checking the pickup_longitude range for less than -180"
   ]
  },
  {
   "cell_type": "code",
   "execution_count": 65,
   "id": "3ae7ca84-d851-4517-9717-55d114946fc1",
   "metadata": {},
   "outputs": [
    {
     "data": {
      "text/html": [
       "<div>\n",
       "<style scoped>\n",
       "    .dataframe tbody tr th:only-of-type {\n",
       "        vertical-align: middle;\n",
       "    }\n",
       "\n",
       "    .dataframe tbody tr th {\n",
       "        vertical-align: top;\n",
       "    }\n",
       "\n",
       "    .dataframe thead th {\n",
       "        text-align: right;\n",
       "    }\n",
       "</style>\n",
       "<table border=\"1\" class=\"dataframe\">\n",
       "  <thead>\n",
       "    <tr style=\"text-align: right;\">\n",
       "      <th></th>\n",
       "      <th>fare_amount</th>\n",
       "      <th>pickup_datetime</th>\n",
       "      <th>pickup_longitude</th>\n",
       "      <th>pickup_latitude</th>\n",
       "      <th>dropoff_longitude</th>\n",
       "      <th>dropoff_latitude</th>\n",
       "      <th>passenger_count</th>\n",
       "      <th>Year</th>\n",
       "      <th>Month</th>\n",
       "      <th>Date</th>\n",
       "      <th>Day</th>\n",
       "      <th>Hour</th>\n",
       "      <th>Minute</th>\n",
       "    </tr>\n",
       "  </thead>\n",
       "  <tbody>\n",
       "  </tbody>\n",
       "</table>\n",
       "</div>"
      ],
      "text/plain": [
       "Empty DataFrame\n",
       "Columns: [fare_amount, pickup_datetime, pickup_longitude, pickup_latitude, dropoff_longitude, dropoff_latitude, passenger_count, Year, Month, Date, Day, Hour, Minute]\n",
       "Index: []"
      ]
     },
     "execution_count": 65,
     "metadata": {},
     "output_type": "execute_result"
    }
   ],
   "source": [
    "train[train[\"pickup_longitude\"] < -180]"
   ]
  },
  {
   "cell_type": "code",
   "execution_count": 66,
   "id": "4f6baab6-49d8-4480-a584-febb61906bf6",
   "metadata": {},
   "outputs": [
    {
     "data": {
      "text/html": [
       "<div>\n",
       "<style scoped>\n",
       "    .dataframe tbody tr th:only-of-type {\n",
       "        vertical-align: middle;\n",
       "    }\n",
       "\n",
       "    .dataframe tbody tr th {\n",
       "        vertical-align: top;\n",
       "    }\n",
       "\n",
       "    .dataframe thead th {\n",
       "        text-align: right;\n",
       "    }\n",
       "</style>\n",
       "<table border=\"1\" class=\"dataframe\">\n",
       "  <thead>\n",
       "    <tr style=\"text-align: right;\">\n",
       "      <th></th>\n",
       "      <th>fare_amount</th>\n",
       "      <th>pickup_datetime</th>\n",
       "      <th>pickup_longitude</th>\n",
       "      <th>pickup_latitude</th>\n",
       "      <th>dropoff_longitude</th>\n",
       "      <th>dropoff_latitude</th>\n",
       "      <th>passenger_count</th>\n",
       "      <th>Year</th>\n",
       "      <th>Month</th>\n",
       "      <th>Date</th>\n",
       "      <th>Day</th>\n",
       "      <th>Hour</th>\n",
       "      <th>Minute</th>\n",
       "    </tr>\n",
       "  </thead>\n",
       "  <tbody>\n",
       "  </tbody>\n",
       "</table>\n",
       "</div>"
      ],
      "text/plain": [
       "Empty DataFrame\n",
       "Columns: [fare_amount, pickup_datetime, pickup_longitude, pickup_latitude, dropoff_longitude, dropoff_latitude, passenger_count, Year, Month, Date, Day, Hour, Minute]\n",
       "Index: []"
      ]
     },
     "execution_count": 66,
     "metadata": {},
     "output_type": "execute_result"
    }
   ],
   "source": [
    "train[train[\"pickup_longitude\"] > 180]"
   ]
  },
  {
   "cell_type": "code",
   "execution_count": 67,
   "id": "e2c083eb-9f1b-4521-a05b-8cc447946457",
   "metadata": {},
   "outputs": [],
   "source": [
    "#  checking now for the dropoff latitude and longitude for (-90, 90, -180, 180)"
   ]
  },
  {
   "cell_type": "code",
   "execution_count": 68,
   "id": "44681850-e0ab-4ca5-bb53-73875207e268",
   "metadata": {},
   "outputs": [
    {
     "data": {
      "text/html": [
       "<div>\n",
       "<style scoped>\n",
       "    .dataframe tbody tr th:only-of-type {\n",
       "        vertical-align: middle;\n",
       "    }\n",
       "\n",
       "    .dataframe tbody tr th {\n",
       "        vertical-align: top;\n",
       "    }\n",
       "\n",
       "    .dataframe thead th {\n",
       "        text-align: right;\n",
       "    }\n",
       "</style>\n",
       "<table border=\"1\" class=\"dataframe\">\n",
       "  <thead>\n",
       "    <tr style=\"text-align: right;\">\n",
       "      <th></th>\n",
       "      <th>fare_amount</th>\n",
       "      <th>pickup_datetime</th>\n",
       "      <th>pickup_longitude</th>\n",
       "      <th>pickup_latitude</th>\n",
       "      <th>dropoff_longitude</th>\n",
       "      <th>dropoff_latitude</th>\n",
       "      <th>passenger_count</th>\n",
       "      <th>Year</th>\n",
       "      <th>Month</th>\n",
       "      <th>Date</th>\n",
       "      <th>Day</th>\n",
       "      <th>Hour</th>\n",
       "      <th>Minute</th>\n",
       "    </tr>\n",
       "  </thead>\n",
       "  <tbody>\n",
       "  </tbody>\n",
       "</table>\n",
       "</div>"
      ],
      "text/plain": [
       "Empty DataFrame\n",
       "Columns: [fare_amount, pickup_datetime, pickup_longitude, pickup_latitude, dropoff_longitude, dropoff_latitude, passenger_count, Year, Month, Date, Day, Hour, Minute]\n",
       "Index: []"
      ]
     },
     "execution_count": 68,
     "metadata": {},
     "output_type": "execute_result"
    }
   ],
   "source": [
    "train[train[\"dropoff_latitude\"] < -90]"
   ]
  },
  {
   "cell_type": "code",
   "execution_count": 69,
   "id": "22f6c964-c3f7-4f32-9416-27bd1e800513",
   "metadata": {},
   "outputs": [
    {
     "data": {
      "text/html": [
       "<div>\n",
       "<style scoped>\n",
       "    .dataframe tbody tr th:only-of-type {\n",
       "        vertical-align: middle;\n",
       "    }\n",
       "\n",
       "    .dataframe tbody tr th {\n",
       "        vertical-align: top;\n",
       "    }\n",
       "\n",
       "    .dataframe thead th {\n",
       "        text-align: right;\n",
       "    }\n",
       "</style>\n",
       "<table border=\"1\" class=\"dataframe\">\n",
       "  <thead>\n",
       "    <tr style=\"text-align: right;\">\n",
       "      <th></th>\n",
       "      <th>fare_amount</th>\n",
       "      <th>pickup_datetime</th>\n",
       "      <th>pickup_longitude</th>\n",
       "      <th>pickup_latitude</th>\n",
       "      <th>dropoff_longitude</th>\n",
       "      <th>dropoff_latitude</th>\n",
       "      <th>passenger_count</th>\n",
       "      <th>Year</th>\n",
       "      <th>Month</th>\n",
       "      <th>Date</th>\n",
       "      <th>Day</th>\n",
       "      <th>Hour</th>\n",
       "      <th>Minute</th>\n",
       "    </tr>\n",
       "  </thead>\n",
       "  <tbody>\n",
       "  </tbody>\n",
       "</table>\n",
       "</div>"
      ],
      "text/plain": [
       "Empty DataFrame\n",
       "Columns: [fare_amount, pickup_datetime, pickup_longitude, pickup_latitude, dropoff_longitude, dropoff_latitude, passenger_count, Year, Month, Date, Day, Hour, Minute]\n",
       "Index: []"
      ]
     },
     "execution_count": 69,
     "metadata": {},
     "output_type": "execute_result"
    }
   ],
   "source": [
    "train[train[\"dropoff_latitude\"] > 90]"
   ]
  },
  {
   "cell_type": "code",
   "execution_count": 70,
   "id": "6853bff5-53f5-471e-8578-7c49bc64d885",
   "metadata": {},
   "outputs": [
    {
     "data": {
      "text/html": [
       "<div>\n",
       "<style scoped>\n",
       "    .dataframe tbody tr th:only-of-type {\n",
       "        vertical-align: middle;\n",
       "    }\n",
       "\n",
       "    .dataframe tbody tr th {\n",
       "        vertical-align: top;\n",
       "    }\n",
       "\n",
       "    .dataframe thead th {\n",
       "        text-align: right;\n",
       "    }\n",
       "</style>\n",
       "<table border=\"1\" class=\"dataframe\">\n",
       "  <thead>\n",
       "    <tr style=\"text-align: right;\">\n",
       "      <th></th>\n",
       "      <th>fare_amount</th>\n",
       "      <th>pickup_datetime</th>\n",
       "      <th>pickup_longitude</th>\n",
       "      <th>pickup_latitude</th>\n",
       "      <th>dropoff_longitude</th>\n",
       "      <th>dropoff_latitude</th>\n",
       "      <th>passenger_count</th>\n",
       "      <th>Year</th>\n",
       "      <th>Month</th>\n",
       "      <th>Date</th>\n",
       "      <th>Day</th>\n",
       "      <th>Hour</th>\n",
       "      <th>Minute</th>\n",
       "    </tr>\n",
       "  </thead>\n",
       "  <tbody>\n",
       "  </tbody>\n",
       "</table>\n",
       "</div>"
      ],
      "text/plain": [
       "Empty DataFrame\n",
       "Columns: [fare_amount, pickup_datetime, pickup_longitude, pickup_latitude, dropoff_longitude, dropoff_latitude, passenger_count, Year, Month, Date, Day, Hour, Minute]\n",
       "Index: []"
      ]
     },
     "execution_count": 70,
     "metadata": {},
     "output_type": "execute_result"
    }
   ],
   "source": [
    "train[train[\"dropoff_longitude\"] < -180]"
   ]
  },
  {
   "cell_type": "code",
   "execution_count": 71,
   "id": "3668d752-314c-4cfc-8b67-0223e9dc1bc9",
   "metadata": {},
   "outputs": [
    {
     "data": {
      "text/html": [
       "<div>\n",
       "<style scoped>\n",
       "    .dataframe tbody tr th:only-of-type {\n",
       "        vertical-align: middle;\n",
       "    }\n",
       "\n",
       "    .dataframe tbody tr th {\n",
       "        vertical-align: top;\n",
       "    }\n",
       "\n",
       "    .dataframe thead th {\n",
       "        text-align: right;\n",
       "    }\n",
       "</style>\n",
       "<table border=\"1\" class=\"dataframe\">\n",
       "  <thead>\n",
       "    <tr style=\"text-align: right;\">\n",
       "      <th></th>\n",
       "      <th>fare_amount</th>\n",
       "      <th>pickup_datetime</th>\n",
       "      <th>pickup_longitude</th>\n",
       "      <th>pickup_latitude</th>\n",
       "      <th>dropoff_longitude</th>\n",
       "      <th>dropoff_latitude</th>\n",
       "      <th>passenger_count</th>\n",
       "      <th>Year</th>\n",
       "      <th>Month</th>\n",
       "      <th>Date</th>\n",
       "      <th>Day</th>\n",
       "      <th>Hour</th>\n",
       "      <th>Minute</th>\n",
       "    </tr>\n",
       "  </thead>\n",
       "  <tbody>\n",
       "  </tbody>\n",
       "</table>\n",
       "</div>"
      ],
      "text/plain": [
       "Empty DataFrame\n",
       "Columns: [fare_amount, pickup_datetime, pickup_longitude, pickup_latitude, dropoff_longitude, dropoff_latitude, passenger_count, Year, Month, Date, Day, Hour, Minute]\n",
       "Index: []"
      ]
     },
     "execution_count": 71,
     "metadata": {},
     "output_type": "execute_result"
    }
   ],
   "source": [
    "train[train[\"dropoff_longitude\"] > 180]"
   ]
  },
  {
   "cell_type": "code",
   "execution_count": 72,
   "id": "80062c0f-f61d-4887-9979-7db6e7ef9ed6",
   "metadata": {},
   "outputs": [
    {
     "data": {
      "text/plain": [
       "(15901, 13)"
      ]
     },
     "execution_count": 72,
     "metadata": {},
     "output_type": "execute_result"
    }
   ],
   "source": [
    "train.shape"
   ]
  },
  {
   "cell_type": "code",
   "execution_count": 73,
   "id": "28d5000b-144f-4229-9e55-feb17d1cb4c3",
   "metadata": {},
   "outputs": [
    {
     "data": {
      "text/plain": [
       "fare_amount          0\n",
       "pickup_datetime      0\n",
       "pickup_longitude     0\n",
       "pickup_latitude      0\n",
       "dropoff_longitude    0\n",
       "dropoff_latitude     0\n",
       "passenger_count      0\n",
       "Year                 0\n",
       "Month                0\n",
       "Date                 0\n",
       "Day                  0\n",
       "Hour                 0\n",
       "Minute               0\n",
       "dtype: int64"
      ]
     },
     "execution_count": 73,
     "metadata": {},
     "output_type": "execute_result"
    }
   ],
   "source": [
    "train.isnull().sum()"
   ]
  },
  {
   "cell_type": "code",
   "execution_count": 74,
   "id": "5144aae0-c317-4e83-825f-61be4f4b461d",
   "metadata": {},
   "outputs": [
    {
     "data": {
      "text/plain": [
       "pickup_datetime      0\n",
       "pickup_longitude     0\n",
       "pickup_latitude      0\n",
       "dropoff_longitude    0\n",
       "dropoff_latitude     0\n",
       "passenger_count      0\n",
       "Year                 0\n",
       "Month                0\n",
       "Date                 0\n",
       "Day                  0\n",
       "Hour                 0\n",
       "Minute               0\n",
       "dtype: int64"
      ]
     },
     "execution_count": 74,
     "metadata": {},
     "output_type": "execute_result"
    }
   ],
   "source": [
    "test.isnull().sum()"
   ]
  },
  {
   "cell_type": "markdown",
   "id": "dc568e02-ffa1-48ad-8005-a2ad081a67d8",
   "metadata": {},
   "source": [
    "## Calculation distance based on co-rdinates"
   ]
  },
  {
   "cell_type": "code",
   "execution_count": 76,
   "id": "52266d9c-4732-4f3b-963a-60742ca5d81a",
   "metadata": {},
   "outputs": [],
   "source": [
    "# we have a given pickup latitude and lognitude , dropoff latitude and longitude\n",
    "# so we need to calculate the distance using the haversine formula and we will create a new variable called distance\n",
    "\n",
    "from math import radians, cos, sin, asin, sqrt\n",
    "\n",
    "def haversine(a):\n",
    "    lon1 = a[0]\n",
    "    lat1 = a[1]\n",
    "    lon2 = a[2]\n",
    "    lat2 = a[3]\n",
    "\n",
    "    \"Calculating the great circle between two points on the earth(specified in decimal degrees)\"\n",
    "    # convert decimal degrees into adians\n",
    "    lon1, lat1, lon2, lat2 = map(radians, [lon1, lat1, lon2, lat2])\n",
    "\n",
    "    # haversine formula\n",
    "    dlon = lon2 - lon1\n",
    "    dlat = lat2 - lat1\n",
    "    a = sin(dlat/2)**2 + cos(lat1) * cos(lat2) * sin(dlon/2)**2\n",
    "    c = 2 * asin(sqrt(a))\n",
    "    # radius of the eartyh in km is 6371\n",
    "    km = 6371 * c\n",
    "    return km"
   ]
  },
  {
   "cell_type": "code",
   "execution_count": 77,
   "id": "92bd634e-5a28-46f3-97b5-1652be35418a",
   "metadata": {},
   "outputs": [
    {
     "name": "stderr",
     "output_type": "stream",
     "text": [
      "C:\\Users\\Vijay\\AppData\\Local\\Temp\\ipykernel_14920\\815780774.py:7: FutureWarning: Series.__getitem__ treating keys as positions is deprecated. In a future version, integer keys will always be treated as labels (consistent with DataFrame behavior). To access a value by position, use `ser.iloc[pos]`\n",
      "  lon1 = a[0]\n",
      "C:\\Users\\Vijay\\AppData\\Local\\Temp\\ipykernel_14920\\815780774.py:8: FutureWarning: Series.__getitem__ treating keys as positions is deprecated. In a future version, integer keys will always be treated as labels (consistent with DataFrame behavior). To access a value by position, use `ser.iloc[pos]`\n",
      "  lat1 = a[1]\n",
      "C:\\Users\\Vijay\\AppData\\Local\\Temp\\ipykernel_14920\\815780774.py:9: FutureWarning: Series.__getitem__ treating keys as positions is deprecated. In a future version, integer keys will always be treated as labels (consistent with DataFrame behavior). To access a value by position, use `ser.iloc[pos]`\n",
      "  lon2 = a[2]\n",
      "C:\\Users\\Vijay\\AppData\\Local\\Temp\\ipykernel_14920\\815780774.py:10: FutureWarning: Series.__getitem__ treating keys as positions is deprecated. In a future version, integer keys will always be treated as labels (consistent with DataFrame behavior). To access a value by position, use `ser.iloc[pos]`\n",
      "  lat2 = a[3]\n"
     ]
    }
   ],
   "source": [
    "train[\"distance\"] = train[['pickup_longitude', 'pickup_latitude', 'dropoff_longitude', 'dropoff_latitude']].apply(haversine, axis = 1)"
   ]
  },
  {
   "cell_type": "code",
   "execution_count": 78,
   "id": "5826409d-da38-4892-8511-b0567d1616b4",
   "metadata": {},
   "outputs": [
    {
     "name": "stderr",
     "output_type": "stream",
     "text": [
      "C:\\Users\\Vijay\\AppData\\Local\\Temp\\ipykernel_14920\\815780774.py:7: FutureWarning: Series.__getitem__ treating keys as positions is deprecated. In a future version, integer keys will always be treated as labels (consistent with DataFrame behavior). To access a value by position, use `ser.iloc[pos]`\n",
      "  lon1 = a[0]\n",
      "C:\\Users\\Vijay\\AppData\\Local\\Temp\\ipykernel_14920\\815780774.py:8: FutureWarning: Series.__getitem__ treating keys as positions is deprecated. In a future version, integer keys will always be treated as labels (consistent with DataFrame behavior). To access a value by position, use `ser.iloc[pos]`\n",
      "  lat1 = a[1]\n",
      "C:\\Users\\Vijay\\AppData\\Local\\Temp\\ipykernel_14920\\815780774.py:9: FutureWarning: Series.__getitem__ treating keys as positions is deprecated. In a future version, integer keys will always be treated as labels (consistent with DataFrame behavior). To access a value by position, use `ser.iloc[pos]`\n",
      "  lon2 = a[2]\n",
      "C:\\Users\\Vijay\\AppData\\Local\\Temp\\ipykernel_14920\\815780774.py:10: FutureWarning: Series.__getitem__ treating keys as positions is deprecated. In a future version, integer keys will always be treated as labels (consistent with DataFrame behavior). To access a value by position, use `ser.iloc[pos]`\n",
      "  lat2 = a[3]\n"
     ]
    }
   ],
   "source": [
    "test[\"distance\"] = test[['pickup_longitude', 'pickup_latitude', 'dropoff_longitude', 'dropoff_latitude']].apply(haversine, axis = 1)"
   ]
  },
  {
   "cell_type": "code",
   "execution_count": 79,
   "id": "a7e4540b-b630-4af3-9ea1-4d26306330d8",
   "metadata": {},
   "outputs": [
    {
     "data": {
      "text/html": [
       "<div>\n",
       "<style scoped>\n",
       "    .dataframe tbody tr th:only-of-type {\n",
       "        vertical-align: middle;\n",
       "    }\n",
       "\n",
       "    .dataframe tbody tr th {\n",
       "        vertical-align: top;\n",
       "    }\n",
       "\n",
       "    .dataframe thead th {\n",
       "        text-align: right;\n",
       "    }\n",
       "</style>\n",
       "<table border=\"1\" class=\"dataframe\">\n",
       "  <thead>\n",
       "    <tr style=\"text-align: right;\">\n",
       "      <th></th>\n",
       "      <th>fare_amount</th>\n",
       "      <th>pickup_datetime</th>\n",
       "      <th>pickup_longitude</th>\n",
       "      <th>pickup_latitude</th>\n",
       "      <th>dropoff_longitude</th>\n",
       "      <th>dropoff_latitude</th>\n",
       "      <th>passenger_count</th>\n",
       "      <th>Year</th>\n",
       "      <th>Month</th>\n",
       "      <th>Date</th>\n",
       "      <th>Day</th>\n",
       "      <th>Hour</th>\n",
       "      <th>Minute</th>\n",
       "      <th>distance</th>\n",
       "    </tr>\n",
       "  </thead>\n",
       "  <tbody>\n",
       "    <tr>\n",
       "      <th>0</th>\n",
       "      <td>4.5</td>\n",
       "      <td>2009-06-15 17:26:21</td>\n",
       "      <td>-73.844311</td>\n",
       "      <td>40.721319</td>\n",
       "      <td>-73.841610</td>\n",
       "      <td>40.712278</td>\n",
       "      <td>1.0</td>\n",
       "      <td>2009.0</td>\n",
       "      <td>6.0</td>\n",
       "      <td>15.0</td>\n",
       "      <td>0.0</td>\n",
       "      <td>17.0</td>\n",
       "      <td>26.0</td>\n",
       "      <td>1.030764</td>\n",
       "    </tr>\n",
       "    <tr>\n",
       "      <th>1</th>\n",
       "      <td>16.9</td>\n",
       "      <td>2010-01-05 16:52:16</td>\n",
       "      <td>-74.016048</td>\n",
       "      <td>40.711303</td>\n",
       "      <td>-73.979268</td>\n",
       "      <td>40.782004</td>\n",
       "      <td>1.0</td>\n",
       "      <td>2010.0</td>\n",
       "      <td>1.0</td>\n",
       "      <td>5.0</td>\n",
       "      <td>1.0</td>\n",
       "      <td>16.0</td>\n",
       "      <td>52.0</td>\n",
       "      <td>8.450134</td>\n",
       "    </tr>\n",
       "    <tr>\n",
       "      <th>2</th>\n",
       "      <td>5.7</td>\n",
       "      <td>2011-08-18 00:35:00</td>\n",
       "      <td>-73.982738</td>\n",
       "      <td>40.761270</td>\n",
       "      <td>-73.991242</td>\n",
       "      <td>40.750562</td>\n",
       "      <td>2.0</td>\n",
       "      <td>2011.0</td>\n",
       "      <td>8.0</td>\n",
       "      <td>18.0</td>\n",
       "      <td>3.0</td>\n",
       "      <td>0.0</td>\n",
       "      <td>35.0</td>\n",
       "      <td>1.389525</td>\n",
       "    </tr>\n",
       "    <tr>\n",
       "      <th>3</th>\n",
       "      <td>7.7</td>\n",
       "      <td>2012-04-21 04:30:42</td>\n",
       "      <td>-73.987130</td>\n",
       "      <td>40.733143</td>\n",
       "      <td>-73.991567</td>\n",
       "      <td>40.758092</td>\n",
       "      <td>1.0</td>\n",
       "      <td>2012.0</td>\n",
       "      <td>4.0</td>\n",
       "      <td>21.0</td>\n",
       "      <td>5.0</td>\n",
       "      <td>4.0</td>\n",
       "      <td>30.0</td>\n",
       "      <td>2.799270</td>\n",
       "    </tr>\n",
       "    <tr>\n",
       "      <th>4</th>\n",
       "      <td>5.3</td>\n",
       "      <td>2010-03-09 07:51:00</td>\n",
       "      <td>-73.968095</td>\n",
       "      <td>40.768008</td>\n",
       "      <td>-73.956655</td>\n",
       "      <td>40.783762</td>\n",
       "      <td>1.0</td>\n",
       "      <td>2010.0</td>\n",
       "      <td>3.0</td>\n",
       "      <td>9.0</td>\n",
       "      <td>1.0</td>\n",
       "      <td>7.0</td>\n",
       "      <td>51.0</td>\n",
       "      <td>1.999157</td>\n",
       "    </tr>\n",
       "  </tbody>\n",
       "</table>\n",
       "</div>"
      ],
      "text/plain": [
       "   fare_amount     pickup_datetime  pickup_longitude  pickup_latitude  \\\n",
       "0          4.5 2009-06-15 17:26:21        -73.844311        40.721319   \n",
       "1         16.9 2010-01-05 16:52:16        -74.016048        40.711303   \n",
       "2          5.7 2011-08-18 00:35:00        -73.982738        40.761270   \n",
       "3          7.7 2012-04-21 04:30:42        -73.987130        40.733143   \n",
       "4          5.3 2010-03-09 07:51:00        -73.968095        40.768008   \n",
       "\n",
       "   dropoff_longitude  dropoff_latitude  passenger_count    Year  Month  Date  \\\n",
       "0         -73.841610         40.712278              1.0  2009.0    6.0  15.0   \n",
       "1         -73.979268         40.782004              1.0  2010.0    1.0   5.0   \n",
       "2         -73.991242         40.750562              2.0  2011.0    8.0  18.0   \n",
       "3         -73.991567         40.758092              1.0  2012.0    4.0  21.0   \n",
       "4         -73.956655         40.783762              1.0  2010.0    3.0   9.0   \n",
       "\n",
       "   Day  Hour  Minute  distance  \n",
       "0  0.0  17.0    26.0  1.030764  \n",
       "1  1.0  16.0    52.0  8.450134  \n",
       "2  3.0   0.0    35.0  1.389525  \n",
       "3  5.0   4.0    30.0  2.799270  \n",
       "4  1.0   7.0    51.0  1.999157  "
      ]
     },
     "execution_count": 79,
     "metadata": {},
     "output_type": "execute_result"
    }
   ],
   "source": [
    "train.head()"
   ]
  },
  {
   "cell_type": "code",
   "execution_count": 80,
   "id": "d7ea73a9-bf81-44f5-b961-abb564498f6d",
   "metadata": {},
   "outputs": [
    {
     "data": {
      "text/html": [
       "<div>\n",
       "<style scoped>\n",
       "    .dataframe tbody tr th:only-of-type {\n",
       "        vertical-align: middle;\n",
       "    }\n",
       "\n",
       "    .dataframe tbody tr th {\n",
       "        vertical-align: top;\n",
       "    }\n",
       "\n",
       "    .dataframe thead th {\n",
       "        text-align: right;\n",
       "    }\n",
       "</style>\n",
       "<table border=\"1\" class=\"dataframe\">\n",
       "  <thead>\n",
       "    <tr style=\"text-align: right;\">\n",
       "      <th></th>\n",
       "      <th>pickup_datetime</th>\n",
       "      <th>pickup_longitude</th>\n",
       "      <th>pickup_latitude</th>\n",
       "      <th>dropoff_longitude</th>\n",
       "      <th>dropoff_latitude</th>\n",
       "      <th>passenger_count</th>\n",
       "      <th>Year</th>\n",
       "      <th>Month</th>\n",
       "      <th>Date</th>\n",
       "      <th>Day</th>\n",
       "      <th>Hour</th>\n",
       "      <th>Minute</th>\n",
       "      <th>distance</th>\n",
       "    </tr>\n",
       "  </thead>\n",
       "  <tbody>\n",
       "    <tr>\n",
       "      <th>0</th>\n",
       "      <td>2015-01-27 13:08:24</td>\n",
       "      <td>-73.973320</td>\n",
       "      <td>40.763805</td>\n",
       "      <td>-73.981430</td>\n",
       "      <td>40.743835</td>\n",
       "      <td>1</td>\n",
       "      <td>2015</td>\n",
       "      <td>1</td>\n",
       "      <td>27</td>\n",
       "      <td>1</td>\n",
       "      <td>13</td>\n",
       "      <td>8</td>\n",
       "      <td>2.323259</td>\n",
       "    </tr>\n",
       "    <tr>\n",
       "      <th>1</th>\n",
       "      <td>2015-01-27 13:08:24</td>\n",
       "      <td>-73.986862</td>\n",
       "      <td>40.719383</td>\n",
       "      <td>-73.998886</td>\n",
       "      <td>40.739201</td>\n",
       "      <td>1</td>\n",
       "      <td>2015</td>\n",
       "      <td>1</td>\n",
       "      <td>27</td>\n",
       "      <td>1</td>\n",
       "      <td>13</td>\n",
       "      <td>8</td>\n",
       "      <td>2.425353</td>\n",
       "    </tr>\n",
       "    <tr>\n",
       "      <th>2</th>\n",
       "      <td>2011-10-08 11:53:44</td>\n",
       "      <td>-73.982524</td>\n",
       "      <td>40.751260</td>\n",
       "      <td>-73.979654</td>\n",
       "      <td>40.746139</td>\n",
       "      <td>1</td>\n",
       "      <td>2011</td>\n",
       "      <td>10</td>\n",
       "      <td>8</td>\n",
       "      <td>5</td>\n",
       "      <td>11</td>\n",
       "      <td>53</td>\n",
       "      <td>0.618628</td>\n",
       "    </tr>\n",
       "    <tr>\n",
       "      <th>3</th>\n",
       "      <td>2012-12-01 21:12:12</td>\n",
       "      <td>-73.981160</td>\n",
       "      <td>40.767807</td>\n",
       "      <td>-73.990448</td>\n",
       "      <td>40.751635</td>\n",
       "      <td>1</td>\n",
       "      <td>2012</td>\n",
       "      <td>12</td>\n",
       "      <td>1</td>\n",
       "      <td>5</td>\n",
       "      <td>21</td>\n",
       "      <td>12</td>\n",
       "      <td>1.961033</td>\n",
       "    </tr>\n",
       "    <tr>\n",
       "      <th>4</th>\n",
       "      <td>2012-12-01 21:12:12</td>\n",
       "      <td>-73.966046</td>\n",
       "      <td>40.789775</td>\n",
       "      <td>-73.988565</td>\n",
       "      <td>40.744427</td>\n",
       "      <td>1</td>\n",
       "      <td>2012</td>\n",
       "      <td>12</td>\n",
       "      <td>1</td>\n",
       "      <td>5</td>\n",
       "      <td>21</td>\n",
       "      <td>12</td>\n",
       "      <td>5.387301</td>\n",
       "    </tr>\n",
       "  </tbody>\n",
       "</table>\n",
       "</div>"
      ],
      "text/plain": [
       "      pickup_datetime  pickup_longitude  pickup_latitude  dropoff_longitude  \\\n",
       "0 2015-01-27 13:08:24        -73.973320        40.763805         -73.981430   \n",
       "1 2015-01-27 13:08:24        -73.986862        40.719383         -73.998886   \n",
       "2 2011-10-08 11:53:44        -73.982524        40.751260         -73.979654   \n",
       "3 2012-12-01 21:12:12        -73.981160        40.767807         -73.990448   \n",
       "4 2012-12-01 21:12:12        -73.966046        40.789775         -73.988565   \n",
       "\n",
       "   dropoff_latitude  passenger_count  Year  Month  Date  Day  Hour  Minute  \\\n",
       "0         40.743835                1  2015      1    27    1    13       8   \n",
       "1         40.739201                1  2015      1    27    1    13       8   \n",
       "2         40.746139                1  2011     10     8    5    11      53   \n",
       "3         40.751635                1  2012     12     1    5    21      12   \n",
       "4         40.744427                1  2012     12     1    5    21      12   \n",
       "\n",
       "   distance  \n",
       "0  2.323259  \n",
       "1  2.425353  \n",
       "2  0.618628  \n",
       "3  1.961033  \n",
       "4  5.387301  "
      ]
     },
     "execution_count": 80,
     "metadata": {},
     "output_type": "execute_result"
    }
   ],
   "source": [
    "test.head()"
   ]
  },
  {
   "cell_type": "code",
   "execution_count": 81,
   "id": "f545b26f-08a1-4c80-afc4-f6121ddb2ffc",
   "metadata": {},
   "outputs": [
    {
     "data": {
      "text/plain": [
       "fare_amount            459\n",
       "pickup_datetime      15856\n",
       "pickup_longitude     13672\n",
       "pickup_latitude      14110\n",
       "dropoff_longitude    13763\n",
       "dropoff_latitude     14136\n",
       "passenger_count          7\n",
       "Year                     7\n",
       "Month                   12\n",
       "Date                    31\n",
       "Day                      7\n",
       "Hour                    24\n",
       "Minute                  60\n",
       "distance             15448\n",
       "dtype: int64"
      ]
     },
     "execution_count": 81,
     "metadata": {},
     "output_type": "execute_result"
    }
   ],
   "source": [
    "train.nunique()"
   ]
  },
  {
   "cell_type": "code",
   "execution_count": 82,
   "id": "a9a6dea7-cba6-4f25-9d58-ef5f508a29ba",
   "metadata": {},
   "outputs": [
    {
     "data": {
      "text/plain": [
       "pickup_datetime      1753\n",
       "pickup_longitude     9124\n",
       "pickup_latitude      9246\n",
       "dropoff_longitude    9141\n",
       "dropoff_latitude     9360\n",
       "passenger_count         6\n",
       "Year                    7\n",
       "Month                  12\n",
       "Date                   31\n",
       "Day                     7\n",
       "Hour                   24\n",
       "Minute                 60\n",
       "distance             9830\n",
       "dtype: int64"
      ]
     },
     "execution_count": 82,
     "metadata": {},
     "output_type": "execute_result"
    }
   ],
   "source": [
    "test.nunique()"
   ]
  },
  {
   "cell_type": "code",
   "execution_count": 83,
   "id": "69abca2a-5839-4eea-9b65-45628fe03234",
   "metadata": {},
   "outputs": [
    {
     "data": {
      "text/plain": [
       "9147     8667.542104\n",
       "8647     8667.497512\n",
       "2397     8667.454421\n",
       "472      8667.304968\n",
       "11653    8666.701504\n",
       "            ...     \n",
       "8982        0.000000\n",
       "7009        0.000000\n",
       "4769        0.000000\n",
       "3711        0.000000\n",
       "12478       0.000000\n",
       "Name: distance, Length: 15901, dtype: float64"
      ]
     },
     "execution_count": 83,
     "metadata": {},
     "output_type": "execute_result"
    }
   ],
   "source": [
    "#  checking the outliers in the distance column\n",
    "train['distance'].sort_values(ascending = False)"
   ]
  },
  {
   "cell_type": "code",
   "execution_count": 84,
   "id": "2559624b-4dc5-4287-bbfe-81094f889356",
   "metadata": {},
   "outputs": [
    {
     "data": {
      "text/html": [
       "<div>\n",
       "<style scoped>\n",
       "    .dataframe tbody tr th:only-of-type {\n",
       "        vertical-align: middle;\n",
       "    }\n",
       "\n",
       "    .dataframe tbody tr th {\n",
       "        vertical-align: top;\n",
       "    }\n",
       "\n",
       "    .dataframe thead th {\n",
       "        text-align: right;\n",
       "    }\n",
       "</style>\n",
       "<table border=\"1\" class=\"dataframe\">\n",
       "  <thead>\n",
       "    <tr style=\"text-align: right;\">\n",
       "      <th></th>\n",
       "      <th>fare_amount</th>\n",
       "      <th>pickup_datetime</th>\n",
       "      <th>pickup_longitude</th>\n",
       "      <th>pickup_latitude</th>\n",
       "      <th>dropoff_longitude</th>\n",
       "      <th>dropoff_latitude</th>\n",
       "      <th>passenger_count</th>\n",
       "      <th>Year</th>\n",
       "      <th>Month</th>\n",
       "      <th>Date</th>\n",
       "      <th>Day</th>\n",
       "      <th>Hour</th>\n",
       "      <th>Minute</th>\n",
       "      <th>distance</th>\n",
       "    </tr>\n",
       "  </thead>\n",
       "  <tbody>\n",
       "    <tr>\n",
       "      <th>472</th>\n",
       "      <td>2.50</td>\n",
       "      <td>2009-02-22 22:48:00</td>\n",
       "      <td>0.000000</td>\n",
       "      <td>0.000000</td>\n",
       "      <td>-74.005433</td>\n",
       "      <td>40.726685</td>\n",
       "      <td>2.0</td>\n",
       "      <td>2009.0</td>\n",
       "      <td>2.0</td>\n",
       "      <td>22.0</td>\n",
       "      <td>6.0</td>\n",
       "      <td>22.0</td>\n",
       "      <td>48.0</td>\n",
       "      <td>8667.304968</td>\n",
       "    </tr>\n",
       "    <tr>\n",
       "      <th>1260</th>\n",
       "      <td>5.70</td>\n",
       "      <td>2011-03-10 20:25:00</td>\n",
       "      <td>-73.973907</td>\n",
       "      <td>40.754743</td>\n",
       "      <td>0.000000</td>\n",
       "      <td>0.000000</td>\n",
       "      <td>2.0</td>\n",
       "      <td>2011.0</td>\n",
       "      <td>3.0</td>\n",
       "      <td>10.0</td>\n",
       "      <td>3.0</td>\n",
       "      <td>20.0</td>\n",
       "      <td>25.0</td>\n",
       "      <td>8665.268588</td>\n",
       "    </tr>\n",
       "    <tr>\n",
       "      <th>2397</th>\n",
       "      <td>45.00</td>\n",
       "      <td>2012-06-24 17:11:10</td>\n",
       "      <td>0.000000</td>\n",
       "      <td>0.000000</td>\n",
       "      <td>-74.010230</td>\n",
       "      <td>40.714553</td>\n",
       "      <td>2.0</td>\n",
       "      <td>2012.0</td>\n",
       "      <td>6.0</td>\n",
       "      <td>24.0</td>\n",
       "      <td>6.0</td>\n",
       "      <td>17.0</td>\n",
       "      <td>11.0</td>\n",
       "      <td>8667.454421</td>\n",
       "    </tr>\n",
       "    <tr>\n",
       "      <th>4278</th>\n",
       "      <td>7.00</td>\n",
       "      <td>2015-04-07 23:33:02</td>\n",
       "      <td>-73.972702</td>\n",
       "      <td>40.757423</td>\n",
       "      <td>0.000000</td>\n",
       "      <td>0.000000</td>\n",
       "      <td>1.0</td>\n",
       "      <td>2015.0</td>\n",
       "      <td>4.0</td>\n",
       "      <td>7.0</td>\n",
       "      <td>1.0</td>\n",
       "      <td>23.0</td>\n",
       "      <td>33.0</td>\n",
       "      <td>8665.223767</td>\n",
       "    </tr>\n",
       "    <tr>\n",
       "      <th>4597</th>\n",
       "      <td>6.90</td>\n",
       "      <td>2010-03-30 07:12:00</td>\n",
       "      <td>0.000000</td>\n",
       "      <td>0.000000</td>\n",
       "      <td>-73.989693</td>\n",
       "      <td>40.754280</td>\n",
       "      <td>1.0</td>\n",
       "      <td>2010.0</td>\n",
       "      <td>3.0</td>\n",
       "      <td>30.0</td>\n",
       "      <td>1.0</td>\n",
       "      <td>7.0</td>\n",
       "      <td>12.0</td>\n",
       "      <td>8666.566030</td>\n",
       "    </tr>\n",
       "    <tr>\n",
       "      <th>6188</th>\n",
       "      <td>15.50</td>\n",
       "      <td>2014-07-28 15:04:00</td>\n",
       "      <td>0.000000</td>\n",
       "      <td>0.000000</td>\n",
       "      <td>-73.952980</td>\n",
       "      <td>40.786670</td>\n",
       "      <td>5.0</td>\n",
       "      <td>2014.0</td>\n",
       "      <td>7.0</td>\n",
       "      <td>28.0</td>\n",
       "      <td>0.0</td>\n",
       "      <td>15.0</td>\n",
       "      <td>4.0</td>\n",
       "      <td>8664.191488</td>\n",
       "    </tr>\n",
       "    <tr>\n",
       "      <th>6302</th>\n",
       "      <td>16.50</td>\n",
       "      <td>2015-02-27 16:18:58</td>\n",
       "      <td>0.000000</td>\n",
       "      <td>0.000000</td>\n",
       "      <td>-73.936600</td>\n",
       "      <td>40.796543</td>\n",
       "      <td>1.0</td>\n",
       "      <td>2015.0</td>\n",
       "      <td>2.0</td>\n",
       "      <td>27.0</td>\n",
       "      <td>4.0</td>\n",
       "      <td>16.0</td>\n",
       "      <td>18.0</td>\n",
       "      <td>8663.039123</td>\n",
       "    </tr>\n",
       "    <tr>\n",
       "      <th>8647</th>\n",
       "      <td>21.50</td>\n",
       "      <td>2014-03-27 18:01:00</td>\n",
       "      <td>-74.001808</td>\n",
       "      <td>40.750782</td>\n",
       "      <td>0.000000</td>\n",
       "      <td>0.000000</td>\n",
       "      <td>1.0</td>\n",
       "      <td>2014.0</td>\n",
       "      <td>3.0</td>\n",
       "      <td>27.0</td>\n",
       "      <td>3.0</td>\n",
       "      <td>18.0</td>\n",
       "      <td>1.0</td>\n",
       "      <td>8667.497512</td>\n",
       "    </tr>\n",
       "    <tr>\n",
       "      <th>9147</th>\n",
       "      <td>8.50</td>\n",
       "      <td>2014-07-14 21:37:29</td>\n",
       "      <td>0.000000</td>\n",
       "      <td>0.000000</td>\n",
       "      <td>-74.002037</td>\n",
       "      <td>40.752035</td>\n",
       "      <td>1.0</td>\n",
       "      <td>2014.0</td>\n",
       "      <td>7.0</td>\n",
       "      <td>14.0</td>\n",
       "      <td>0.0</td>\n",
       "      <td>21.0</td>\n",
       "      <td>37.0</td>\n",
       "      <td>8667.542104</td>\n",
       "    </tr>\n",
       "    <tr>\n",
       "      <th>10215</th>\n",
       "      <td>13.30</td>\n",
       "      <td>2011-03-18 09:33:41</td>\n",
       "      <td>0.000000</td>\n",
       "      <td>0.000000</td>\n",
       "      <td>-73.990138</td>\n",
       "      <td>40.753392</td>\n",
       "      <td>1.0</td>\n",
       "      <td>2011.0</td>\n",
       "      <td>3.0</td>\n",
       "      <td>18.0</td>\n",
       "      <td>4.0</td>\n",
       "      <td>9.0</td>\n",
       "      <td>33.0</td>\n",
       "      <td>8666.584706</td>\n",
       "    </tr>\n",
       "    <tr>\n",
       "      <th>10458</th>\n",
       "      <td>2.50</td>\n",
       "      <td>2013-02-23 20:58:00</td>\n",
       "      <td>-73.979678</td>\n",
       "      <td>40.765962</td>\n",
       "      <td>0.000000</td>\n",
       "      <td>0.000000</td>\n",
       "      <td>1.0</td>\n",
       "      <td>2013.0</td>\n",
       "      <td>2.0</td>\n",
       "      <td>23.0</td>\n",
       "      <td>5.0</td>\n",
       "      <td>20.0</td>\n",
       "      <td>58.0</td>\n",
       "      <td>8665.976222</td>\n",
       "    </tr>\n",
       "    <tr>\n",
       "      <th>10488</th>\n",
       "      <td>5.30</td>\n",
       "      <td>2012-03-15 00:30:07</td>\n",
       "      <td>-73.978103</td>\n",
       "      <td>40.751798</td>\n",
       "      <td>0.000000</td>\n",
       "      <td>0.000000</td>\n",
       "      <td>1.0</td>\n",
       "      <td>2012.0</td>\n",
       "      <td>3.0</td>\n",
       "      <td>15.0</td>\n",
       "      <td>3.0</td>\n",
       "      <td>0.0</td>\n",
       "      <td>30.0</td>\n",
       "      <td>8665.555634</td>\n",
       "    </tr>\n",
       "    <tr>\n",
       "      <th>10672</th>\n",
       "      <td>18.00</td>\n",
       "      <td>2015-04-30 15:34:46</td>\n",
       "      <td>-73.979355</td>\n",
       "      <td>40.753902</td>\n",
       "      <td>0.000000</td>\n",
       "      <td>0.000000</td>\n",
       "      <td>1.0</td>\n",
       "      <td>2015.0</td>\n",
       "      <td>4.0</td>\n",
       "      <td>30.0</td>\n",
       "      <td>3.0</td>\n",
       "      <td>15.0</td>\n",
       "      <td>34.0</td>\n",
       "      <td>8665.702390</td>\n",
       "    </tr>\n",
       "    <tr>\n",
       "      <th>11653</th>\n",
       "      <td>16.00</td>\n",
       "      <td>2015-03-04 16:06:28</td>\n",
       "      <td>0.000000</td>\n",
       "      <td>0.000000</td>\n",
       "      <td>-73.985329</td>\n",
       "      <td>40.778534</td>\n",
       "      <td>1.0</td>\n",
       "      <td>2015.0</td>\n",
       "      <td>3.0</td>\n",
       "      <td>4.0</td>\n",
       "      <td>2.0</td>\n",
       "      <td>16.0</td>\n",
       "      <td>6.0</td>\n",
       "      <td>8666.701504</td>\n",
       "    </tr>\n",
       "    <tr>\n",
       "      <th>12705</th>\n",
       "      <td>2.50</td>\n",
       "      <td>2012-10-31 14:37:00</td>\n",
       "      <td>-73.929230</td>\n",
       "      <td>40.744627</td>\n",
       "      <td>0.000000</td>\n",
       "      <td>0.000000</td>\n",
       "      <td>5.0</td>\n",
       "      <td>2012.0</td>\n",
       "      <td>10.0</td>\n",
       "      <td>31.0</td>\n",
       "      <td>2.0</td>\n",
       "      <td>14.0</td>\n",
       "      <td>37.0</td>\n",
       "      <td>8661.362152</td>\n",
       "    </tr>\n",
       "    <tr>\n",
       "      <th>12983</th>\n",
       "      <td>57.33</td>\n",
       "      <td>2013-03-07 21:04:00</td>\n",
       "      <td>-73.958870</td>\n",
       "      <td>40.760012</td>\n",
       "      <td>0.000000</td>\n",
       "      <td>0.000000</td>\n",
       "      <td>1.0</td>\n",
       "      <td>2013.0</td>\n",
       "      <td>3.0</td>\n",
       "      <td>7.0</td>\n",
       "      <td>3.0</td>\n",
       "      <td>21.0</td>\n",
       "      <td>4.0</td>\n",
       "      <td>8664.131808</td>\n",
       "    </tr>\n",
       "    <tr>\n",
       "      <th>13340</th>\n",
       "      <td>18.50</td>\n",
       "      <td>2014-03-31 12:34:47</td>\n",
       "      <td>0.000000</td>\n",
       "      <td>0.000000</td>\n",
       "      <td>-73.997643</td>\n",
       "      <td>40.724432</td>\n",
       "      <td>1.0</td>\n",
       "      <td>2014.0</td>\n",
       "      <td>3.0</td>\n",
       "      <td>31.0</td>\n",
       "      <td>0.0</td>\n",
       "      <td>12.0</td>\n",
       "      <td>34.0</td>\n",
       "      <td>8666.613646</td>\n",
       "    </tr>\n",
       "    <tr>\n",
       "      <th>14197</th>\n",
       "      <td>48.00</td>\n",
       "      <td>2013-04-19 16:49:00</td>\n",
       "      <td>-73.870945</td>\n",
       "      <td>40.773700</td>\n",
       "      <td>0.000000</td>\n",
       "      <td>0.000000</td>\n",
       "      <td>1.0</td>\n",
       "      <td>2013.0</td>\n",
       "      <td>4.0</td>\n",
       "      <td>19.0</td>\n",
       "      <td>4.0</td>\n",
       "      <td>16.0</td>\n",
       "      <td>49.0</td>\n",
       "      <td>8657.136619</td>\n",
       "    </tr>\n",
       "    <tr>\n",
       "      <th>15783</th>\n",
       "      <td>26.50</td>\n",
       "      <td>2014-09-28 08:18:55</td>\n",
       "      <td>0.000000</td>\n",
       "      <td>0.000000</td>\n",
       "      <td>-73.867056</td>\n",
       "      <td>40.768823</td>\n",
       "      <td>1.0</td>\n",
       "      <td>2014.0</td>\n",
       "      <td>9.0</td>\n",
       "      <td>28.0</td>\n",
       "      <td>6.0</td>\n",
       "      <td>8.0</td>\n",
       "      <td>18.0</td>\n",
       "      <td>8656.714168</td>\n",
       "    </tr>\n",
       "  </tbody>\n",
       "</table>\n",
       "</div>"
      ],
      "text/plain": [
       "       fare_amount     pickup_datetime  pickup_longitude  pickup_latitude  \\\n",
       "472           2.50 2009-02-22 22:48:00          0.000000         0.000000   \n",
       "1260          5.70 2011-03-10 20:25:00        -73.973907        40.754743   \n",
       "2397         45.00 2012-06-24 17:11:10          0.000000         0.000000   \n",
       "4278          7.00 2015-04-07 23:33:02        -73.972702        40.757423   \n",
       "4597          6.90 2010-03-30 07:12:00          0.000000         0.000000   \n",
       "6188         15.50 2014-07-28 15:04:00          0.000000         0.000000   \n",
       "6302         16.50 2015-02-27 16:18:58          0.000000         0.000000   \n",
       "8647         21.50 2014-03-27 18:01:00        -74.001808        40.750782   \n",
       "9147          8.50 2014-07-14 21:37:29          0.000000         0.000000   \n",
       "10215        13.30 2011-03-18 09:33:41          0.000000         0.000000   \n",
       "10458         2.50 2013-02-23 20:58:00        -73.979678        40.765962   \n",
       "10488         5.30 2012-03-15 00:30:07        -73.978103        40.751798   \n",
       "10672        18.00 2015-04-30 15:34:46        -73.979355        40.753902   \n",
       "11653        16.00 2015-03-04 16:06:28          0.000000         0.000000   \n",
       "12705         2.50 2012-10-31 14:37:00        -73.929230        40.744627   \n",
       "12983        57.33 2013-03-07 21:04:00        -73.958870        40.760012   \n",
       "13340        18.50 2014-03-31 12:34:47          0.000000         0.000000   \n",
       "14197        48.00 2013-04-19 16:49:00        -73.870945        40.773700   \n",
       "15783        26.50 2014-09-28 08:18:55          0.000000         0.000000   \n",
       "\n",
       "       dropoff_longitude  dropoff_latitude  passenger_count    Year  Month  \\\n",
       "472           -74.005433         40.726685              2.0  2009.0    2.0   \n",
       "1260            0.000000          0.000000              2.0  2011.0    3.0   \n",
       "2397          -74.010230         40.714553              2.0  2012.0    6.0   \n",
       "4278            0.000000          0.000000              1.0  2015.0    4.0   \n",
       "4597          -73.989693         40.754280              1.0  2010.0    3.0   \n",
       "6188          -73.952980         40.786670              5.0  2014.0    7.0   \n",
       "6302          -73.936600         40.796543              1.0  2015.0    2.0   \n",
       "8647            0.000000          0.000000              1.0  2014.0    3.0   \n",
       "9147          -74.002037         40.752035              1.0  2014.0    7.0   \n",
       "10215         -73.990138         40.753392              1.0  2011.0    3.0   \n",
       "10458           0.000000          0.000000              1.0  2013.0    2.0   \n",
       "10488           0.000000          0.000000              1.0  2012.0    3.0   \n",
       "10672           0.000000          0.000000              1.0  2015.0    4.0   \n",
       "11653         -73.985329         40.778534              1.0  2015.0    3.0   \n",
       "12705           0.000000          0.000000              5.0  2012.0   10.0   \n",
       "12983           0.000000          0.000000              1.0  2013.0    3.0   \n",
       "13340         -73.997643         40.724432              1.0  2014.0    3.0   \n",
       "14197           0.000000          0.000000              1.0  2013.0    4.0   \n",
       "15783         -73.867056         40.768823              1.0  2014.0    9.0   \n",
       "\n",
       "       Date  Day  Hour  Minute     distance  \n",
       "472    22.0  6.0  22.0    48.0  8667.304968  \n",
       "1260   10.0  3.0  20.0    25.0  8665.268588  \n",
       "2397   24.0  6.0  17.0    11.0  8667.454421  \n",
       "4278    7.0  1.0  23.0    33.0  8665.223767  \n",
       "4597   30.0  1.0   7.0    12.0  8666.566030  \n",
       "6188   28.0  0.0  15.0     4.0  8664.191488  \n",
       "6302   27.0  4.0  16.0    18.0  8663.039123  \n",
       "8647   27.0  3.0  18.0     1.0  8667.497512  \n",
       "9147   14.0  0.0  21.0    37.0  8667.542104  \n",
       "10215  18.0  4.0   9.0    33.0  8666.584706  \n",
       "10458  23.0  5.0  20.0    58.0  8665.976222  \n",
       "10488  15.0  3.0   0.0    30.0  8665.555634  \n",
       "10672  30.0  3.0  15.0    34.0  8665.702390  \n",
       "11653   4.0  2.0  16.0     6.0  8666.701504  \n",
       "12705  31.0  2.0  14.0    37.0  8661.362152  \n",
       "12983   7.0  3.0  21.0     4.0  8664.131808  \n",
       "13340  31.0  0.0  12.0    34.0  8666.613646  \n",
       "14197  19.0  4.0  16.0    49.0  8657.136619  \n",
       "15783  28.0  6.0   8.0    18.0  8656.714168  "
      ]
     },
     "execution_count": 84,
     "metadata": {},
     "output_type": "execute_result"
    }
   ],
   "source": [
    "train[train[\"distance\"] > 8000]"
   ]
  },
  {
   "cell_type": "code",
   "execution_count": 85,
   "id": "a5dbec50-a5cf-4851-adbb-4a092b6292b9",
   "metadata": {},
   "outputs": [],
   "source": [
    "# The top 23 values in distance column is very high it cant be graeter than 8000 because it is the maximum distance of the earth\n",
    "# we remove those values the top distance goes down to 127 "
   ]
  },
  {
   "cell_type": "code",
   "execution_count": 86,
   "id": "507095c1-aac4-406c-80ba-84296123638c",
   "metadata": {},
   "outputs": [
    {
     "data": {
      "text/plain": [
       "(15878, 14)"
      ]
     },
     "execution_count": 86,
     "metadata": {},
     "output_type": "execute_result"
    }
   ],
   "source": [
    "#  we will remove the rows whose distancee value is very high which is more than 129km\n",
    "train = train.drop(train[train['distance'] > 130 ].index, axis = 0)\n",
    "train.shape"
   ]
  },
  {
   "cell_type": "code",
   "execution_count": 87,
   "id": "f6f07121-7316-4dca-bfc6-1f87f291f614",
   "metadata": {},
   "outputs": [
    {
     "data": {
      "text/plain": [
       "Counter({False: 15424, True: 454})"
      ]
     },
     "execution_count": 87,
     "metadata": {},
     "output_type": "execute_result"
    }
   ],
   "source": [
    "Counter(train['distance'] == 0)"
   ]
  },
  {
   "cell_type": "code",
   "execution_count": 88,
   "id": "da7e438f-c1e5-4d05-8b87-b4caca42e89e",
   "metadata": {},
   "outputs": [
    {
     "data": {
      "text/plain": [
       "Counter({False: 9829, True: 85})"
      ]
     },
     "execution_count": 88,
     "metadata": {},
     "output_type": "execute_result"
    }
   ],
   "source": [
    "Counter(test['distance'] == 0)"
   ]
  },
  {
   "cell_type": "code",
   "execution_count": 89,
   "id": "508e3016-b9f9-47a0-8eaa-adeee4180a9f",
   "metadata": {},
   "outputs": [],
   "source": [
    "# we need to drop all the distance values which are equal to 0"
   ]
  },
  {
   "cell_type": "code",
   "execution_count": 90,
   "id": "1e5700df-098a-4043-8360-2e621ad5ddd6",
   "metadata": {},
   "outputs": [
    {
     "data": {
      "text/plain": [
       "(15424, 14)"
      ]
     },
     "execution_count": 90,
     "metadata": {},
     "output_type": "execute_result"
    }
   ],
   "source": [
    "train = train.drop(train[train['distance'] == 0 ].index, axis = 0)\n",
    "train.shape"
   ]
  },
  {
   "cell_type": "code",
   "execution_count": 91,
   "id": "930ead63-4387-4495-aee7-ac2e6949e701",
   "metadata": {},
   "outputs": [
    {
     "data": {
      "text/plain": [
       "(9829, 13)"
      ]
     },
     "execution_count": 91,
     "metadata": {},
     "output_type": "execute_result"
    }
   ],
   "source": [
    "test = test.drop(test[test['distance'] == 0 ].index, axis = 0)\n",
    "test.shape"
   ]
  },
  {
   "cell_type": "markdown",
   "id": "f9cbbcc5-052d-4d36-a309-58ea7d3dbcac",
   "metadata": {},
   "source": [
    "we have splitted pickp_datetime into yaer , month, day, hour, minute so pickup_datetime would be irrelevant so we will be dropping it. We have already calculated distance usinfg the pickup and droppoff longitude and latitude respectively. So we will be dropping all those variables"
   ]
  },
  {
   "cell_type": "code",
   "execution_count": 93,
   "id": "36e2b14e-2022-4755-a391-264258388155",
   "metadata": {},
   "outputs": [
    {
     "data": {
      "text/html": [
       "<div>\n",
       "<style scoped>\n",
       "    .dataframe tbody tr th:only-of-type {\n",
       "        vertical-align: middle;\n",
       "    }\n",
       "\n",
       "    .dataframe tbody tr th {\n",
       "        vertical-align: top;\n",
       "    }\n",
       "\n",
       "    .dataframe thead th {\n",
       "        text-align: right;\n",
       "    }\n",
       "</style>\n",
       "<table border=\"1\" class=\"dataframe\">\n",
       "  <thead>\n",
       "    <tr style=\"text-align: right;\">\n",
       "      <th></th>\n",
       "      <th>fare_amount</th>\n",
       "      <th>pickup_datetime</th>\n",
       "      <th>pickup_longitude</th>\n",
       "      <th>pickup_latitude</th>\n",
       "      <th>dropoff_longitude</th>\n",
       "      <th>dropoff_latitude</th>\n",
       "      <th>passenger_count</th>\n",
       "      <th>Year</th>\n",
       "      <th>Month</th>\n",
       "      <th>Date</th>\n",
       "      <th>Day</th>\n",
       "      <th>Hour</th>\n",
       "      <th>Minute</th>\n",
       "      <th>distance</th>\n",
       "    </tr>\n",
       "  </thead>\n",
       "  <tbody>\n",
       "    <tr>\n",
       "      <th>0</th>\n",
       "      <td>4.5</td>\n",
       "      <td>2009-06-15 17:26:21</td>\n",
       "      <td>-73.844311</td>\n",
       "      <td>40.721319</td>\n",
       "      <td>-73.841610</td>\n",
       "      <td>40.712278</td>\n",
       "      <td>1.0</td>\n",
       "      <td>2009.0</td>\n",
       "      <td>6.0</td>\n",
       "      <td>15.0</td>\n",
       "      <td>0.0</td>\n",
       "      <td>17.0</td>\n",
       "      <td>26.0</td>\n",
       "      <td>1.030764</td>\n",
       "    </tr>\n",
       "    <tr>\n",
       "      <th>1</th>\n",
       "      <td>16.9</td>\n",
       "      <td>2010-01-05 16:52:16</td>\n",
       "      <td>-74.016048</td>\n",
       "      <td>40.711303</td>\n",
       "      <td>-73.979268</td>\n",
       "      <td>40.782004</td>\n",
       "      <td>1.0</td>\n",
       "      <td>2010.0</td>\n",
       "      <td>1.0</td>\n",
       "      <td>5.0</td>\n",
       "      <td>1.0</td>\n",
       "      <td>16.0</td>\n",
       "      <td>52.0</td>\n",
       "      <td>8.450134</td>\n",
       "    </tr>\n",
       "    <tr>\n",
       "      <th>2</th>\n",
       "      <td>5.7</td>\n",
       "      <td>2011-08-18 00:35:00</td>\n",
       "      <td>-73.982738</td>\n",
       "      <td>40.761270</td>\n",
       "      <td>-73.991242</td>\n",
       "      <td>40.750562</td>\n",
       "      <td>2.0</td>\n",
       "      <td>2011.0</td>\n",
       "      <td>8.0</td>\n",
       "      <td>18.0</td>\n",
       "      <td>3.0</td>\n",
       "      <td>0.0</td>\n",
       "      <td>35.0</td>\n",
       "      <td>1.389525</td>\n",
       "    </tr>\n",
       "    <tr>\n",
       "      <th>3</th>\n",
       "      <td>7.7</td>\n",
       "      <td>2012-04-21 04:30:42</td>\n",
       "      <td>-73.987130</td>\n",
       "      <td>40.733143</td>\n",
       "      <td>-73.991567</td>\n",
       "      <td>40.758092</td>\n",
       "      <td>1.0</td>\n",
       "      <td>2012.0</td>\n",
       "      <td>4.0</td>\n",
       "      <td>21.0</td>\n",
       "      <td>5.0</td>\n",
       "      <td>4.0</td>\n",
       "      <td>30.0</td>\n",
       "      <td>2.799270</td>\n",
       "    </tr>\n",
       "    <tr>\n",
       "      <th>4</th>\n",
       "      <td>5.3</td>\n",
       "      <td>2010-03-09 07:51:00</td>\n",
       "      <td>-73.968095</td>\n",
       "      <td>40.768008</td>\n",
       "      <td>-73.956655</td>\n",
       "      <td>40.783762</td>\n",
       "      <td>1.0</td>\n",
       "      <td>2010.0</td>\n",
       "      <td>3.0</td>\n",
       "      <td>9.0</td>\n",
       "      <td>1.0</td>\n",
       "      <td>7.0</td>\n",
       "      <td>51.0</td>\n",
       "      <td>1.999157</td>\n",
       "    </tr>\n",
       "  </tbody>\n",
       "</table>\n",
       "</div>"
      ],
      "text/plain": [
       "   fare_amount     pickup_datetime  pickup_longitude  pickup_latitude  \\\n",
       "0          4.5 2009-06-15 17:26:21        -73.844311        40.721319   \n",
       "1         16.9 2010-01-05 16:52:16        -74.016048        40.711303   \n",
       "2          5.7 2011-08-18 00:35:00        -73.982738        40.761270   \n",
       "3          7.7 2012-04-21 04:30:42        -73.987130        40.733143   \n",
       "4          5.3 2010-03-09 07:51:00        -73.968095        40.768008   \n",
       "\n",
       "   dropoff_longitude  dropoff_latitude  passenger_count    Year  Month  Date  \\\n",
       "0         -73.841610         40.712278              1.0  2009.0    6.0  15.0   \n",
       "1         -73.979268         40.782004              1.0  2010.0    1.0   5.0   \n",
       "2         -73.991242         40.750562              2.0  2011.0    8.0  18.0   \n",
       "3         -73.991567         40.758092              1.0  2012.0    4.0  21.0   \n",
       "4         -73.956655         40.783762              1.0  2010.0    3.0   9.0   \n",
       "\n",
       "   Day  Hour  Minute  distance  \n",
       "0  0.0  17.0    26.0  1.030764  \n",
       "1  1.0  16.0    52.0  8.450134  \n",
       "2  3.0   0.0    35.0  1.389525  \n",
       "3  5.0   4.0    30.0  2.799270  \n",
       "4  1.0   7.0    51.0  1.999157  "
      ]
     },
     "execution_count": 93,
     "metadata": {},
     "output_type": "execute_result"
    }
   ],
   "source": [
    "train.head()"
   ]
  },
  {
   "cell_type": "code",
   "execution_count": 94,
   "id": "18c4eec5-803f-43c1-9260-bdd6a018b686",
   "metadata": {},
   "outputs": [],
   "source": [
    "drop_columns = ['pickup_datetime', 'pickup_longitude', 'pickup_latitude', 'dropoff_longitude', 'dropoff_latitude', 'Minute']\n",
    "train = train.drop(drop_columns, axis = 1)"
   ]
  },
  {
   "cell_type": "code",
   "execution_count": 95,
   "id": "de6c5be2-3127-4ea7-a4ca-08af1bc6d7f9",
   "metadata": {},
   "outputs": [
    {
     "data": {
      "text/html": [
       "<div>\n",
       "<style scoped>\n",
       "    .dataframe tbody tr th:only-of-type {\n",
       "        vertical-align: middle;\n",
       "    }\n",
       "\n",
       "    .dataframe tbody tr th {\n",
       "        vertical-align: top;\n",
       "    }\n",
       "\n",
       "    .dataframe thead th {\n",
       "        text-align: right;\n",
       "    }\n",
       "</style>\n",
       "<table border=\"1\" class=\"dataframe\">\n",
       "  <thead>\n",
       "    <tr style=\"text-align: right;\">\n",
       "      <th></th>\n",
       "      <th>fare_amount</th>\n",
       "      <th>passenger_count</th>\n",
       "      <th>Year</th>\n",
       "      <th>Month</th>\n",
       "      <th>Date</th>\n",
       "      <th>Day</th>\n",
       "      <th>Hour</th>\n",
       "      <th>distance</th>\n",
       "    </tr>\n",
       "  </thead>\n",
       "  <tbody>\n",
       "    <tr>\n",
       "      <th>0</th>\n",
       "      <td>4.5</td>\n",
       "      <td>1.0</td>\n",
       "      <td>2009.0</td>\n",
       "      <td>6.0</td>\n",
       "      <td>15.0</td>\n",
       "      <td>0.0</td>\n",
       "      <td>17.0</td>\n",
       "      <td>1.030764</td>\n",
       "    </tr>\n",
       "    <tr>\n",
       "      <th>1</th>\n",
       "      <td>16.9</td>\n",
       "      <td>1.0</td>\n",
       "      <td>2010.0</td>\n",
       "      <td>1.0</td>\n",
       "      <td>5.0</td>\n",
       "      <td>1.0</td>\n",
       "      <td>16.0</td>\n",
       "      <td>8.450134</td>\n",
       "    </tr>\n",
       "    <tr>\n",
       "      <th>2</th>\n",
       "      <td>5.7</td>\n",
       "      <td>2.0</td>\n",
       "      <td>2011.0</td>\n",
       "      <td>8.0</td>\n",
       "      <td>18.0</td>\n",
       "      <td>3.0</td>\n",
       "      <td>0.0</td>\n",
       "      <td>1.389525</td>\n",
       "    </tr>\n",
       "    <tr>\n",
       "      <th>3</th>\n",
       "      <td>7.7</td>\n",
       "      <td>1.0</td>\n",
       "      <td>2012.0</td>\n",
       "      <td>4.0</td>\n",
       "      <td>21.0</td>\n",
       "      <td>5.0</td>\n",
       "      <td>4.0</td>\n",
       "      <td>2.799270</td>\n",
       "    </tr>\n",
       "    <tr>\n",
       "      <th>4</th>\n",
       "      <td>5.3</td>\n",
       "      <td>1.0</td>\n",
       "      <td>2010.0</td>\n",
       "      <td>3.0</td>\n",
       "      <td>9.0</td>\n",
       "      <td>1.0</td>\n",
       "      <td>7.0</td>\n",
       "      <td>1.999157</td>\n",
       "    </tr>\n",
       "  </tbody>\n",
       "</table>\n",
       "</div>"
      ],
      "text/plain": [
       "   fare_amount  passenger_count    Year  Month  Date  Day  Hour  distance\n",
       "0          4.5              1.0  2009.0    6.0  15.0  0.0  17.0  1.030764\n",
       "1         16.9              1.0  2010.0    1.0   5.0  1.0  16.0  8.450134\n",
       "2          5.7              2.0  2011.0    8.0  18.0  3.0   0.0  1.389525\n",
       "3          7.7              1.0  2012.0    4.0  21.0  5.0   4.0  2.799270\n",
       "4          5.3              1.0  2010.0    3.0   9.0  1.0   7.0  1.999157"
      ]
     },
     "execution_count": 95,
     "metadata": {},
     "output_type": "execute_result"
    }
   ],
   "source": [
    "train.head()"
   ]
  },
  {
   "cell_type": "code",
   "execution_count": 96,
   "id": "5cc33ba7-aa45-402a-9f3f-f5728d66444d",
   "metadata": {},
   "outputs": [
    {
     "data": {
      "text/plain": [
       "fare_amount        float64\n",
       "passenger_count    float64\n",
       "Year               float64\n",
       "Month              float64\n",
       "Date               float64\n",
       "Day                float64\n",
       "Hour               float64\n",
       "distance           float64\n",
       "dtype: object"
      ]
     },
     "execution_count": 96,
     "metadata": {},
     "output_type": "execute_result"
    }
   ],
   "source": [
    "train.dtypes"
   ]
  },
  {
   "cell_type": "code",
   "execution_count": 97,
   "id": "c3390167-2dde-4fb7-b257-4ab63d02f20e",
   "metadata": {},
   "outputs": [],
   "source": [
    "drop_columns = ['pickup_datetime', 'pickup_longitude', 'pickup_latitude', 'dropoff_longitude', 'dropoff_latitude', 'Minute']\n",
    "test = test.drop(drop_columns, axis = 1)"
   ]
  },
  {
   "cell_type": "code",
   "execution_count": 98,
   "id": "d6d1728e-6e8f-4094-8f37-d2ca780cdf91",
   "metadata": {},
   "outputs": [
    {
     "data": {
      "text/html": [
       "<div>\n",
       "<style scoped>\n",
       "    .dataframe tbody tr th:only-of-type {\n",
       "        vertical-align: middle;\n",
       "    }\n",
       "\n",
       "    .dataframe tbody tr th {\n",
       "        vertical-align: top;\n",
       "    }\n",
       "\n",
       "    .dataframe thead th {\n",
       "        text-align: right;\n",
       "    }\n",
       "</style>\n",
       "<table border=\"1\" class=\"dataframe\">\n",
       "  <thead>\n",
       "    <tr style=\"text-align: right;\">\n",
       "      <th></th>\n",
       "      <th>passenger_count</th>\n",
       "      <th>Year</th>\n",
       "      <th>Month</th>\n",
       "      <th>Date</th>\n",
       "      <th>Day</th>\n",
       "      <th>Hour</th>\n",
       "      <th>distance</th>\n",
       "    </tr>\n",
       "  </thead>\n",
       "  <tbody>\n",
       "    <tr>\n",
       "      <th>0</th>\n",
       "      <td>1</td>\n",
       "      <td>2015</td>\n",
       "      <td>1</td>\n",
       "      <td>27</td>\n",
       "      <td>1</td>\n",
       "      <td>13</td>\n",
       "      <td>2.323259</td>\n",
       "    </tr>\n",
       "    <tr>\n",
       "      <th>1</th>\n",
       "      <td>1</td>\n",
       "      <td>2015</td>\n",
       "      <td>1</td>\n",
       "      <td>27</td>\n",
       "      <td>1</td>\n",
       "      <td>13</td>\n",
       "      <td>2.425353</td>\n",
       "    </tr>\n",
       "    <tr>\n",
       "      <th>2</th>\n",
       "      <td>1</td>\n",
       "      <td>2011</td>\n",
       "      <td>10</td>\n",
       "      <td>8</td>\n",
       "      <td>5</td>\n",
       "      <td>11</td>\n",
       "      <td>0.618628</td>\n",
       "    </tr>\n",
       "    <tr>\n",
       "      <th>3</th>\n",
       "      <td>1</td>\n",
       "      <td>2012</td>\n",
       "      <td>12</td>\n",
       "      <td>1</td>\n",
       "      <td>5</td>\n",
       "      <td>21</td>\n",
       "      <td>1.961033</td>\n",
       "    </tr>\n",
       "    <tr>\n",
       "      <th>4</th>\n",
       "      <td>1</td>\n",
       "      <td>2012</td>\n",
       "      <td>12</td>\n",
       "      <td>1</td>\n",
       "      <td>5</td>\n",
       "      <td>21</td>\n",
       "      <td>5.387301</td>\n",
       "    </tr>\n",
       "  </tbody>\n",
       "</table>\n",
       "</div>"
      ],
      "text/plain": [
       "   passenger_count  Year  Month  Date  Day  Hour  distance\n",
       "0                1  2015      1    27    1    13  2.323259\n",
       "1                1  2015      1    27    1    13  2.425353\n",
       "2                1  2011     10     8    5    11  0.618628\n",
       "3                1  2012     12     1    5    21  1.961033\n",
       "4                1  2012     12     1    5    21  5.387301"
      ]
     },
     "execution_count": 98,
     "metadata": {},
     "output_type": "execute_result"
    }
   ],
   "source": [
    "test.head()"
   ]
  },
  {
   "cell_type": "code",
   "execution_count": 99,
   "id": "ee53e4c2-5d41-41b9-afd8-01beda38fce8",
   "metadata": {},
   "outputs": [
    {
     "data": {
      "text/plain": [
       "passenger_count      int64\n",
       "Year                 int32\n",
       "Month                int32\n",
       "Date                 int32\n",
       "Day                  int32\n",
       "Hour                 int32\n",
       "distance           float64\n",
       "dtype: object"
      ]
     },
     "execution_count": 99,
     "metadata": {},
     "output_type": "execute_result"
    }
   ],
   "source": [
    "test.dtypes"
   ]
  },
  {
   "cell_type": "code",
   "execution_count": 100,
   "id": "e8f2fdc2-67a4-4e6e-b23b-6273ae89f239",
   "metadata": {},
   "outputs": [],
   "source": [
    "# converting variables of float datatype to int datatype\n",
    "train[\"passenger_count\"] = train[\"passenger_count\"].astype('int64')\n",
    "train[\"Year\"] = train[\"Year\"].astype('int64')\n",
    "train[\"Month\"] = train[\"Month\"].astype('int64')\n",
    "train[\"Date\"] = train[\"Date\"].astype('int64')\n",
    "train[\"Day\"] = train[\"Day\"].astype('int64')\n",
    "train[\"Hour\"] = train[\"Hour\"].astype('int64')"
   ]
  },
  {
   "cell_type": "code",
   "execution_count": 101,
   "id": "2e9d26bb-6d78-4307-94e9-434025789fd4",
   "metadata": {},
   "outputs": [
    {
     "data": {
      "text/plain": [
       "fare_amount        float64\n",
       "passenger_count      int64\n",
       "Year                 int64\n",
       "Month                int64\n",
       "Date                 int64\n",
       "Day                  int64\n",
       "Hour                 int64\n",
       "distance           float64\n",
       "dtype: object"
      ]
     },
     "execution_count": 101,
     "metadata": {},
     "output_type": "execute_result"
    }
   ],
   "source": [
    "train.dtypes"
   ]
  },
  {
   "cell_type": "markdown",
   "id": "1c5ef90c-fee2-42dc-b36d-99004e3f52cd",
   "metadata": {},
   "source": [
    "## Data Visualization"
   ]
  },
  {
   "cell_type": "code",
   "execution_count": 103,
   "id": "c512d2c1-5aa0-4622-91b3-ae6bda3229d8",
   "metadata": {},
   "outputs": [],
   "source": [
    "# visualization of the following\n",
    "\n",
    "# 1 Number of passengers affecting the fare\n",
    "# 2. Pickup date and time affecting the fare\n",
    "# 3. Day of the week affecting the fare\n",
    "# 4. Distance affecting the fare"
   ]
  },
  {
   "cell_type": "code",
   "execution_count": 104,
   "id": "4de622ee-ecae-4c4c-acdd-fffee1c8c2eb",
   "metadata": {},
   "outputs": [
    {
     "data": {
      "text/plain": [
       "<Axes: xlabel='passenger_count', ylabel='count'>"
      ]
     },
     "execution_count": 104,
     "metadata": {},
     "output_type": "execute_result"
    },
    {
     "data": {
      "image/png": "[encoded data removed]",
      "text/plain": [
       "<Figure size 1500x500 with 1 Axes>"
      ]
     },
     "metadata": {},
     "output_type": "display_data"
    }
   ],
   "source": [
    "# counting the number of passenger vs number of rides\n",
    "plt.figure(figsize=(15,5))\n",
    "sns.countplot(x='passenger_count', hue='passenger_count', data=train, palette='viridis', legend=False)"
   ]
  },
  {
   "cell_type": "code",
   "execution_count": 105,
   "id": "31345019-e11e-4ed3-95fd-fa6ffeb94ecc",
   "metadata": {},
   "outputs": [],
   "source": [
    "# Single and double travelling passengers are the most frequent rides taken"
   ]
  },
  {
   "cell_type": "code",
   "execution_count": 106,
   "id": "55aba073-8bf2-4bf9-95d7-094a3415cd6a",
   "metadata": {},
   "outputs": [
    {
     "data": {
      "image/png": "[encoded data removed]",
      "text/plain": [
       "<Figure size 1500x500 with 2 Axes>"
      ]
     },
     "metadata": {},
     "output_type": "display_data"
    }
   ],
   "source": [
    "plt.figure(figsize=(15,5))\n",
    "scatter = plt.scatter(x=train['passenger_count'], \n",
    "                      y=train['fare_amount'], \n",
    "                      s=10, \n",
    "                      c=train['passenger_count'], \n",
    "                      cmap='coolwarm')  # Or 'plasma', 'coolwarm', etc.\n",
    "plt.colorbar(scatter, label='Passenger Count')  \n",
    "plt.xlabel('Number Of Passengers')\n",
    "plt.ylabel('Fare')\n",
    "plt.show()"
   ]
  },
  {
   "cell_type": "code",
   "execution_count": 107,
   "id": "1c79ec15-efde-403e-bd1f-8ae3180756a4",
   "metadata": {},
   "outputs": [],
   "source": [
    "# Singe and double travelling passenger rides had a maximum fare"
   ]
  },
  {
   "cell_type": "code",
   "execution_count": 108,
   "id": "9d25797b-85db-4aae-a1aa-e0f159d8dbcf",
   "metadata": {},
   "outputs": [
    {
     "data": {
      "image/png": "[encoded data removed]",
      "text/plain": [
       "<Figure size 1500x500 with 2 Axes>"
      ]
     },
     "metadata": {},
     "output_type": "display_data"
    }
   ],
   "source": [
    "plt.figure(figsize=(15,5))\n",
    "scatter = plt.scatter(\n",
    "    x=train['Date'], \n",
    "    y=train['fare_amount'], \n",
    "    s=10, \n",
    "    c=train['Date'].astype(int),  # map datetime to integers for coloring\n",
    "    cmap='plasma'  # try 'viridis', 'coolwarm', etc.\n",
    ")\n",
    "plt.colorbar(scatter, label='Time progression')  # Add colorbar\n",
    "plt.xlabel('Date')\n",
    "plt.ylabel('Fare')\n",
    "plt.show()"
   ]
  },
  {
   "cell_type": "code",
   "execution_count": 109,
   "id": "332fe860-4777-4560-b75f-576b4ca42ff3",
   "metadata": {},
   "outputs": [],
   "source": [
    "#  fare is almost equal on all the days of the month"
   ]
  },
  {
   "cell_type": "code",
   "execution_count": 110,
   "id": "60b1e195-ce65-4e61-a265-32b89a1f6d78",
   "metadata": {},
   "outputs": [
    {
     "data": {
      "image/png": "[encoded data removed]",
      "text/plain": [
       "<Figure size 1500x500 with 1 Axes>"
      ]
     },
     "metadata": {},
     "output_type": "display_data"
    }
   ],
   "source": [
    "# relationship between hour and fare\n",
    "plt.figure(figsize = (15,5))\n",
    "train.groupby(train['Hour'])['Hour'].count().plot(kind = \"bar\")\n",
    "plt.show()"
   ]
  },
  {
   "cell_type": "code",
   "execution_count": 111,
   "id": "4a493d99-2cbb-49c4-9fc4-9697b1fc6f28",
   "metadata": {},
   "outputs": [],
   "source": [
    "# lowest number of cabs at around 5am and highest number of cabs between 6pm to 7pm "
   ]
  },
  {
   "cell_type": "code",
   "execution_count": 112,
   "id": "e160a18f-34fe-4454-9f8b-d1adb1d1b571",
   "metadata": {},
   "outputs": [
    {
     "data": {
      "image/png": "[encoded data removed]",
      "text/plain": [
       "<Figure size 1500x500 with 1 Axes>"
      ]
     },
     "metadata": {},
     "output_type": "display_data"
    }
   ],
   "source": [
    "# relationship between time of the day and fare\n",
    "plt.figure(figsize = (15,5))\n",
    "plt.scatter(x = train['Hour'], y = train['fare_amount'], s =10)\n",
    "plt.xlabel('Hour')\n",
    "plt.ylabel('Fare')\n",
    "plt.show()"
   ]
  },
  {
   "cell_type": "code",
   "execution_count": 113,
   "id": "4790a96a-ebe8-47d8-95cd-ddc472bd768a",
   "metadata": {},
   "outputs": [],
   "source": [
    "# Fare is highest at 7am and around 11pm which tells the fare is highest in the early mornings and the late nights"
   ]
  },
  {
   "cell_type": "code",
   "execution_count": 222,
   "id": "ea720cfa-deb5-4dd8-986f-7db2a4051dbe",
   "metadata": {},
   "outputs": [
    {
     "data": {
      "text/plain": [
       "<Axes: xlabel='Day', ylabel='count'>"
      ]
     },
     "execution_count": 222,
     "metadata": {},
     "output_type": "execute_result"
    },
    {
     "data": {
      "image/png": "[encoded data removed]",
      "text/plain": [
       "<Figure size 1500x500 with 1 Axes>"
      ]
     },
     "metadata": {},
     "output_type": "display_data"
    }
   ],
   "source": [
    "# impact of the day on the cab rides\n",
    "plt.figure(figsize = (15,5))\n",
    "sns.countplot(x = 'Day', data = train)"
   ]
  },
  {
   "cell_type": "code",
   "execution_count": 218,
   "id": "60abe32d-2320-4bdd-a459-24d9ffb6aa9f",
   "metadata": {},
   "outputs": [],
   "source": [
    "# relatuionship between the day of the week ansd fare"
   ]
  },
  {
   "cell_type": "code",
   "execution_count": 224,
   "id": "cd7a729b-03e1-4736-95ab-ca72b0c39d97",
   "metadata": {},
   "outputs": [
    {
     "data": {
      "image/png": "[encoded data removed]",
      "text/plain": [
       "<Figure size 1500x500 with 1 Axes>"
      ]
     },
     "metadata": {},
     "output_type": "display_data"
    }
   ],
   "source": [
    "plt.figure(figsize = (15,5))\n",
    "plt.scatter(x = train['Day'], y = train['fare_amount'], s =10)\n",
    "plt.xlabel('Day')\n",
    "plt.ylabel('Fare')\n",
    "plt.show()"
   ]
  },
  {
   "cell_type": "code",
   "execution_count": 226,
   "id": "cb962f79-d43a-4582-bc41-6c343e2f0da6",
   "metadata": {},
   "outputs": [],
   "source": [
    "# the cab fares was highest on sunday, monday, thrusday while it was lowest on wednesday saturday\n",
    "# cabs rides were lowest"
   ]
  },
  {
   "cell_type": "code",
   "execution_count": 228,
   "id": "6bb71434-2e8a-42e5-8a4d-4c3555ce46f1",
   "metadata": {},
   "outputs": [],
   "source": [
    "# relationship between distance and fare"
   ]
  },
  {
   "cell_type": "code",
   "execution_count": 232,
   "id": "94bd300e-e90e-4415-a02d-d50a894381d3",
   "metadata": {},
   "outputs": [
    {
     "data": {
      "image/png": "[encoded data removed]",
      "text/plain": [
       "<Figure size 1500x500 with 1 Axes>"
      ]
     },
     "metadata": {},
     "output_type": "display_data"
    }
   ],
   "source": [
    "plt.figure(figsize = (15,5))\n",
    "plt.scatter(x = train['distance'], y = train['fare_amount'], s =10)\n",
    "plt.xlabel('Distance')\n",
    "plt.ylabel('Fare')\n",
    "plt.show()"
   ]
  },
  {
   "cell_type": "code",
   "execution_count": 234,
   "id": "c3409eb2-6a8a-40ae-8cea-d3a5477ba5e6",
   "metadata": {},
   "outputs": [],
   "source": [
    "# distance increases fare will also increases"
   ]
  },
  {
   "cell_type": "markdown",
   "id": "b09af013-dea1-466a-8ed5-84f6c94c4df4",
   "metadata": {},
   "source": [
    "## Feature Scaling"
   ]
  },
  {
   "cell_type": "code",
   "execution_count": 236,
   "id": "4b6e0d92-c1f5-408a-ad1a-983296ef53a3",
   "metadata": {},
   "outputs": [],
   "source": [
    "# normality check for the training data for the cab fare and distance"
   ]
  },
  {
   "cell_type": "code",
   "execution_count": 241,
   "id": "7d651072-2505-4b55-89c6-113ec156c88d",
   "metadata": {},
   "outputs": [
    {
     "name": "stdout",
     "output_type": "stream",
     "text": [
      "fare_amount\n"
     ]
    },
    {
     "data": {
      "image/png": "[encoded data removed]",
      "text/plain": [
       "<Figure size 640x480 with 1 Axes>"
      ]
     },
     "metadata": {},
     "output_type": "display_data"
    },
    {
     "name": "stdout",
     "output_type": "stream",
     "text": [
      "distance\n"
     ]
    },
    {
     "data": {
      "image/png": "[encoded data removed]",
      "text/plain": [
       "<Figure size 640x480 with 1 Axes>"
      ]
     },
     "metadata": {},
     "output_type": "display_data"
    }
   ],
   "source": [
    "for i in ['fare_amount', 'distance']:\n",
    "    print(i)\n",
    "    sns.histplot(train[i], bins='auto', color='green', kde=True)  # `kde=True` to mimic distplot's curve\n",
    "    plt.title(f\"Distribution For Variable {i}\")\n",
    "    plt.ylabel(\"Density\")\n",
    "    plt.show()"
   ]
  },
  {
   "cell_type": "code",
   "execution_count": 243,
   "id": "348d5260-2961-4b51-b7a4-e0e3ede421aa",
   "metadata": {},
   "outputs": [],
   "source": [
    "# since the fare amount is highly skewed applying log transformation to reduce the skewness\n",
    "train['fare_amount'] = np.log1p(train['fare_amount'])\n",
    "\n",
    "# since the distance is highly skewed applying log transformation to reduce the skewness\n",
    "train['distance'] = np.log1p(train['distance'])"
   ]
  },
  {
   "cell_type": "code",
   "execution_count": 259,
   "id": "a1bc2093-b15a-414d-bdd9-fbae770cdb63",
   "metadata": {},
   "outputs": [
    {
     "name": "stdout",
     "output_type": "stream",
     "text": [
      "fare_amount\n"
     ]
    },
    {
     "data": {
      "image/png": "[encoded data removed]",
      "text/plain": [
       "<Figure size 640x480 with 1 Axes>"
      ]
     },
     "metadata": {},
     "output_type": "display_data"
    },
    {
     "name": "stdout",
     "output_type": "stream",
     "text": [
      "distance\n"
     ]
    },
    {
     "data": {
      "image/png": "[encoded data removed]",
      "text/plain": [
       "<Figure size 640x480 with 1 Axes>"
      ]
     },
     "metadata": {},
     "output_type": "display_data"
    }
   ],
   "source": [
    "# normality re-check  the data is uniformly distributed or not after log transformation\n",
    "\n",
    "# Apply log transformation\n",
    "for i in ['fare_amount', 'distance']:\n",
    "    print(i)\n",
    "    train[i] = np.log1p(train[i])  # log1p(x) = log(1+x), safer for zeros\n",
    "    sns.histplot(train[i], bins='auto', color='green', kde=True)\n",
    "    plt.title(f\"Distribution For Variable {i} after Log Transformation\")\n",
    "    plt.ylabel(\"Density\")\n",
    "    plt.show()\n"
   ]
  },
  {
   "cell_type": "code",
   "execution_count": 267,
   "id": "89881257-e880-42d2-b26c-012fb6560df6",
   "metadata": {},
   "outputs": [
    {
     "name": "stdout",
     "output_type": "stream",
     "text": [
      "distance\n"
     ]
    },
    {
     "data": {
      "image/png": "[encoded data removed]",
      "text/plain": [
       "<Figure size 640x480 with 1 Axes>"
      ]
     },
     "metadata": {},
     "output_type": "display_data"
    }
   ],
   "source": [
    "# normality check for the test data for the cab fare and distance\n",
    "\n",
    "for i in ['distance']:\n",
    "    print(i)\n",
    "    sns.histplot(test[i], bins = 'auto', color = 'green', kde=True)\n",
    "    plt.title(\"Distribution For Variable \" +i)\n",
    "    plt.ylabel(\"Destiny\")\n",
    "    plt.show()"
   ]
  },
  {
   "cell_type": "code",
   "execution_count": 271,
   "id": "2312544d-9995-43a3-979e-058a8df9e34d",
   "metadata": {},
   "outputs": [
    {
     "name": "stdout",
     "output_type": "stream",
     "text": [
      "distance\n"
     ]
    },
    {
     "data": {
      "image/png": "[encoded data removed]",
      "text/plain": [
       "<Figure size 640x480 with 1 Axes>"
      ]
     },
     "metadata": {},
     "output_type": "display_data"
    }
   ],
   "source": [
    "# normality re-check  the data is uniformly distributed or not after log transformation\n",
    "\n",
    "# since the distance is highly skewed applying log transformation to reduce the skewness\n",
    "test['distance'] = np.log1p(test['distance'])\n",
    "\n",
    "for i in ['distance']:\n",
    "    print(i)\n",
    "    sns.histplot(test[i], bins = 'auto', color = 'green', kde=True)\n",
    "    plt.title(\"Distribution For Variable \" +i)\n",
    "    plt.ylabel(\"Destiny\")\n",
    "    plt.show()"
   ]
  },
  {
   "cell_type": "markdown",
   "id": "db8f8e58-376c-48be-a5fd-82f9a40b9197",
   "metadata": {},
   "source": [
    "after applying log transformation the skewed has already converted into normal distribution so there is no need for log standarization and normalization. We have already got the bell curve"
   ]
  },
  {
   "cell_type": "markdown",
   "id": "b91226b2-75ae-4756-9f7b-a710fe194c6e",
   "metadata": {},
   "source": [
    "## Data Modeling- applying Machine learning Algorithms"
   ]
  },
  {
   "cell_type": "code",
   "execution_count": 277,
   "id": "2a0d1c51-9bf2-4ad9-acc1-61965e11f371",
   "metadata": {},
   "outputs": [],
   "source": [
    "# applying train test split on the dataset\n",
    "x_train, x_test, y_train, y_test =  train_test_split(train.iloc[:,train.columns != 'fare_amount'], train.iloc[:, 0], test_size = 0.2, random_state = 1)"
   ]
  },
  {
   "cell_type": "code",
   "execution_count": 279,
   "id": "e2c51deb-1050-4289-bdec-f54d3c909f0e",
   "metadata": {},
   "outputs": [
    {
     "data": {
      "text/html": [
       "<div>\n",
       "<style scoped>\n",
       "    .dataframe tbody tr th:only-of-type {\n",
       "        vertical-align: middle;\n",
       "    }\n",
       "\n",
       "    .dataframe tbody tr th {\n",
       "        vertical-align: top;\n",
       "    }\n",
       "\n",
       "    .dataframe thead th {\n",
       "        text-align: right;\n",
       "    }\n",
       "</style>\n",
       "<table border=\"1\" class=\"dataframe\">\n",
       "  <thead>\n",
       "    <tr style=\"text-align: right;\">\n",
       "      <th></th>\n",
       "      <th>passenger_count</th>\n",
       "      <th>Year</th>\n",
       "      <th>Month</th>\n",
       "      <th>Date</th>\n",
       "      <th>Day</th>\n",
       "      <th>Hour</th>\n",
       "      <th>distance</th>\n",
       "    </tr>\n",
       "  </thead>\n",
       "  <tbody>\n",
       "    <tr>\n",
       "      <th>7690</th>\n",
       "      <td>2</td>\n",
       "      <td>2012</td>\n",
       "      <td>5</td>\n",
       "      <td>16</td>\n",
       "      <td>2</td>\n",
       "      <td>6</td>\n",
       "      <td>0.523626</td>\n",
       "    </tr>\n",
       "    <tr>\n",
       "      <th>13018</th>\n",
       "      <td>1</td>\n",
       "      <td>2014</td>\n",
       "      <td>7</td>\n",
       "      <td>11</td>\n",
       "      <td>4</td>\n",
       "      <td>10</td>\n",
       "      <td>0.386686</td>\n",
       "    </tr>\n",
       "    <tr>\n",
       "      <th>12950</th>\n",
       "      <td>3</td>\n",
       "      <td>2009</td>\n",
       "      <td>6</td>\n",
       "      <td>27</td>\n",
       "      <td>5</td>\n",
       "      <td>17</td>\n",
       "      <td>0.419251</td>\n",
       "    </tr>\n",
       "    <tr>\n",
       "      <th>14009</th>\n",
       "      <td>1</td>\n",
       "      <td>2009</td>\n",
       "      <td>6</td>\n",
       "      <td>12</td>\n",
       "      <td>4</td>\n",
       "      <td>15</td>\n",
       "      <td>0.304703</td>\n",
       "    </tr>\n",
       "    <tr>\n",
       "      <th>2816</th>\n",
       "      <td>5</td>\n",
       "      <td>2013</td>\n",
       "      <td>5</td>\n",
       "      <td>18</td>\n",
       "      <td>5</td>\n",
       "      <td>20</td>\n",
       "      <td>0.448599</td>\n",
       "    </tr>\n",
       "  </tbody>\n",
       "</table>\n",
       "</div>"
      ],
      "text/plain": [
       "       passenger_count  Year  Month  Date  Day  Hour  distance\n",
       "7690                 2  2012      5    16    2     6  0.523626\n",
       "13018                1  2014      7    11    4    10  0.386686\n",
       "12950                3  2009      6    27    5    17  0.419251\n",
       "14009                1  2009      6    12    4    15  0.304703\n",
       "2816                 5  2013      5    18    5    20  0.448599"
      ]
     },
     "execution_count": 279,
     "metadata": {},
     "output_type": "execute_result"
    }
   ],
   "source": [
    "x_train.head()"
   ]
  },
  {
   "cell_type": "code",
   "execution_count": 281,
   "id": "95dd4ef9-97e1-45b8-91b9-4dadecbbf27c",
   "metadata": {},
   "outputs": [
    {
     "data": {
      "text/html": [
       "<div>\n",
       "<style scoped>\n",
       "    .dataframe tbody tr th:only-of-type {\n",
       "        vertical-align: middle;\n",
       "    }\n",
       "\n",
       "    .dataframe tbody tr th {\n",
       "        vertical-align: top;\n",
       "    }\n",
       "\n",
       "    .dataframe thead th {\n",
       "        text-align: right;\n",
       "    }\n",
       "</style>\n",
       "<table border=\"1\" class=\"dataframe\">\n",
       "  <thead>\n",
       "    <tr style=\"text-align: right;\">\n",
       "      <th></th>\n",
       "      <th>passenger_count</th>\n",
       "      <th>Year</th>\n",
       "      <th>Month</th>\n",
       "      <th>Date</th>\n",
       "      <th>Day</th>\n",
       "      <th>Hour</th>\n",
       "      <th>distance</th>\n",
       "    </tr>\n",
       "  </thead>\n",
       "  <tbody>\n",
       "    <tr>\n",
       "      <th>1950</th>\n",
       "      <td>1</td>\n",
       "      <td>2011</td>\n",
       "      <td>6</td>\n",
       "      <td>17</td>\n",
       "      <td>4</td>\n",
       "      <td>9</td>\n",
       "      <td>0.397333</td>\n",
       "    </tr>\n",
       "    <tr>\n",
       "      <th>11386</th>\n",
       "      <td>1</td>\n",
       "      <td>2014</td>\n",
       "      <td>10</td>\n",
       "      <td>10</td>\n",
       "      <td>4</td>\n",
       "      <td>23</td>\n",
       "      <td>0.543901</td>\n",
       "    </tr>\n",
       "    <tr>\n",
       "      <th>9920</th>\n",
       "      <td>1</td>\n",
       "      <td>2012</td>\n",
       "      <td>11</td>\n",
       "      <td>13</td>\n",
       "      <td>1</td>\n",
       "      <td>20</td>\n",
       "      <td>0.598695</td>\n",
       "    </tr>\n",
       "    <tr>\n",
       "      <th>12161</th>\n",
       "      <td>5</td>\n",
       "      <td>2013</td>\n",
       "      <td>7</td>\n",
       "      <td>7</td>\n",
       "      <td>6</td>\n",
       "      <td>12</td>\n",
       "      <td>0.143614</td>\n",
       "    </tr>\n",
       "    <tr>\n",
       "      <th>13578</th>\n",
       "      <td>1</td>\n",
       "      <td>2013</td>\n",
       "      <td>8</td>\n",
       "      <td>15</td>\n",
       "      <td>3</td>\n",
       "      <td>13</td>\n",
       "      <td>0.500982</td>\n",
       "    </tr>\n",
       "  </tbody>\n",
       "</table>\n",
       "</div>"
      ],
      "text/plain": [
       "       passenger_count  Year  Month  Date  Day  Hour  distance\n",
       "1950                 1  2011      6    17    4     9  0.397333\n",
       "11386                1  2014     10    10    4    23  0.543901\n",
       "9920                 1  2012     11    13    1    20  0.598695\n",
       "12161                5  2013      7     7    6    12  0.143614\n",
       "13578                1  2013      8    15    3    13  0.500982"
      ]
     },
     "execution_count": 281,
     "metadata": {},
     "output_type": "execute_result"
    }
   ],
   "source": [
    "x_test.head()"
   ]
  },
  {
   "cell_type": "code",
   "execution_count": 283,
   "id": "0d4b8edd-5e87-4c38-aff9-ee13ae587c1d",
   "metadata": {},
   "outputs": [
    {
     "data": {
      "text/plain": [
       "7690     0.585142\n",
       "13018    0.555972\n",
       "12950    0.555972\n",
       "14009    0.516621\n",
       "2816     0.619516\n",
       "Name: fare_amount, dtype: float64"
      ]
     },
     "execution_count": 283,
     "metadata": {},
     "output_type": "execute_result"
    }
   ],
   "source": [
    "y_train.head()"
   ]
  },
  {
   "cell_type": "code",
   "execution_count": 285,
   "id": "75fb36ef-b858-4d5d-8544-b1d1a7d6471a",
   "metadata": {},
   "outputs": [
    {
     "data": {
      "text/plain": [
       "1950     0.550935\n",
       "11386    0.626940\n",
       "9920     0.644104\n",
       "12161    0.501527\n",
       "13578    0.606218\n",
       "Name: fare_amount, dtype: float64"
      ]
     },
     "execution_count": 285,
     "metadata": {},
     "output_type": "execute_result"
    }
   ],
   "source": [
    "y_test.head()"
   ]
  },
  {
   "cell_type": "code",
   "execution_count": 301,
   "id": "ec988ecf-e7c9-46af-9012-ae62c82a1ab1",
   "metadata": {},
   "outputs": [
    {
     "name": "stdout",
     "output_type": "stream",
     "text": [
      "(12339, 7)\n",
      "(3085, 7)\n"
     ]
    }
   ],
   "source": [
    "# Shape of the x dataset\n",
    "\n",
    "print(x_train.shape)\n",
    "print(x_test.shape)"
   ]
  },
  {
   "cell_type": "code",
   "execution_count": 299,
   "id": "3afdd539-0382-4beb-b683-11334e33ab02",
   "metadata": {},
   "outputs": [
    {
     "name": "stdout",
     "output_type": "stream",
     "text": [
      "(12339,)\n",
      "(3085,)\n"
     ]
    }
   ],
   "source": [
    "# Shape of y dataset\n",
    "\n",
    "print(y_train.shape)\n",
    "print(y_test.shape)"
   ]
  },
  {
   "cell_type": "markdown",
   "id": "81e19008-09de-4e85-aac4-d505fee5c391",
   "metadata": {},
   "source": [
    "### Linear Regression"
   ]
  },
  {
   "cell_type": "code",
   "execution_count": 304,
   "id": "b6221507-dcbc-4ff0-baac-a1fa54a75fa8",
   "metadata": {},
   "outputs": [],
   "source": [
    "# Building model on the top of the training dataset\n",
    "fit_LR = LinearRegression().fit(x_train, y_train)"
   ]
  },
  {
   "cell_type": "code",
   "execution_count": 306,
   "id": "fadde448-7894-45b6-865c-fe24551e88e3",
   "metadata": {},
   "outputs": [],
   "source": [
    "# prediction on the train data\n",
    "pred_train_LR = fit_LR.predict(x_train)"
   ]
  },
  {
   "cell_type": "code",
   "execution_count": 308,
   "id": "c1c0efca-7a63-4740-b528-66f9b33c46cd",
   "metadata": {},
   "outputs": [],
   "source": [
    "# prediction on the test data\n",
    "pred_test_LR = fit_LR.predict(x_test)"
   ]
  },
  {
   "cell_type": "code",
   "execution_count": 310,
   "id": "2e4b3776-45f9-406b-a396-7059612dbbdb",
   "metadata": {},
   "outputs": [],
   "source": [
    "# calculating RMSE for the test data\n",
    "RMSE_test_LR = np.sqrt(mean_squared_error(y_test, pred_test_LR))\n",
    "\n",
    "# calculating RMSE for the train data\n",
    "RMSE_train_LR = np.sqrt(mean_squared_error(y_train, pred_train_LR))"
   ]
  },
  {
   "cell_type": "code",
   "execution_count": 312,
   "id": "17970f5b-add2-4ba5-8f11-3d5232831442",
   "metadata": {},
   "outputs": [
    {
     "name": "stdout",
     "output_type": "stream",
     "text": [
      "ROOT MEAN SQUARE ERROR FOR THE TRAINING DATA = 0.022923022316534734\n",
      "ROOT MEAN SQUARE ERROR FOR THE TEST DATA = 0.021213848723564094\n"
     ]
    }
   ],
   "source": [
    "print(\"ROOT MEAN SQUARE ERROR FOR THE TRAINING DATA = \" + str(RMSE_train_LR))\n",
    "print(\"ROOT MEAN SQUARE ERROR FOR THE TEST DATA = \" + str(RMSE_test_LR))"
   ]
  },
  {
   "cell_type": "code",
   "execution_count": 314,
   "id": "55932c79-aadc-4545-bafd-ce50c871fc72",
   "metadata": {},
   "outputs": [
    {
     "data": {
      "text/plain": [
       "0.6610884488212615"
      ]
     },
     "execution_count": 314,
     "metadata": {},
     "output_type": "execute_result"
    }
   ],
   "source": [
    "# Calculate R^2 for the train data\n",
    "from sklearn.metrics import r2_score\n",
    "r2_score(y_train, pred_train_LR)"
   ]
  },
  {
   "cell_type": "code",
   "execution_count": 316,
   "id": "1201b465-ec37-4465-9ffc-49caae55641c",
   "metadata": {},
   "outputs": [
    {
     "data": {
      "text/plain": [
       "0.6947118993725208"
      ]
     },
     "execution_count": 316,
     "metadata": {},
     "output_type": "execute_result"
    }
   ],
   "source": [
    "r2_score(y_test, pred_test_LR)"
   ]
  },
  {
   "cell_type": "markdown",
   "id": "cf0b218b-627e-4108-b0ab-68766d21b552",
   "metadata": {},
   "source": [
    "### Decsion Tree Model"
   ]
  },
  {
   "cell_type": "code",
   "execution_count": 319,
   "id": "fc2f2837-bf40-49a6-ade9-2b927ce82511",
   "metadata": {},
   "outputs": [],
   "source": [
    "fit_DT = DecisionTreeRegressor(max_depth = 2).fit(x_train, y_train)"
   ]
  },
  {
   "cell_type": "code",
   "execution_count": 321,
   "id": "881d1e91-4a05-4491-9d6f-473181e74354",
   "metadata": {},
   "outputs": [],
   "source": [
    "# prediction on the test data\n",
    "pred_test_DT = fit_DT.predict(x_test)"
   ]
  },
  {
   "cell_type": "code",
   "execution_count": 323,
   "id": "3c4a0dee-927c-4796-bd80-69ce4c1f52c6",
   "metadata": {},
   "outputs": [],
   "source": [
    "# prediction on the train data\n",
    "pred_train_DT = fit_DT.predict(x_train)"
   ]
  },
  {
   "cell_type": "code",
   "execution_count": 325,
   "id": "9ca2c8b9-0c62-497b-ad6a-4e1e843a02ef",
   "metadata": {},
   "outputs": [],
   "source": [
    "# calculating RMSE for the test data\n",
    "RMSE_test_DT = np.sqrt(mean_squared_error(y_test, pred_test_DT))\n",
    "\n",
    "# calculating RMSE for the train data\n",
    "RMSE_train_DT = np.sqrt(mean_squared_error(y_train, pred_train_DT))"
   ]
  },
  {
   "cell_type": "code",
   "execution_count": 327,
   "id": "c29bd0a9-99ad-4286-94d6-c12651f70eaa",
   "metadata": {},
   "outputs": [
    {
     "name": "stdout",
     "output_type": "stream",
     "text": [
      "ROOT MEAN SQUARE ERROR FOR THE TRAINING DATA = 0.022176790007113114\n",
      "ROOT MEAN SQUARE ERROR FOR THE TEST DATA = 0.021466592982734106\n"
     ]
    }
   ],
   "source": [
    "print(\"ROOT MEAN SQUARE ERROR FOR THE TRAINING DATA = \" + str(RMSE_train_DT))\n",
    "print(\"ROOT MEAN SQUARE ERROR FOR THE TEST DATA = \" + str(RMSE_test_DT))"
   ]
  },
  {
   "cell_type": "code",
   "execution_count": 329,
   "id": "05579003-86a4-49b3-8900-23c8aaf926fc",
   "metadata": {},
   "outputs": [
    {
     "data": {
      "text/plain": [
       "0.6827950286661852"
      ]
     },
     "execution_count": 329,
     "metadata": {},
     "output_type": "execute_result"
    }
   ],
   "source": [
    "# Calculate R^2 for the train data\n",
    "from sklearn.metrics import r2_score\n",
    "r2_score(y_train, pred_train_DT)"
   ]
  },
  {
   "cell_type": "code",
   "execution_count": 331,
   "id": "09117abd-4a92-442b-989e-01881d4a91bb",
   "metadata": {},
   "outputs": [
    {
     "data": {
      "text/plain": [
       "0.6947118993725208"
      ]
     },
     "execution_count": 331,
     "metadata": {},
     "output_type": "execute_result"
    }
   ],
   "source": [
    "r2_score(y_test, pred_test_LR)"
   ]
  },
  {
   "cell_type": "markdown",
   "id": "e3a759f0-5d8e-4844-b254-c542b98dcb61",
   "metadata": {},
   "source": [
    "### Random Forest Model"
   ]
  },
  {
   "cell_type": "code",
   "execution_count": 334,
   "id": "993127bc-c777-4c74-8d94-2a8f8c24491a",
   "metadata": {},
   "outputs": [],
   "source": [
    "fit_RF = RandomForestRegressor(n_estimators = 200).fit(x_train, y_train)"
   ]
  },
  {
   "cell_type": "code",
   "execution_count": 335,
   "id": "f3fb1b17-740c-451d-ac62-213cf9d51405",
   "metadata": {},
   "outputs": [],
   "source": [
    "# prediction on the test data\n",
    "pred_test_RF = fit_RF.predict(x_test)"
   ]
  },
  {
   "cell_type": "code",
   "execution_count": 338,
   "id": "da1b5b12-b5cc-4063-98fa-d1c92d68c2b0",
   "metadata": {},
   "outputs": [],
   "source": [
    "# prediction on the train data\n",
    "pred_train_RF = fit_DT.predict(x_train)"
   ]
  },
  {
   "cell_type": "code",
   "execution_count": 340,
   "id": "446bd188-382e-4c56-96a7-38c1c6e8ea84",
   "metadata": {},
   "outputs": [],
   "source": [
    "# calculating RMSE for the test data\n",
    "RMSE_test_RF = np.sqrt(mean_squared_error(y_test, pred_test_RF))\n",
    "\n",
    "# calculating RMSE for the train data\n",
    "RMSE_train_RF = np.sqrt(mean_squared_error(y_train, pred_train_RF))"
   ]
  },
  {
   "cell_type": "code",
   "execution_count": 342,
   "id": "1a65d1ee-073a-49a8-a9b3-fd6f0bcd1f53",
   "metadata": {},
   "outputs": [
    {
     "name": "stdout",
     "output_type": "stream",
     "text": [
      "ROOT MEAN SQUARE ERROR FOR THE TRAINING DATA = 0.022176790007113114\n",
      "ROOT MEAN SQUARE ERROR FOR THE TEST DATA = 0.018435074264349267\n"
     ]
    }
   ],
   "source": [
    "print(\"ROOT MEAN SQUARE ERROR FOR THE TRAINING DATA = \" + str(RMSE_train_RF))\n",
    "print(\"ROOT MEAN SQUARE ERROR FOR THE TEST DATA = \" + str(RMSE_test_RF))"
   ]
  },
  {
   "cell_type": "code",
   "execution_count": 344,
   "id": "e7dff168-6e56-491b-a6b6-f2a19500293d",
   "metadata": {},
   "outputs": [
    {
     "data": {
      "text/plain": [
       "0.6827950286661852"
      ]
     },
     "execution_count": 344,
     "metadata": {},
     "output_type": "execute_result"
    }
   ],
   "source": [
    "# Calculate R^2 for the train data\n",
    "from sklearn.metrics import r2_score\n",
    "r2_score(y_train, pred_train_RF)"
   ]
  },
  {
   "cell_type": "code",
   "execution_count": 346,
   "id": "f4d33f8b-616b-4cf0-b4ce-dc038bd00c80",
   "metadata": {},
   "outputs": [
    {
     "data": {
      "text/plain": [
       "0.7694523367508252"
      ]
     },
     "execution_count": 346,
     "metadata": {},
     "output_type": "execute_result"
    }
   ],
   "source": [
    "r2_score(y_test, pred_test_RF)"
   ]
  },
  {
   "cell_type": "markdown",
   "id": "cf6a10e0-9f55-4ec1-93b4-c5cb4be4e79f",
   "metadata": {},
   "source": [
    "### Gradient Boosting"
   ]
  },
  {
   "cell_type": "code",
   "execution_count": 349,
   "id": "47db5d4b-7d26-491a-a75e-07aa95eb081c",
   "metadata": {},
   "outputs": [],
   "source": [
    "fit_GB = GradientBoostingRegressor().fit(x_train, y_train)"
   ]
  },
  {
   "cell_type": "code",
   "execution_count": 351,
   "id": "adff36ba-44e1-4679-815a-f195508ebc65",
   "metadata": {},
   "outputs": [],
   "source": [
    "# prediction on the test data\n",
    "pred_test_GB = fit_GB.predict(x_test)"
   ]
  },
  {
   "cell_type": "code",
   "execution_count": 353,
   "id": "d442dc99-7844-4c36-9a2d-c3835936c9e8",
   "metadata": {},
   "outputs": [],
   "source": [
    "# prediction on the train data\n",
    "pred_train_GB = fit_GB.predict(x_train)"
   ]
  },
  {
   "cell_type": "code",
   "execution_count": 355,
   "id": "fa3141ac-77a0-4b7c-a063-1e822cc61ca7",
   "metadata": {},
   "outputs": [],
   "source": [
    "# calculating RMSE for the test data\n",
    "RMSE_test_GB = np.sqrt(mean_squared_error(y_test, pred_test_GB))\n",
    "\n",
    "# calculating RMSE for the train data\n",
    "RMSE_train_GB = np.sqrt(mean_squared_error(y_train, pred_train_GB))"
   ]
  },
  {
   "cell_type": "code",
   "execution_count": 357,
   "id": "bc602066-bae4-4b9e-89d1-45e2b552d792",
   "metadata": {},
   "outputs": [
    {
     "name": "stdout",
     "output_type": "stream",
     "text": [
      "ROOT MEAN SQUARE ERROR FOR THE TRAINING DATA = 0.017125999603432168\n",
      "ROOT MEAN SQUARE ERROR FOR THE TEST DATA = 0.01781035578995156\n"
     ]
    }
   ],
   "source": [
    "print(\"ROOT MEAN SQUARE ERROR FOR THE TRAINING DATA = \" + str(RMSE_train_GB))\n",
    "print(\"ROOT MEAN SQUARE ERROR FOR THE TEST DATA = \" + str(RMSE_test_GB))"
   ]
  },
  {
   "cell_type": "code",
   "execution_count": 359,
   "id": "cb1e67ed-6e40-47a5-885e-231d4603fefb",
   "metadata": {},
   "outputs": [
    {
     "data": {
      "text/plain": [
       "0.8108290363985093"
      ]
     },
     "execution_count": 359,
     "metadata": {},
     "output_type": "execute_result"
    }
   ],
   "source": [
    "# Calculate R^2 for the train data\n",
    "from sklearn.metrics import r2_score\n",
    "r2_score(y_train, pred_train_GB)"
   ]
  },
  {
   "cell_type": "code",
   "execution_count": 361,
   "id": "677e1d65-e251-4b41-9fb9-960992c83418",
   "metadata": {},
   "outputs": [
    {
     "data": {
      "text/plain": [
       "0.7848129497697227"
      ]
     },
     "execution_count": 361,
     "metadata": {},
     "output_type": "execute_result"
    }
   ],
   "source": [
    "r2_score(y_test, pred_test_GB)"
   ]
  },
  {
   "cell_type": "markdown",
   "id": "a0cbdbb2-b669-4871-a5a7-27d216e6ffe6",
   "metadata": {},
   "source": [
    "###  Parameter Tuning"
   ]
  },
  {
   "cell_type": "code",
   "execution_count": 364,
   "id": "2282111d-db99-41e7-a622-814b465a2709",
   "metadata": {},
   "outputs": [
    {
     "name": "stdout",
     "output_type": "stream",
     "text": [
      "PARAMETER CURRENTLY IN USE :\n",
      "\n",
      "{'bootstrap': True,\n",
      " 'ccp_alpha': 0.0,\n",
      " 'criterion': 'squared_error',\n",
      " 'max_depth': None,\n",
      " 'max_features': 1.0,\n",
      " 'max_leaf_nodes': None,\n",
      " 'max_samples': None,\n",
      " 'min_impurity_decrease': 0.0,\n",
      " 'min_samples_leaf': 1,\n",
      " 'min_samples_split': 2,\n",
      " 'min_weight_fraction_leaf': 0.0,\n",
      " 'monotonic_cst': None,\n",
      " 'n_estimators': 100,\n",
      " 'n_jobs': None,\n",
      " 'oob_score': False,\n",
      " 'random_state': 42,\n",
      " 'verbose': 0,\n",
      " 'warm_start': False}\n"
     ]
    }
   ],
   "source": [
    "from sklearn.ensemble import RandomForestRegressor\n",
    "rf = RandomForestRegressor(random_state = 42)\n",
    "from pprint import pprint\n",
    "# look at parameter used by our current post\n",
    "print(\"PARAMETER CURRENTLY IN USE :\\n\")\n",
    "pprint(rf.get_params())"
   ]
  },
  {
   "cell_type": "code",
   "execution_count": 366,
   "id": "28a1490b-7844-4109-8169-5bd51fe3381e",
   "metadata": {},
   "outputs": [],
   "source": [
    "#  Random Hyperparameter Grid\n",
    "from sklearn.model_selection import train_test_split, RandomizedSearchCV"
   ]
  },
  {
   "cell_type": "code",
   "execution_count": 368,
   "id": "d80ef9a8-c39e-4fcd-a938-3543bf49e4ab",
   "metadata": {},
   "outputs": [
    {
     "name": "stdout",
     "output_type": "stream",
     "text": [
      "RANDOM SEARCH CV RANDOM FOREST REGRESSOR MODEL PERFORMANCE : \n",
      "BEST PARAMETERS =  {'n_estimators': 15, 'max_depth': 9}\n",
      "R-SQUARED = {:0.2} 0.7620036729996894\n",
      "RMSE =  0.018730512319879628\n"
     ]
    }
   ],
   "source": [
    "#  random search cv on random forest model\n",
    "RRF = RandomForestRegressor(random_state = 0)\n",
    "n_estimator = list(range(1,20,2))\n",
    "depth = list(range(1,100,2))\n",
    "# create a random grid\n",
    "rand_grid = {'n_estimators' : n_estimator, 'max_depth' : depth}\n",
    "\n",
    "randomcv_rf = RandomizedSearchCV(RRF, param_distributions = rand_grid, n_iter = 5, cv = 5, random_state = 0)\n",
    "random_rf = randomcv_rf.fit(x_train, y_train)\n",
    "predictions_RRF = randomcv_rf.predict(x_test)\n",
    "\n",
    "view_best_params_RRF = randomcv_rf.best_params_\n",
    "best_model = randomcv_rf.best_estimator_\n",
    "predictions_RRF = best_model.predict(x_test)\n",
    "\n",
    "# r^2\n",
    "RRF_r2 = r2_score(y_test, predictions_RRF)\n",
    "# calculating RMSE\n",
    "RRF_rmse = np.sqrt(mean_squared_error(y_test, predictions_RRF))\n",
    "print(\"RANDOM SEARCH CV RANDOM FOREST REGRESSOR MODEL PERFORMANCE : \")\n",
    "print(\"BEST PARAMETERS = \",view_best_params_RRF)\n",
    "print(\"R-SQUARED = {:0.2}\", format(RRF_r2))\n",
    "print(\"RMSE = \", RRF_rmse)"
   ]
  },
  {
   "cell_type": "code",
   "execution_count": 369,
   "id": "6878b2be-1f6c-47f9-9aff-464e84169704",
   "metadata": {},
   "outputs": [
    {
     "name": "stdout",
     "output_type": "stream",
     "text": [
      "PARAMETER CURRENTLY IN USE :\n",
      "\n",
      "{'bootstrap': True,\n",
      " 'ccp_alpha': 0.0,\n",
      " 'criterion': 'squared_error',\n",
      " 'max_depth': None,\n",
      " 'max_features': 1.0,\n",
      " 'max_leaf_nodes': None,\n",
      " 'max_samples': None,\n",
      " 'min_impurity_decrease': 0.0,\n",
      " 'min_samples_leaf': 1,\n",
      " 'min_samples_split': 2,\n",
      " 'min_weight_fraction_leaf': 0.0,\n",
      " 'monotonic_cst': None,\n",
      " 'n_estimators': 100,\n",
      " 'n_jobs': None,\n",
      " 'oob_score': False,\n",
      " 'random_state': 42,\n",
      " 'verbose': 0,\n",
      " 'warm_start': False}\n"
     ]
    }
   ],
   "source": [
    "gb = GradientBoostingRegressor(random_state = 42)\n",
    "from pprint import pprint\n",
    "# look at parameter used by our current post\n",
    "print(\"PARAMETER CURRENTLY IN USE :\\n\")\n",
    "pprint(rf.get_params())"
   ]
  },
  {
   "cell_type": "code",
   "execution_count": 372,
   "id": "42da155c-be78-43d8-bc82-043482b11b94",
   "metadata": {},
   "outputs": [
    {
     "name": "stdout",
     "output_type": "stream",
     "text": [
      "RANDOM SEARCH CV RANDOM FOREST REGRESSOR MODEL PERFORMANCE : \n",
      "BEST PARAMETERS =  {'n_estimators': 15, 'max_depth': 9}\n",
      "R-SQUARED = {:0.2} 0.7620036729996894\n",
      "RMSE =  0.018730512319879628\n"
     ]
    }
   ],
   "source": [
    "#  random search cv on random forest model\n",
    "gb = GradientBoostingRegressor(random_state = 0)\n",
    "n_estimator = list(range(1,20,2))\n",
    "depth = list(range(1,100,2))\n",
    "# create a random grid\n",
    "rand_grid = {'n_estimators' : n_estimator, 'max_depth' : depth}\n",
    "\n",
    "randomcv_gb = RandomizedSearchCV(RRF, param_distributions = rand_grid, n_iter = 5, cv = 5, random_state = 0)\n",
    "random_gb = randomcv_gb.fit(x_train, y_train)\n",
    "predictions_gb = randomcv_gb.predict(x_test)\n",
    "\n",
    "view_best_params_gb = randomcv_gb.best_params_\n",
    "best_model = randomcv_rf.best_estimator_\n",
    "predictions_gb = best_model.predict(x_test)\n",
    "\n",
    "# r^2\n",
    "gb_r2 = r2_score(y_test, predictions_gb)\n",
    "# calculating RMSE\n",
    "gb_rmse = np.sqrt(mean_squared_error(y_test, predictions_gb))\n",
    "print(\"RANDOM SEARCH CV RANDOM FOREST REGRESSOR MODEL PERFORMANCE : \")\n",
    "print(\"BEST PARAMETERS = \",view_best_params_gb)\n",
    "print(\"R-SQUARED = {:0.2}\", format(gb_r2))\n",
    "print(\"RMSE = \", gb_rmse)"
   ]
  },
  {
   "cell_type": "code",
   "execution_count": 373,
   "id": "4b679da8-5567-4b43-81b6-16dfe44f593d",
   "metadata": {},
   "outputs": [
    {
     "name": "stdout",
     "output_type": "stream",
     "text": [
      "GRID SEARCH CV RANDOM FOREST REGRESSOR MODEL PERFORMANCE : \n",
      "BEST PARAMETERS =  {'max_depth': 7, 'n_estimators': 16}\n",
      "R-SQUARED = {:0.2} 0.7662008255992898\n",
      "RMSE =  0.018564617933849108\n"
     ]
    }
   ],
   "source": [
    "# Grid Search CV on random forest\n",
    "\n",
    "GRF = RandomForestRegressor(random_state = 0)\n",
    "n_estimator = list(range(11,20,1))\n",
    "depth = list(range(5,15,2))\n",
    "# create a grid search\n",
    "grid_search = {'n_estimators' : n_estimator, 'max_depth' : depth}\n",
    "\n",
    "gridcv_rf = GridSearchCV(GRF, param_grid = grid_search, cv = 5)\n",
    "gridcv_RF = gridcv_rf.fit(x_train, y_train)\n",
    "predictions_GRF = gridcv_rf.predict(x_test)\n",
    "\n",
    "view_best_params_GRF = gridcv_RF.best_params_\n",
    "best_model = gridcv_RF.best_estimator_\n",
    "predictions_GRF = best_model.predict(x_test)\n",
    "\n",
    "# r^2\n",
    "GRF_r2 = r2_score(y_test, predictions_GRF)\n",
    "# calculating RMSE\n",
    "GRF_rmse = np.sqrt(mean_squared_error(y_test, predictions_GRF))\n",
    "print(\"GRID SEARCH CV RANDOM FOREST REGRESSOR MODEL PERFORMANCE : \")\n",
    "print(\"BEST PARAMETERS = \",view_best_params_GRF)\n",
    "print(\"R-SQUARED = {:0.2}\", format(GRF_r2))\n",
    "print(\"RMSE = \", GRF_rmse)"
   ]
  },
  {
   "cell_type": "code",
   "execution_count": 375,
   "id": "edcdfd77-71aa-4c71-a8fa-2343be298e61",
   "metadata": {},
   "outputs": [
    {
     "name": "stdout",
     "output_type": "stream",
     "text": [
      "GRID SEARCH CV GRADIENT BOOSTING REGRESSOR MODEL PERFORMANCE : \n",
      "BEST PARAMETERS =  {'max_depth': 5, 'n_estimators': 19}\n",
      "R-SQUARED = {:0.2} 0.7647256395482476\n",
      "RMSE =  0.018623093764540306\n"
     ]
    }
   ],
   "source": [
    "# Grid Search CV on Gardient Boosting\n",
    "\n",
    "GGB = GradientBoostingRegressor(random_state = 0)\n",
    "n_estimator = list(range(11,20,1))\n",
    "depth = list(range(5,15,2))\n",
    "# create a grid search\n",
    "grid_search = {'n_estimators' : n_estimator, 'max_depth' : depth}\n",
    "\n",
    "gridcv_gb = GridSearchCV(GGB, param_grid = grid_search, cv = 5)\n",
    "gridcv_GB = gridcv_gb.fit(x_train, y_train)\n",
    "predictions_GRF = gridcv_GB.predict(x_test)\n",
    "\n",
    "view_best_params_GGB = gridcv_GB.best_params_\n",
    "best_model = gridcv_GB.best_estimator_\n",
    "predictions_GGB = best_model.predict(x_test)\n",
    "\n",
    "# r^2\n",
    "GGB_r2 = r2_score(y_test, predictions_GGB)\n",
    "# calculating RMSE\n",
    "GGB_rmse = np.sqrt(mean_squared_error(y_test, predictions_GGB))\n",
    "print(\"GRID SEARCH CV GRADIENT BOOSTING REGRESSOR MODEL PERFORMANCE : \")\n",
    "print(\"BEST PARAMETERS = \",view_best_params_GGB)\n",
    "print(\"R-SQUARED = {:0.2}\", format(GGB_r2))\n",
    "print(\"RMSE = \", GGB_rmse)"
   ]
  },
  {
   "cell_type": "code",
   "execution_count": 376,
   "id": "7520a4a8-bf1f-40b2-868c-1c60852dc8aa",
   "metadata": {},
   "outputs": [
    {
     "data": {
      "text/plain": [
       "array([0.63141555, 0.63141555, 0.55204005, ..., 0.51948198, 0.60437626,\n",
       "       0.64600007])"
      ]
     },
     "execution_count": 376,
     "metadata": {},
     "output_type": "execute_result"
    }
   ],
   "source": [
    "# Prediction for the test dataset\n",
    "# Grid search cross validation for random forest\n",
    "\n",
    "regr = RandomForestRegressor(random_state = 0)\n",
    "n_estimator = list(range(11,20,1))\n",
    "depth = list(range(5,15,2))\n",
    "# create a grid search\n",
    "grid_search = {'n_estimators' : n_estimator, 'max_depth' : depth}\n",
    "# grid-search cross-validation for 5 fold cv\n",
    "gridcv_rf = GridSearchCV(regr, param_grid = grid_search, cv = 5)\n",
    "gridcv_RF = gridcv_rf.fit(x_train, y_train)\n",
    "view_best_params_GRF = gridcv_GB.best_params_\n",
    "# applying model on the test data\n",
    "predictions_GRF_test = gridcv_RF.predict(test)\n",
    "predictions_GRF_test"
   ]
  },
  {
   "cell_type": "code",
   "execution_count": 377,
   "id": "e27fee1a-7f17-4e26-a329-0e48a1339af4",
   "metadata": {},
   "outputs": [
    {
     "data": {
      "text/html": [
       "<div>\n",
       "<style scoped>\n",
       "    .dataframe tbody tr th:only-of-type {\n",
       "        vertical-align: middle;\n",
       "    }\n",
       "\n",
       "    .dataframe tbody tr th {\n",
       "        vertical-align: top;\n",
       "    }\n",
       "\n",
       "    .dataframe thead th {\n",
       "        text-align: right;\n",
       "    }\n",
       "</style>\n",
       "<table border=\"1\" class=\"dataframe\">\n",
       "  <thead>\n",
       "    <tr style=\"text-align: right;\">\n",
       "      <th></th>\n",
       "      <th>passenger_count</th>\n",
       "      <th>Year</th>\n",
       "      <th>Month</th>\n",
       "      <th>Date</th>\n",
       "      <th>Day</th>\n",
       "      <th>Hour</th>\n",
       "      <th>distance</th>\n",
       "      <th>Predicted_Fare</th>\n",
       "    </tr>\n",
       "  </thead>\n",
       "  <tbody>\n",
       "    <tr>\n",
       "      <th>0</th>\n",
       "      <td>1</td>\n",
       "      <td>2015</td>\n",
       "      <td>1</td>\n",
       "      <td>27</td>\n",
       "      <td>1</td>\n",
       "      <td>13</td>\n",
       "      <td>0.788887</td>\n",
       "      <td>0.631416</td>\n",
       "    </tr>\n",
       "    <tr>\n",
       "      <th>1</th>\n",
       "      <td>1</td>\n",
       "      <td>2015</td>\n",
       "      <td>1</td>\n",
       "      <td>27</td>\n",
       "      <td>1</td>\n",
       "      <td>13</td>\n",
       "      <td>0.802542</td>\n",
       "      <td>0.631416</td>\n",
       "    </tr>\n",
       "    <tr>\n",
       "      <th>2</th>\n",
       "      <td>1</td>\n",
       "      <td>2011</td>\n",
       "      <td>10</td>\n",
       "      <td>8</td>\n",
       "      <td>5</td>\n",
       "      <td>11</td>\n",
       "      <td>0.393108</td>\n",
       "      <td>0.552040</td>\n",
       "    </tr>\n",
       "    <tr>\n",
       "      <th>3</th>\n",
       "      <td>1</td>\n",
       "      <td>2012</td>\n",
       "      <td>12</td>\n",
       "      <td>1</td>\n",
       "      <td>5</td>\n",
       "      <td>21</td>\n",
       "      <td>0.735027</td>\n",
       "      <td>0.518641</td>\n",
       "    </tr>\n",
       "    <tr>\n",
       "      <th>4</th>\n",
       "      <td>1</td>\n",
       "      <td>2012</td>\n",
       "      <td>12</td>\n",
       "      <td>1</td>\n",
       "      <td>5</td>\n",
       "      <td>21</td>\n",
       "      <td>1.048831</td>\n",
       "      <td>0.518641</td>\n",
       "    </tr>\n",
       "  </tbody>\n",
       "</table>\n",
       "</div>"
      ],
      "text/plain": [
       "   passenger_count  Year  Month  Date  Day  Hour  distance  Predicted_Fare\n",
       "0                1  2015      1    27    1    13  0.788887        0.631416\n",
       "1                1  2015      1    27    1    13  0.802542        0.631416\n",
       "2                1  2011     10     8    5    11  0.393108        0.552040\n",
       "3                1  2012     12     1    5    21  0.735027        0.518641\n",
       "4                1  2012     12     1    5    21  1.048831        0.518641"
      ]
     },
     "execution_count": 377,
     "metadata": {},
     "output_type": "execute_result"
    }
   ],
   "source": [
    "test['Predicted_Fare'] = predictions_GRF_test\n",
    "test.head()"
   ]
  },
  {
   "cell_type": "code",
   "execution_count": 378,
   "id": "78df903d-3a33-47e1-b6ba-e1d2ffdc81e1",
   "metadata": {},
   "outputs": [],
   "source": [
    "test.to_csv('test.csv')"
   ]
  },
  {
   "cell_type": "code",
   "execution_count": null,
   "id": "da0a3ff6-0b80-497f-972c-5efa188db023",
   "metadata": {},
   "outputs": [],
   "source": []
  }
 ],
 "metadata": {
  "kernelspec": {
   "display_name": "Python 3 (ipykernel)",
   "language": "python",
   "name": "python3"
  },
  "language_info": {
   "codemirror_mode": {
    "name": "ipython",
    "version": 3
   },
   "file_extension": ".py",
   "mimetype": "text/x-python",
   "name": "python",
   "nbconvert_exporter": "python",
   "pygments_lexer": "ipython3",
   "version": "3.12.4"
  }
 },
 "nbformat": 4,
 "nbformat_minor": 5
}
